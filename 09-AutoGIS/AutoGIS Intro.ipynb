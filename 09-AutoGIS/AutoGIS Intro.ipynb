{
 "cells": [
  {
   "cell_type": "markdown",
   "id": "medium-spine",
   "metadata": {},
   "source": [
    "## Automating GIS Processing\n",
    "\n",
    "This series of lessons is about automating Geographic Information Systems (GIS) processes.  It draws directly from the excellent AutoGIS course developed by the University of Helsinki:\n",
    "\n",
    "https://automating-gis-processes.github.io/site/index.html"
   ]
  },
  {
   "cell_type": "markdown",
   "id": "genetic-differential",
   "metadata": {},
   "source": [
    "## 1 - Motivation\n",
    "\n",
    "https://automating-gis-processes.github.io/site/lessons/L1/Intro-Python-GIS.html"
   ]
  },
  {
   "cell_type": "markdown",
   "id": "written-following",
   "metadata": {},
   "source": [
    "## 2 - Installation\n",
    "\n",
    "https://automating-gis-processes.github.io/site/course-info/Installing_Anacondas_GIS.html\n",
    "\n",
    "See: Creating a new environment using conda"
   ]
  },
  {
   "cell_type": "markdown",
   "id": "latin-tiffany",
   "metadata": {},
   "source": [
    "## 3 - Lesson\n",
    "\n",
    "Clone from AutoGIS repo\n"
   ]
  },
  {
   "cell_type": "markdown",
   "id": "eligible-shoulder",
   "metadata": {},
   "source": [
    "## 4 - Exercise\n",
    "\n",
    "See notebooks here. "
   ]
  },
  {
   "cell_type": "code",
   "execution_count": null,
   "id": "nasty-celebration",
   "metadata": {},
   "outputs": [],
   "source": []
  }
 ],
 "metadata": {
  "kernelspec": {
   "display_name": "Python 3",
   "language": "python",
   "name": "python3"
  },
  "language_info": {
   "codemirror_mode": {
    "name": "ipython",
    "version": 3
   },
   "file_extension": ".py",
   "mimetype": "text/x-python",
   "name": "python",
   "nbconvert_exporter": "python",
   "pygments_lexer": "ipython3",
   "version": "3.9.2"
  }
 },
 "nbformat": 4,
 "nbformat_minor": 5
}
