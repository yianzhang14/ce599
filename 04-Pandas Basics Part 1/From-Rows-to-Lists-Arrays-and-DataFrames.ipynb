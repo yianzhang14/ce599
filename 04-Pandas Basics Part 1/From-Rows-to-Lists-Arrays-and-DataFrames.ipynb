{
 "cells": [
  {
   "cell_type": "markdown",
   "metadata": {},
   "source": [
    "# From Rows to Lists, Arrays, and DataFrames"
   ]
  },
  {
   "cell_type": "markdown",
   "metadata": {},
   "source": [
    "## Iterating Over Rows to Analyze Data"
   ]
  },
  {
   "cell_type": "markdown",
   "metadata": {},
   "source": [
    "So far we have learned how to iterate through the rows of a file in order to process each row, one at a time.  It has its limitations.  In this session we compare working with iteration over rows, to two alternatives: generating lists from the rows, and generating arrays using Numpy.  We close with an introduction to the pandas package, which we will begin using extensively.\n",
    "\n",
    "But first, let's ceate and then load a simple cvs file with one column, containing 50 random numbers between 0 and 1:"
   ]
  },
  {
   "cell_type": "markdown",
   "metadata": {},
   "source": [
    "The first task is to calculate a mean value of these numbers.  How can we do that?"
   ]
  },
  {
   "cell_type": "code",
   "execution_count": 1,
   "metadata": {
    "collapsed": false
   },
   "outputs": [
    {
     "output_type": "stream",
     "name": "stdout",
     "text": [
      "0.5244398067643136\n"
     ]
    }
   ],
   "source": [
    "import csv\n",
    "with open('random.csv', 'r') as csvfile:\n",
    "    i = 0\n",
    "    cumsum = 0\n",
    "    itemreader = csv.reader(csvfile)\n",
    "    for row in itemreader:\n",
    "        i = i+1\n",
    "        cumsum = cumsum+float(row[0])\n",
    "    mean = cumsum/i\n",
    "    print(mean)"
   ]
  },
  {
   "cell_type": "markdown",
   "metadata": {},
   "source": [
    "How about computing the min and max values?"
   ]
  },
  {
   "cell_type": "code",
   "execution_count": 3,
   "metadata": {
    "collapsed": false
   },
   "outputs": [
    {
     "output_type": "stream",
     "name": "stdout",
     "text": [
      "0.5244398067643136 0.025223651492324306 0.9466802390670823\n"
     ]
    }
   ],
   "source": [
    "import csv\n",
    "with open('random.csv', 'r') as csvfile:\n",
    "    i = 0\n",
    "    cumsum = 0\n",
    "    min = 1\n",
    "    max = 0\n",
    "    itemreader = csv.reader(csvfile)\n",
    "    for row in itemreader:\n",
    "        i = i+1\n",
    "        cumsum = cumsum+float(row[0])\n",
    "        if float(row[0])>max:\n",
    "            max = float(row[0])\n",
    "        if float(row[0])<min:\n",
    "            min = float(row[0])\n",
    "    mean = cumsum/i\n",
    "    print(mean, min, max)"
   ]
  },
  {
   "cell_type": "markdown",
   "metadata": {},
   "source": [
    "Now let's say we need to compute the median of these numbers.  Remember that a median is the value for which half of the observations are less and half are greater.  Any suggestions on how to code this using our iteration approach, and without resorting to creating a list?"
   ]
  },
  {
   "source": [
    "You could iterate through all the values and then iterate through the values again to find the number of values that are above and below it. The median would be the value for which the number of values greater than it is equal to the number of values less than it (give or take one based on even/odd lengths, need to find both of the values that satisfy these criteria and take their mean for the median of an even length list)."
   ],
   "cell_type": "markdown",
   "metadata": {
    "collapsed": false
   }
  },
  {
   "cell_type": "markdown",
   "metadata": {},
   "source": [
    "## A Note on Documentation\n",
    "\n",
    "Often we forget how to do something.  In that case, the python docs are our friend.  They can be found here: https://docs.python.org/3.5/\n",
    "\n",
    "In particular, note the language reference and the library reference.  Let's stop and take a look at each.  "
   ]
  },
  {
   "cell_type": "markdown",
   "metadata": {},
   "source": [
    "## Using Lists to Analyze Data"
   ]
  },
  {
   "cell_type": "markdown",
   "metadata": {},
   "source": [
    "Some things that are hard in the row iteration approach above, become easier if we can keep all of the values in one object, like a list.\n",
    "\n",
    "Let's revisit the problems above, by assembling the values from each row into a single list."
   ]
  },
  {
   "cell_type": "code",
   "execution_count": 7,
   "metadata": {
    "collapsed": false
   },
   "outputs": [
    {
     "output_type": "execute_result",
     "data": {
      "text/plain": [
       "[0.4093732012568684,\n",
       " 0.2605739881846625,\n",
       " 0.3292968362616999,\n",
       " 0.15369251587655286,\n",
       " 0.23329043078616352,\n",
       " 0.058375483652005955,\n",
       " 0.5332588448002981,\n",
       " 0.6687962527527715,\n",
       " 0.5332264351934751,\n",
       " 0.8415076456699467,\n",
       " 0.7979353969441536,\n",
       " 0.43233771794075715,\n",
       " 0.34754605289907725,\n",
       " 0.7466619516233285,\n",
       " 0.15813005775862143,\n",
       " 0.9466802390670823,\n",
       " 0.5818232321654557,\n",
       " 0.7928258464748998,\n",
       " 0.41998211394335083,\n",
       " 0.7683834129272147,\n",
       " 0.10818497591591836,\n",
       " 0.2572187926784939,\n",
       " 0.025223651492324306,\n",
       " 0.8997766344084331,\n",
       " 0.9202595213921237,\n",
       " 0.20619395888024705,\n",
       " 0.42389286424458084,\n",
       " 0.02584410137397719,\n",
       " 0.28533959437594425,\n",
       " 0.340806200755437,\n",
       " 0.25722464140666346,\n",
       " 0.3607105175611516,\n",
       " 0.5595361970394099,\n",
       " 0.13022521409946008,\n",
       " 0.8365338424691172,\n",
       " 0.7674578942113987,\n",
       " 0.9166277316995728,\n",
       " 0.10282324854265201,\n",
       " 0.8514145952338723,\n",
       " 0.9289184807191826,\n",
       " 0.4110611617848009,\n",
       " 0.0866924684400674,\n",
       " 0.8206823663887279,\n",
       " 0.9081734329877278,\n",
       " 0.7107543205262647,\n",
       " 0.8664969060282058,\n",
       " 0.7895386545113654,\n",
       " 0.6653522724979578,\n",
       " 0.8754264422252427,\n",
       " 0.8699019981469763]"
      ]
     },
     "metadata": {},
     "execution_count": 7
    }
   ],
   "source": [
    "import csv\n",
    "with open('random.csv', 'r') as csvfile:\n",
    "    x = []\n",
    "    itemreader = csv.reader(csvfile)\n",
    "    for row in itemreader:\n",
    "        x.append(float(row[0]))\n",
    "x"
   ]
  },
  {
   "cell_type": "markdown",
   "metadata": {},
   "source": [
    "X is now a single list object with all the values in the file, whereas initially we just had each row producing one list with one element in it (from one row), and then printing that, before recreating it with the value from the next row.  The iteration approach kept only one row at a time, and we could not easily do calculations like a median.\n",
    "\n",
    "Using the list (x), we should now have an easier time with mean and median calculations, using list methods like sum and len, and sort:"
   ]
  },
  {
   "cell_type": "code",
   "execution_count": 13,
   "metadata": {
    "collapsed": false
   },
   "outputs": [
    {
     "output_type": "stream",
     "name": "stdout",
     "text": [
      "0.5244398067643136\n"
     ]
    }
   ],
   "source": [
    "mean = sum(x)/len(x)\n",
    "print(mean)"
   ]
  },
  {
   "cell_type": "markdown",
   "metadata": {},
   "source": [
    "We can solve the median problem by sorting the list, and getting the value that is halfway through the list:"
   ]
  },
  {
   "cell_type": "code",
   "execution_count": 14,
   "metadata": {
    "collapsed": false
   },
   "outputs": [
    {
     "output_type": "stream",
     "name": "stdout",
     "text": [
      "0.5332588448002981\n"
     ]
    }
   ],
   "source": [
    "x.sort()\n",
    "median = x[int(len(x)/2)]\n",
    "print(median)"
   ]
  },
  {
   "cell_type": "markdown",
   "metadata": {},
   "source": [
    "It is also simple to get the min and max, using built-in list methods:"
   ]
  },
  {
   "cell_type": "code",
   "execution_count": 15,
   "metadata": {
    "collapsed": false
   },
   "outputs": [
    {
     "output_type": "execute_result",
     "data": {
      "text/plain": [
       "0.025223651492324306"
      ]
     },
     "metadata": {},
     "execution_count": 15
    }
   ],
   "source": [
    "min = x[0]\n",
    "min"
   ]
  },
  {
   "cell_type": "code",
   "execution_count": 16,
   "metadata": {
    "collapsed": false
   },
   "outputs": [
    {
     "output_type": "execute_result",
     "data": {
      "text/plain": [
       "0.9466802390670823"
      ]
     },
     "metadata": {},
     "execution_count": 16
    }
   ],
   "source": [
    "max = x[-1]\n",
    "max"
   ]
  },
  {
   "cell_type": "markdown",
   "metadata": {},
   "source": [
    "OK, this is progress.  Can we now do other math on the data, like multiply each value by 5?"
   ]
  },
  {
   "cell_type": "code",
   "execution_count": 17,
   "metadata": {
    "collapsed": false
   },
   "outputs": [
    {
     "output_type": "execute_result",
     "data": {
      "text/plain": [
       "[0.025223651492324306,\n",
       " 0.02584410137397719,\n",
       " 0.058375483652005955,\n",
       " 0.0866924684400674,\n",
       " 0.10282324854265201,\n",
       " 0.10818497591591836,\n",
       " 0.13022521409946008,\n",
       " 0.15369251587655286,\n",
       " 0.15813005775862143,\n",
       " 0.20619395888024705,\n",
       " 0.23329043078616352,\n",
       " 0.2572187926784939,\n",
       " 0.25722464140666346,\n",
       " 0.2605739881846625,\n",
       " 0.28533959437594425,\n",
       " 0.3292968362616999,\n",
       " 0.340806200755437,\n",
       " 0.34754605289907725,\n",
       " 0.3607105175611516,\n",
       " 0.4093732012568684,\n",
       " 0.4110611617848009,\n",
       " 0.41998211394335083,\n",
       " 0.42389286424458084,\n",
       " 0.43233771794075715,\n",
       " 0.5332264351934751,\n",
       " 0.5332588448002981,\n",
       " 0.5595361970394099,\n",
       " 0.5818232321654557,\n",
       " 0.6653522724979578,\n",
       " 0.6687962527527715,\n",
       " 0.7107543205262647,\n",
       " 0.7466619516233285,\n",
       " 0.7674578942113987,\n",
       " 0.7683834129272147,\n",
       " 0.7895386545113654,\n",
       " 0.7928258464748998,\n",
       " 0.7979353969441536,\n",
       " 0.8206823663887279,\n",
       " 0.8365338424691172,\n",
       " 0.8415076456699467,\n",
       " 0.8514145952338723,\n",
       " 0.8664969060282058,\n",
       " 0.8699019981469763,\n",
       " 0.8754264422252427,\n",
       " 0.8997766344084331,\n",
       " 0.9081734329877278,\n",
       " 0.9166277316995728,\n",
       " 0.9202595213921237,\n",
       " 0.9289184807191826,\n",
       " 0.9466802390670823,\n",
       " 0.025223651492324306,\n",
       " 0.02584410137397719,\n",
       " 0.058375483652005955,\n",
       " 0.0866924684400674,\n",
       " 0.10282324854265201,\n",
       " 0.10818497591591836,\n",
       " 0.13022521409946008,\n",
       " 0.15369251587655286,\n",
       " 0.15813005775862143,\n",
       " 0.20619395888024705,\n",
       " 0.23329043078616352,\n",
       " 0.2572187926784939,\n",
       " 0.25722464140666346,\n",
       " 0.2605739881846625,\n",
       " 0.28533959437594425,\n",
       " 0.3292968362616999,\n",
       " 0.340806200755437,\n",
       " 0.34754605289907725,\n",
       " 0.3607105175611516,\n",
       " 0.4093732012568684,\n",
       " 0.4110611617848009,\n",
       " 0.41998211394335083,\n",
       " 0.42389286424458084,\n",
       " 0.43233771794075715,\n",
       " 0.5332264351934751,\n",
       " 0.5332588448002981,\n",
       " 0.5595361970394099,\n",
       " 0.5818232321654557,\n",
       " 0.6653522724979578,\n",
       " 0.6687962527527715,\n",
       " 0.7107543205262647,\n",
       " 0.7466619516233285,\n",
       " 0.7674578942113987,\n",
       " 0.7683834129272147,\n",
       " 0.7895386545113654,\n",
       " 0.7928258464748998,\n",
       " 0.7979353969441536,\n",
       " 0.8206823663887279,\n",
       " 0.8365338424691172,\n",
       " 0.8415076456699467,\n",
       " 0.8514145952338723,\n",
       " 0.8664969060282058,\n",
       " 0.8699019981469763,\n",
       " 0.8754264422252427,\n",
       " 0.8997766344084331,\n",
       " 0.9081734329877278,\n",
       " 0.9166277316995728,\n",
       " 0.9202595213921237,\n",
       " 0.9289184807191826,\n",
       " 0.9466802390670823,\n",
       " 0.025223651492324306,\n",
       " 0.02584410137397719,\n",
       " 0.058375483652005955,\n",
       " 0.0866924684400674,\n",
       " 0.10282324854265201,\n",
       " 0.10818497591591836,\n",
       " 0.13022521409946008,\n",
       " 0.15369251587655286,\n",
       " 0.15813005775862143,\n",
       " 0.20619395888024705,\n",
       " 0.23329043078616352,\n",
       " 0.2572187926784939,\n",
       " 0.25722464140666346,\n",
       " 0.2605739881846625,\n",
       " 0.28533959437594425,\n",
       " 0.3292968362616999,\n",
       " 0.340806200755437,\n",
       " 0.34754605289907725,\n",
       " 0.3607105175611516,\n",
       " 0.4093732012568684,\n",
       " 0.4110611617848009,\n",
       " 0.41998211394335083,\n",
       " 0.42389286424458084,\n",
       " 0.43233771794075715,\n",
       " 0.5332264351934751,\n",
       " 0.5332588448002981,\n",
       " 0.5595361970394099,\n",
       " 0.5818232321654557,\n",
       " 0.6653522724979578,\n",
       " 0.6687962527527715,\n",
       " 0.7107543205262647,\n",
       " 0.7466619516233285,\n",
       " 0.7674578942113987,\n",
       " 0.7683834129272147,\n",
       " 0.7895386545113654,\n",
       " 0.7928258464748998,\n",
       " 0.7979353969441536,\n",
       " 0.8206823663887279,\n",
       " 0.8365338424691172,\n",
       " 0.8415076456699467,\n",
       " 0.8514145952338723,\n",
       " 0.8664969060282058,\n",
       " 0.8699019981469763,\n",
       " 0.8754264422252427,\n",
       " 0.8997766344084331,\n",
       " 0.9081734329877278,\n",
       " 0.9166277316995728,\n",
       " 0.9202595213921237,\n",
       " 0.9289184807191826,\n",
       " 0.9466802390670823,\n",
       " 0.025223651492324306,\n",
       " 0.02584410137397719,\n",
       " 0.058375483652005955,\n",
       " 0.0866924684400674,\n",
       " 0.10282324854265201,\n",
       " 0.10818497591591836,\n",
       " 0.13022521409946008,\n",
       " 0.15369251587655286,\n",
       " 0.15813005775862143,\n",
       " 0.20619395888024705,\n",
       " 0.23329043078616352,\n",
       " 0.2572187926784939,\n",
       " 0.25722464140666346,\n",
       " 0.2605739881846625,\n",
       " 0.28533959437594425,\n",
       " 0.3292968362616999,\n",
       " 0.340806200755437,\n",
       " 0.34754605289907725,\n",
       " 0.3607105175611516,\n",
       " 0.4093732012568684,\n",
       " 0.4110611617848009,\n",
       " 0.41998211394335083,\n",
       " 0.42389286424458084,\n",
       " 0.43233771794075715,\n",
       " 0.5332264351934751,\n",
       " 0.5332588448002981,\n",
       " 0.5595361970394099,\n",
       " 0.5818232321654557,\n",
       " 0.6653522724979578,\n",
       " 0.6687962527527715,\n",
       " 0.7107543205262647,\n",
       " 0.7466619516233285,\n",
       " 0.7674578942113987,\n",
       " 0.7683834129272147,\n",
       " 0.7895386545113654,\n",
       " 0.7928258464748998,\n",
       " 0.7979353969441536,\n",
       " 0.8206823663887279,\n",
       " 0.8365338424691172,\n",
       " 0.8415076456699467,\n",
       " 0.8514145952338723,\n",
       " 0.8664969060282058,\n",
       " 0.8699019981469763,\n",
       " 0.8754264422252427,\n",
       " 0.8997766344084331,\n",
       " 0.9081734329877278,\n",
       " 0.9166277316995728,\n",
       " 0.9202595213921237,\n",
       " 0.9289184807191826,\n",
       " 0.9466802390670823,\n",
       " 0.025223651492324306,\n",
       " 0.02584410137397719,\n",
       " 0.058375483652005955,\n",
       " 0.0866924684400674,\n",
       " 0.10282324854265201,\n",
       " 0.10818497591591836,\n",
       " 0.13022521409946008,\n",
       " 0.15369251587655286,\n",
       " 0.15813005775862143,\n",
       " 0.20619395888024705,\n",
       " 0.23329043078616352,\n",
       " 0.2572187926784939,\n",
       " 0.25722464140666346,\n",
       " 0.2605739881846625,\n",
       " 0.28533959437594425,\n",
       " 0.3292968362616999,\n",
       " 0.340806200755437,\n",
       " 0.34754605289907725,\n",
       " 0.3607105175611516,\n",
       " 0.4093732012568684,\n",
       " 0.4110611617848009,\n",
       " 0.41998211394335083,\n",
       " 0.42389286424458084,\n",
       " 0.43233771794075715,\n",
       " 0.5332264351934751,\n",
       " 0.5332588448002981,\n",
       " 0.5595361970394099,\n",
       " 0.5818232321654557,\n",
       " 0.6653522724979578,\n",
       " 0.6687962527527715,\n",
       " 0.7107543205262647,\n",
       " 0.7466619516233285,\n",
       " 0.7674578942113987,\n",
       " 0.7683834129272147,\n",
       " 0.7895386545113654,\n",
       " 0.7928258464748998,\n",
       " 0.7979353969441536,\n",
       " 0.8206823663887279,\n",
       " 0.8365338424691172,\n",
       " 0.8415076456699467,\n",
       " 0.8514145952338723,\n",
       " 0.8664969060282058,\n",
       " 0.8699019981469763,\n",
       " 0.8754264422252427,\n",
       " 0.8997766344084331,\n",
       " 0.9081734329877278,\n",
       " 0.9166277316995728,\n",
       " 0.9202595213921237,\n",
       " 0.9289184807191826,\n",
       " 0.9466802390670823]"
      ]
     },
     "metadata": {},
     "execution_count": 17
    }
   ],
   "source": [
    "y = x*5\n",
    "y"
   ]
  },
  {
   "cell_type": "markdown",
   "metadata": {},
   "source": [
    "Not what we wanted. That just concatenated 5 copies of the list together!\n",
    "\n",
    "Let's take a different approach."
   ]
  },
  {
   "cell_type": "code",
   "execution_count": 18,
   "metadata": {
    "collapsed": false
   },
   "outputs": [
    {
     "output_type": "execute_result",
     "data": {
      "text/plain": [
       "[0.12611825746162153,\n",
       " 0.12922050686988595,\n",
       " 0.2918774182600298,\n",
       " 0.43346234220033697,\n",
       " 0.5141162427132601,\n",
       " 0.5409248795795918,\n",
       " 0.6511260704973004,\n",
       " 0.7684625793827643,\n",
       " 0.7906502887931072,\n",
       " 1.0309697944012353,\n",
       " 1.1664521539308175,\n",
       " 1.2860939633924695,\n",
       " 1.2861232070333173,\n",
       " 1.3028699409233124,\n",
       " 1.4266979718797212,\n",
       " 1.6464841813084996,\n",
       " 1.7040310037771849,\n",
       " 1.7377302644953863,\n",
       " 1.803552587805758,\n",
       " 2.046866006284342,\n",
       " 2.0553058089240044,\n",
       " 2.099910569716754,\n",
       " 2.119464321222904,\n",
       " 2.1616885897037856,\n",
       " 2.6661321759673755,\n",
       " 2.6662942240014904,\n",
       " 2.79768098519705,\n",
       " 2.9091161608272786,\n",
       " 3.326761362489789,\n",
       " 3.3439812637638577,\n",
       " 3.5537716026313237,\n",
       " 3.7333097581166426,\n",
       " 3.837289471056993,\n",
       " 3.8419170646360734,\n",
       " 3.947693272556827,\n",
       " 3.964129232374499,\n",
       " 3.9896769847207683,\n",
       " 4.10341183194364,\n",
       " 4.182669212345586,\n",
       " 4.207538228349733,\n",
       " 4.257072976169361,\n",
       " 4.332484530141029,\n",
       " 4.349509990734882,\n",
       " 4.377132211126213,\n",
       " 4.498883172042166,\n",
       " 4.540867164938639,\n",
       " 4.583138658497864,\n",
       " 4.601297606960618,\n",
       " 4.644592403595913,\n",
       " 4.733401195335412]"
      ]
     },
     "metadata": {},
     "execution_count": 18
    }
   ],
   "source": [
    "y = []\n",
    "for item in range(len(x)):\n",
    "    y.append(x[item]*5)\n",
    "y"
   ]
  },
  {
   "cell_type": "markdown",
   "metadata": {},
   "source": [
    "Alright, this is a big improvement over the iteration over rows approach, but it is still a bit tedious.\n",
    "\n",
    "## Introducing Numpy\n",
    "\n",
    "Now let's look at the use of arrays, the basic data structure added by Numpy, a library that creates, manipultates, and analyzes n-dimensional array objects, or ndarrays.  We will refer to this datatype as array for short.\n",
    "\n",
    "When we're working with a library, it is nice to keep the documentation handy.  We can find the Numpy docs here: http://www.numpy.org/.  If you're unfamiliar with a new package, you might want to start from the tutorial to cover the basics.  \n",
    "\n",
    "Arrays can be created from any sequence-like object, such as a list of integers or floats, for example.  We start by creating one from a list of floats.  \n",
    "\n",
    "First, we have to import Numpy and will assign it a shorter name of np"
   ]
  },
  {
   "cell_type": "code",
   "execution_count": 19,
   "metadata": {
    "collapsed": false
   },
   "outputs": [
    {
     "output_type": "execute_result",
     "data": {
      "text/plain": [
       "array([3.2, 4.5, 8. , 9.9])"
      ]
     },
     "metadata": {},
     "execution_count": 19
    }
   ],
   "source": [
    "import numpy as np\n",
    "\n",
    "data1 = [3.2, 4.5, 8.0, 9.9]\n",
    "arr1 = np.array(data1)\n",
    "arr1"
   ]
  },
  {
   "cell_type": "markdown",
   "metadata": {},
   "source": [
    "Notice that if we pass a nested list of equal-length lists, we create a two-dimensional array:"
   ]
  },
  {
   "cell_type": "code",
   "execution_count": 20,
   "metadata": {
    "collapsed": false
   },
   "outputs": [
    {
     "output_type": "execute_result",
     "data": {
      "text/plain": [
       "array([[1.1, 2.2, 3.3],\n",
       "       [1.2, 2.3, 3.4]])"
      ]
     },
     "metadata": {},
     "execution_count": 20
    }
   ],
   "source": [
    "data2 = [[1.1, 2.2 ,3.3], [1.2, 2.3, 3.4]]\n",
    "arr2 = np.array(data2)\n",
    "arr2"
   ]
  },
  {
   "cell_type": "markdown",
   "metadata": {},
   "source": [
    "We can see its type, number of dimensions, size (number of elements), and shape (length of each dimension) as follows:"
   ]
  },
  {
   "cell_type": "code",
   "execution_count": 21,
   "metadata": {
    "collapsed": false
   },
   "outputs": [
    {
     "output_type": "execute_result",
     "data": {
      "text/plain": [
       "numpy.ndarray"
      ]
     },
     "metadata": {},
     "execution_count": 21
    }
   ],
   "source": [
    "type(arr2)"
   ]
  },
  {
   "cell_type": "code",
   "execution_count": 22,
   "metadata": {
    "collapsed": false
   },
   "outputs": [
    {
     "output_type": "execute_result",
     "data": {
      "text/plain": [
       "2"
      ]
     },
     "metadata": {},
     "execution_count": 22
    }
   ],
   "source": [
    "arr2.ndim"
   ]
  },
  {
   "cell_type": "code",
   "execution_count": 23,
   "metadata": {
    "collapsed": false
   },
   "outputs": [
    {
     "output_type": "execute_result",
     "data": {
      "text/plain": [
       "6"
      ]
     },
     "metadata": {},
     "execution_count": 23
    }
   ],
   "source": [
    "arr2.size"
   ]
  },
  {
   "cell_type": "code",
   "execution_count": 24,
   "metadata": {
    "collapsed": false
   },
   "outputs": [
    {
     "output_type": "execute_result",
     "data": {
      "text/plain": [
       "(2, 3)"
      ]
     },
     "metadata": {},
     "execution_count": 24
    }
   ],
   "source": [
    "arr2.shape"
   ]
  },
  {
   "cell_type": "markdown",
   "metadata": {},
   "source": [
    "We can check the data type of the contents of an array, or 'cast' it to a specified data type, like this:"
   ]
  },
  {
   "cell_type": "code",
   "execution_count": 25,
   "metadata": {
    "collapsed": false
   },
   "outputs": [
    {
     "output_type": "execute_result",
     "data": {
      "text/plain": [
       "dtype('float64')"
      ]
     },
     "metadata": {},
     "execution_count": 25
    }
   ],
   "source": [
    "arr2.dtype"
   ]
  },
  {
   "cell_type": "code",
   "execution_count": 26,
   "metadata": {
    "collapsed": false
   },
   "outputs": [
    {
     "output_type": "execute_result",
     "data": {
      "text/plain": [
       "dtype('int8')"
      ]
     },
     "metadata": {},
     "execution_count": 26
    }
   ],
   "source": [
    "arr3 = arr2.astype(np.int8)\n",
    "arr3.dtype"
   ]
  },
  {
   "cell_type": "markdown",
   "metadata": {},
   "source": [
    "The data type for the elements in an array are required to be the same.  Among other types, they can be int8, int16, int32, int64, float16, float32, float64, bool. They can also be strings of fixed length, but Numpy is mostly used for arrays of numeric data."
   ]
  },
  {
   "cell_type": "markdown",
   "metadata": {},
   "source": [
    "Recall the range method to generate a range of integers?  We can use an analogous method called arange in Numpy to create a multi-dimensional array:"
   ]
  },
  {
   "cell_type": "code",
   "execution_count": 27,
   "metadata": {
    "collapsed": false
   },
   "outputs": [
    {
     "output_type": "execute_result",
     "data": {
      "text/plain": [
       "array([[ 0,  1,  2,  3,  4],\n",
       "       [ 5,  6,  7,  8,  9],\n",
       "       [10, 11, 12, 13, 14]])"
      ]
     },
     "metadata": {},
     "execution_count": 27
    }
   ],
   "source": [
    "arr = np.arange(15).reshape(3,5)\n",
    "arr"
   ]
  },
  {
   "cell_type": "markdown",
   "metadata": {},
   "source": [
    "Below, we load the same csv file with random numbers that we loaded earlier, with a built-in Numpy method, genfromtext.  "
   ]
  },
  {
   "cell_type": "code",
   "execution_count": 28,
   "metadata": {
    "collapsed": false
   },
   "outputs": [
    {
     "output_type": "execute_result",
     "data": {
      "text/plain": [
       "array([0.4093732 , 0.26057399, 0.32929684, 0.15369252, 0.23329043,\n",
       "       0.05837548, 0.53325884, 0.66879625, 0.53322644, 0.84150765,\n",
       "       0.7979354 , 0.43233772, 0.34754605, 0.74666195, 0.15813006,\n",
       "       0.94668024, 0.58182323, 0.79282585, 0.41998211, 0.76838341,\n",
       "       0.10818498, 0.25721879, 0.02522365, 0.89977663, 0.92025952,\n",
       "       0.20619396, 0.42389286, 0.0258441 , 0.28533959, 0.3408062 ,\n",
       "       0.25722464, 0.36071052, 0.5595362 , 0.13022521, 0.83653384,\n",
       "       0.76745789, 0.91662773, 0.10282325, 0.8514146 , 0.92891848,\n",
       "       0.41106116, 0.08669247, 0.82068237, 0.90817343, 0.71075432,\n",
       "       0.86649691, 0.78953865, 0.66535227, 0.87542644, 0.869902  ])"
      ]
     },
     "metadata": {},
     "execution_count": 28
    }
   ],
   "source": [
    "a = np.genfromtxt('random.csv')\n",
    "a"
   ]
  },
  {
   "cell_type": "markdown",
   "metadata": {},
   "source": [
    "Numpy Arrays are objects of type ndarray, often just called arrays. They are a special data type that support fast, vectorized calculations.  Numpy calculations are actually computed in low-level C code behind the scenes, avoiding the need for iterative loops in Python, which are well known to be very slow compared to compiled languages like C, C++ or Fortran.\n",
    "\n",
    "Let's have a look at some of the built-in methods to explore Numpy arrays.\n",
    "\n",
    "First, instead of len, we have a size method that tells us how many elements are in the array."
   ]
  },
  {
   "cell_type": "code",
   "execution_count": 29,
   "metadata": {
    "collapsed": false
   },
   "outputs": [
    {
     "output_type": "execute_result",
     "data": {
      "text/plain": [
       "50"
      ]
     },
     "metadata": {},
     "execution_count": 29
    }
   ],
   "source": [
    "np.size(a)"
   ]
  },
  {
   "cell_type": "markdown",
   "metadata": {},
   "source": [
    "Next, we can explore the shape of an array.  If it is a single column, it shows as (length,).  If it is a single row, it shows up as (,length)."
   ]
  },
  {
   "cell_type": "code",
   "execution_count": 30,
   "metadata": {
    "collapsed": false
   },
   "outputs": [
    {
     "output_type": "execute_result",
     "data": {
      "text/plain": [
       "(50,)"
      ]
     },
     "metadata": {},
     "execution_count": 30
    }
   ],
   "source": [
    "np.shape(a)"
   ]
  },
  {
   "cell_type": "code",
   "execution_count": null,
   "metadata": {
    "collapsed": true
   },
   "outputs": [],
   "source": []
  },
  {
   "cell_type": "markdown",
   "metadata": {},
   "source": [
    "A lot of mathematical methods are readily built in to Numpy.  Here are a few for mean, standard deviation, variance, median, min, max, sum."
   ]
  },
  {
   "cell_type": "code",
   "execution_count": 31,
   "metadata": {
    "collapsed": false
   },
   "outputs": [
    {
     "output_type": "execute_result",
     "data": {
      "text/plain": [
       "0.5244398067643137"
      ]
     },
     "metadata": {},
     "execution_count": 31
    }
   ],
   "source": [
    "np.mean(a)"
   ]
  },
  {
   "cell_type": "code",
   "execution_count": 32,
   "metadata": {
    "collapsed": false
   },
   "outputs": [
    {
     "output_type": "execute_result",
     "data": {
      "text/plain": [
       "0.29945520509855145"
      ]
     },
     "metadata": {},
     "execution_count": 32
    }
   ],
   "source": [
    "np.std(a)"
   ]
  },
  {
   "cell_type": "code",
   "execution_count": 33,
   "metadata": {
    "collapsed": false
   },
   "outputs": [
    {
     "output_type": "execute_result",
     "data": {
      "text/plain": [
       "0.08967341986061551"
      ]
     },
     "metadata": {},
     "execution_count": 33
    }
   ],
   "source": [
    "np.var(a)"
   ]
  },
  {
   "cell_type": "code",
   "execution_count": 34,
   "metadata": {
    "collapsed": false
   },
   "outputs": [
    {
     "output_type": "execute_result",
     "data": {
      "text/plain": [
       "0.5332426399968866"
      ]
     },
     "metadata": {},
     "execution_count": 34
    }
   ],
   "source": [
    "np.median(a)"
   ]
  },
  {
   "cell_type": "code",
   "execution_count": 35,
   "metadata": {
    "collapsed": false
   },
   "outputs": [
    {
     "output_type": "execute_result",
     "data": {
      "text/plain": [
       "0.025223651492324306"
      ]
     },
     "metadata": {},
     "execution_count": 35
    }
   ],
   "source": [
    "np.min(a)"
   ]
  },
  {
   "cell_type": "code",
   "execution_count": 36,
   "metadata": {
    "collapsed": false
   },
   "outputs": [
    {
     "output_type": "execute_result",
     "data": {
      "text/plain": [
       "0.9466802390670823"
      ]
     },
     "metadata": {},
     "execution_count": 36
    }
   ],
   "source": [
    "np.max(a)"
   ]
  },
  {
   "cell_type": "code",
   "execution_count": 37,
   "metadata": {
    "collapsed": false
   },
   "outputs": [
    {
     "output_type": "execute_result",
     "data": {
      "text/plain": [
       "26.221990338215683"
      ]
     },
     "metadata": {},
     "execution_count": 37
    }
   ],
   "source": [
    "np.sum(a)"
   ]
  },
  {
   "cell_type": "markdown",
   "metadata": {},
   "source": [
    "Much easier than coding for loops and counters, don't you think?  And a lot faster on large datasets, too.\n",
    "\n",
    "Numpy also integrates very well with Matplotlib to generate charts.  Let's look at a sorted list of the elements in the array."
   ]
  },
  {
   "cell_type": "code",
   "execution_count": 38,
   "metadata": {
    "collapsed": false
   },
   "outputs": [
    {
     "output_type": "execute_result",
     "data": {
      "text/plain": [
       "[<matplotlib.lines.Line2D at 0x212599eee80>]"
      ]
     },
     "metadata": {},
     "execution_count": 38
    },
    {
     "output_type": "display_data",
     "data": {
      "text/plain": "<Figure size 432x288 with 1 Axes>",
      "image/svg+xml": "<?xml version=\"1.0\" encoding=\"utf-8\" standalone=\"no\"?>\r\n<!DOCTYPE svg PUBLIC \"-//W3C//DTD SVG 1.1//EN\"\r\n  \"http://www.w3.org/Graphics/SVG/1.1/DTD/svg11.dtd\">\r\n<!-- Created with matplotlib (https://matplotlib.org/) -->\r\n<svg height=\"248.518125pt\" version=\"1.1\" viewBox=\"0 0 372.103125 248.518125\" width=\"372.103125pt\" xmlns=\"http://www.w3.org/2000/svg\" xmlns:xlink=\"http://www.w3.org/1999/xlink\">\r\n <metadata>\r\n  <rdf:RDF xmlns:cc=\"http://creativecommons.org/ns#\" xmlns:dc=\"http://purl.org/dc/elements/1.1/\" xmlns:rdf=\"http://www.w3.org/1999/02/22-rdf-syntax-ns#\">\r\n   <cc:Work>\r\n    <dc:type rdf:resource=\"http://purl.org/dc/dcmitype/StillImage\"/>\r\n    <dc:date>2021-02-24T11:54:57.439364</dc:date>\r\n    <dc:format>image/svg+xml</dc:format>\r\n    <dc:creator>\r\n     <cc:Agent>\r\n      <dc:title>Matplotlib v3.3.2, https://matplotlib.org/</dc:title>\r\n     </cc:Agent>\r\n    </dc:creator>\r\n   </cc:Work>\r\n  </rdf:RDF>\r\n </metadata>\r\n <defs>\r\n  <style type=\"text/css\">*{stroke-linecap:butt;stroke-linejoin:round;}</style>\r\n </defs>\r\n <g id=\"figure_1\">\r\n  <g id=\"patch_1\">\r\n   <path d=\"M 0 248.518125 \r\nL 372.103125 248.518125 \r\nL 372.103125 0 \r\nL 0 0 \r\nz\r\n\" style=\"fill:none;\"/>\r\n  </g>\r\n  <g id=\"axes_1\">\r\n   <g id=\"patch_2\">\r\n    <path d=\"M 30.103125 224.64 \r\nL 364.903125 224.64 \r\nL 364.903125 7.2 \r\nL 30.103125 7.2 \r\nz\r\n\" style=\"fill:#ffffff;\"/>\r\n   </g>\r\n   <g id=\"matplotlib.axis_1\">\r\n    <g id=\"xtick_1\">\r\n     <g id=\"line2d_1\">\r\n      <defs>\r\n       <path d=\"M 0 0 \r\nL 0 3.5 \r\n\" id=\"m2f864ace6a\" style=\"stroke:#000000;stroke-width:0.8;\"/>\r\n      </defs>\r\n      <g>\r\n       <use style=\"stroke:#000000;stroke-width:0.8;\" x=\"45.321307\" xlink:href=\"#m2f864ace6a\" y=\"224.64\"/>\r\n      </g>\r\n     </g>\r\n     <g id=\"text_1\">\r\n      <!-- 0 -->\r\n      <g transform=\"translate(42.140057 239.238437)scale(0.1 -0.1)\">\r\n       <defs>\r\n        <path d=\"M 31.78125 66.40625 \r\nQ 24.171875 66.40625 20.328125 58.90625 \r\nQ 16.5 51.421875 16.5 36.375 \r\nQ 16.5 21.390625 20.328125 13.890625 \r\nQ 24.171875 6.390625 31.78125 6.390625 \r\nQ 39.453125 6.390625 43.28125 13.890625 \r\nQ 47.125 21.390625 47.125 36.375 \r\nQ 47.125 51.421875 43.28125 58.90625 \r\nQ 39.453125 66.40625 31.78125 66.40625 \r\nz\r\nM 31.78125 74.21875 \r\nQ 44.046875 74.21875 50.515625 64.515625 \r\nQ 56.984375 54.828125 56.984375 36.375 \r\nQ 56.984375 17.96875 50.515625 8.265625 \r\nQ 44.046875 -1.421875 31.78125 -1.421875 \r\nQ 19.53125 -1.421875 13.0625 8.265625 \r\nQ 6.59375 17.96875 6.59375 36.375 \r\nQ 6.59375 54.828125 13.0625 64.515625 \r\nQ 19.53125 74.21875 31.78125 74.21875 \r\nz\r\n\" id=\"DejaVuSans-48\"/>\r\n       </defs>\r\n       <use xlink:href=\"#DejaVuSans-48\"/>\r\n      </g>\r\n     </g>\r\n    </g>\r\n    <g id=\"xtick_2\">\r\n     <g id=\"line2d_2\">\r\n      <g>\r\n       <use style=\"stroke:#000000;stroke-width:0.8;\" x=\"107.436335\" xlink:href=\"#m2f864ace6a\" y=\"224.64\"/>\r\n      </g>\r\n     </g>\r\n     <g id=\"text_2\">\r\n      <!-- 10 -->\r\n      <g transform=\"translate(101.073835 239.238437)scale(0.1 -0.1)\">\r\n       <defs>\r\n        <path d=\"M 12.40625 8.296875 \r\nL 28.515625 8.296875 \r\nL 28.515625 63.921875 \r\nL 10.984375 60.40625 \r\nL 10.984375 69.390625 \r\nL 28.421875 72.90625 \r\nL 38.28125 72.90625 \r\nL 38.28125 8.296875 \r\nL 54.390625 8.296875 \r\nL 54.390625 0 \r\nL 12.40625 0 \r\nz\r\n\" id=\"DejaVuSans-49\"/>\r\n       </defs>\r\n       <use xlink:href=\"#DejaVuSans-49\"/>\r\n       <use x=\"63.623047\" xlink:href=\"#DejaVuSans-48\"/>\r\n      </g>\r\n     </g>\r\n    </g>\r\n    <g id=\"xtick_3\">\r\n     <g id=\"line2d_3\">\r\n      <g>\r\n       <use style=\"stroke:#000000;stroke-width:0.8;\" x=\"169.551362\" xlink:href=\"#m2f864ace6a\" y=\"224.64\"/>\r\n      </g>\r\n     </g>\r\n     <g id=\"text_3\">\r\n      <!-- 20 -->\r\n      <g transform=\"translate(163.188862 239.238437)scale(0.1 -0.1)\">\r\n       <defs>\r\n        <path d=\"M 19.1875 8.296875 \r\nL 53.609375 8.296875 \r\nL 53.609375 0 \r\nL 7.328125 0 \r\nL 7.328125 8.296875 \r\nQ 12.9375 14.109375 22.625 23.890625 \r\nQ 32.328125 33.6875 34.8125 36.53125 \r\nQ 39.546875 41.84375 41.421875 45.53125 \r\nQ 43.3125 49.21875 43.3125 52.78125 \r\nQ 43.3125 58.59375 39.234375 62.25 \r\nQ 35.15625 65.921875 28.609375 65.921875 \r\nQ 23.96875 65.921875 18.8125 64.3125 \r\nQ 13.671875 62.703125 7.8125 59.421875 \r\nL 7.8125 69.390625 \r\nQ 13.765625 71.78125 18.9375 73 \r\nQ 24.125 74.21875 28.421875 74.21875 \r\nQ 39.75 74.21875 46.484375 68.546875 \r\nQ 53.21875 62.890625 53.21875 53.421875 \r\nQ 53.21875 48.921875 51.53125 44.890625 \r\nQ 49.859375 40.875 45.40625 35.40625 \r\nQ 44.1875 33.984375 37.640625 27.21875 \r\nQ 31.109375 20.453125 19.1875 8.296875 \r\nz\r\n\" id=\"DejaVuSans-50\"/>\r\n       </defs>\r\n       <use xlink:href=\"#DejaVuSans-50\"/>\r\n       <use x=\"63.623047\" xlink:href=\"#DejaVuSans-48\"/>\r\n      </g>\r\n     </g>\r\n    </g>\r\n    <g id=\"xtick_4\">\r\n     <g id=\"line2d_4\">\r\n      <g>\r\n       <use style=\"stroke:#000000;stroke-width:0.8;\" x=\"231.66639\" xlink:href=\"#m2f864ace6a\" y=\"224.64\"/>\r\n      </g>\r\n     </g>\r\n     <g id=\"text_4\">\r\n      <!-- 30 -->\r\n      <g transform=\"translate(225.30389 239.238437)scale(0.1 -0.1)\">\r\n       <defs>\r\n        <path d=\"M 40.578125 39.3125 \r\nQ 47.65625 37.796875 51.625 33 \r\nQ 55.609375 28.21875 55.609375 21.1875 \r\nQ 55.609375 10.40625 48.1875 4.484375 \r\nQ 40.765625 -1.421875 27.09375 -1.421875 \r\nQ 22.515625 -1.421875 17.65625 -0.515625 \r\nQ 12.796875 0.390625 7.625 2.203125 \r\nL 7.625 11.71875 \r\nQ 11.71875 9.328125 16.59375 8.109375 \r\nQ 21.484375 6.890625 26.8125 6.890625 \r\nQ 36.078125 6.890625 40.9375 10.546875 \r\nQ 45.796875 14.203125 45.796875 21.1875 \r\nQ 45.796875 27.640625 41.28125 31.265625 \r\nQ 36.765625 34.90625 28.71875 34.90625 \r\nL 20.21875 34.90625 \r\nL 20.21875 43.015625 \r\nL 29.109375 43.015625 \r\nQ 36.375 43.015625 40.234375 45.921875 \r\nQ 44.09375 48.828125 44.09375 54.296875 \r\nQ 44.09375 59.90625 40.109375 62.90625 \r\nQ 36.140625 65.921875 28.71875 65.921875 \r\nQ 24.65625 65.921875 20.015625 65.03125 \r\nQ 15.375 64.15625 9.8125 62.3125 \r\nL 9.8125 71.09375 \r\nQ 15.4375 72.65625 20.34375 73.4375 \r\nQ 25.25 74.21875 29.59375 74.21875 \r\nQ 40.828125 74.21875 47.359375 69.109375 \r\nQ 53.90625 64.015625 53.90625 55.328125 \r\nQ 53.90625 49.265625 50.4375 45.09375 \r\nQ 46.96875 40.921875 40.578125 39.3125 \r\nz\r\n\" id=\"DejaVuSans-51\"/>\r\n       </defs>\r\n       <use xlink:href=\"#DejaVuSans-51\"/>\r\n       <use x=\"63.623047\" xlink:href=\"#DejaVuSans-48\"/>\r\n      </g>\r\n     </g>\r\n    </g>\r\n    <g id=\"xtick_5\">\r\n     <g id=\"line2d_5\">\r\n      <g>\r\n       <use style=\"stroke:#000000;stroke-width:0.8;\" x=\"293.781418\" xlink:href=\"#m2f864ace6a\" y=\"224.64\"/>\r\n      </g>\r\n     </g>\r\n     <g id=\"text_5\">\r\n      <!-- 40 -->\r\n      <g transform=\"translate(287.418918 239.238437)scale(0.1 -0.1)\">\r\n       <defs>\r\n        <path d=\"M 37.796875 64.3125 \r\nL 12.890625 25.390625 \r\nL 37.796875 25.390625 \r\nz\r\nM 35.203125 72.90625 \r\nL 47.609375 72.90625 \r\nL 47.609375 25.390625 \r\nL 58.015625 25.390625 \r\nL 58.015625 17.1875 \r\nL 47.609375 17.1875 \r\nL 47.609375 0 \r\nL 37.796875 0 \r\nL 37.796875 17.1875 \r\nL 4.890625 17.1875 \r\nL 4.890625 26.703125 \r\nz\r\n\" id=\"DejaVuSans-52\"/>\r\n       </defs>\r\n       <use xlink:href=\"#DejaVuSans-52\"/>\r\n       <use x=\"63.623047\" xlink:href=\"#DejaVuSans-48\"/>\r\n      </g>\r\n     </g>\r\n    </g>\r\n    <g id=\"xtick_6\">\r\n     <g id=\"line2d_6\">\r\n      <g>\r\n       <use style=\"stroke:#000000;stroke-width:0.8;\" x=\"355.896446\" xlink:href=\"#m2f864ace6a\" y=\"224.64\"/>\r\n      </g>\r\n     </g>\r\n     <g id=\"text_6\">\r\n      <!-- 50 -->\r\n      <g transform=\"translate(349.533946 239.238437)scale(0.1 -0.1)\">\r\n       <defs>\r\n        <path d=\"M 10.796875 72.90625 \r\nL 49.515625 72.90625 \r\nL 49.515625 64.59375 \r\nL 19.828125 64.59375 \r\nL 19.828125 46.734375 \r\nQ 21.96875 47.46875 24.109375 47.828125 \r\nQ 26.265625 48.1875 28.421875 48.1875 \r\nQ 40.625 48.1875 47.75 41.5 \r\nQ 54.890625 34.8125 54.890625 23.390625 \r\nQ 54.890625 11.625 47.5625 5.09375 \r\nQ 40.234375 -1.421875 26.90625 -1.421875 \r\nQ 22.3125 -1.421875 17.546875 -0.640625 \r\nQ 12.796875 0.140625 7.71875 1.703125 \r\nL 7.71875 11.625 \r\nQ 12.109375 9.234375 16.796875 8.0625 \r\nQ 21.484375 6.890625 26.703125 6.890625 \r\nQ 35.15625 6.890625 40.078125 11.328125 \r\nQ 45.015625 15.765625 45.015625 23.390625 \r\nQ 45.015625 31 40.078125 35.4375 \r\nQ 35.15625 39.890625 26.703125 39.890625 \r\nQ 22.75 39.890625 18.8125 39.015625 \r\nQ 14.890625 38.140625 10.796875 36.28125 \r\nz\r\n\" id=\"DejaVuSans-53\"/>\r\n       </defs>\r\n       <use xlink:href=\"#DejaVuSans-53\"/>\r\n       <use x=\"63.623047\" xlink:href=\"#DejaVuSans-48\"/>\r\n      </g>\r\n     </g>\r\n    </g>\r\n   </g>\r\n   <g id=\"matplotlib.axis_2\">\r\n    <g id=\"ytick_1\">\r\n     <g id=\"line2d_7\">\r\n      <defs>\r\n       <path d=\"M 0 0 \r\nL -3.5 0 \r\n\" id=\"m9585e1f4de\" style=\"stroke:#000000;stroke-width:0.8;\"/>\r\n      </defs>\r\n      <g>\r\n       <use style=\"stroke:#000000;stroke-width:0.8;\" x=\"30.103125\" xlink:href=\"#m9585e1f4de\" y=\"220.167392\"/>\r\n      </g>\r\n     </g>\r\n     <g id=\"text_7\">\r\n      <!-- 0.0 -->\r\n      <g transform=\"translate(7.2 223.966611)scale(0.1 -0.1)\">\r\n       <defs>\r\n        <path d=\"M 10.6875 12.40625 \r\nL 21 12.40625 \r\nL 21 0 \r\nL 10.6875 0 \r\nz\r\n\" id=\"DejaVuSans-46\"/>\r\n       </defs>\r\n       <use xlink:href=\"#DejaVuSans-48\"/>\r\n       <use x=\"63.623047\" xlink:href=\"#DejaVuSans-46\"/>\r\n       <use x=\"95.410156\" xlink:href=\"#DejaVuSans-48\"/>\r\n      </g>\r\n     </g>\r\n    </g>\r\n    <g id=\"ytick_2\">\r\n     <g id=\"line2d_8\">\r\n      <g>\r\n       <use style=\"stroke:#000000;stroke-width:0.8;\" x=\"30.103125\" xlink:href=\"#m9585e1f4de\" y=\"177.262989\"/>\r\n      </g>\r\n     </g>\r\n     <g id=\"text_8\">\r\n      <!-- 0.2 -->\r\n      <g transform=\"translate(7.2 181.062207)scale(0.1 -0.1)\">\r\n       <use xlink:href=\"#DejaVuSans-48\"/>\r\n       <use x=\"63.623047\" xlink:href=\"#DejaVuSans-46\"/>\r\n       <use x=\"95.410156\" xlink:href=\"#DejaVuSans-50\"/>\r\n      </g>\r\n     </g>\r\n    </g>\r\n    <g id=\"ytick_3\">\r\n     <g id=\"line2d_9\">\r\n      <g>\r\n       <use style=\"stroke:#000000;stroke-width:0.8;\" x=\"30.103125\" xlink:href=\"#m9585e1f4de\" y=\"134.358585\"/>\r\n      </g>\r\n     </g>\r\n     <g id=\"text_9\">\r\n      <!-- 0.4 -->\r\n      <g transform=\"translate(7.2 138.157804)scale(0.1 -0.1)\">\r\n       <use xlink:href=\"#DejaVuSans-48\"/>\r\n       <use x=\"63.623047\" xlink:href=\"#DejaVuSans-46\"/>\r\n       <use x=\"95.410156\" xlink:href=\"#DejaVuSans-52\"/>\r\n      </g>\r\n     </g>\r\n    </g>\r\n    <g id=\"ytick_4\">\r\n     <g id=\"line2d_10\">\r\n      <g>\r\n       <use style=\"stroke:#000000;stroke-width:0.8;\" x=\"30.103125\" xlink:href=\"#m9585e1f4de\" y=\"91.454181\"/>\r\n      </g>\r\n     </g>\r\n     <g id=\"text_10\">\r\n      <!-- 0.6 -->\r\n      <g transform=\"translate(7.2 95.2534)scale(0.1 -0.1)\">\r\n       <defs>\r\n        <path d=\"M 33.015625 40.375 \r\nQ 26.375 40.375 22.484375 35.828125 \r\nQ 18.609375 31.296875 18.609375 23.390625 \r\nQ 18.609375 15.53125 22.484375 10.953125 \r\nQ 26.375 6.390625 33.015625 6.390625 \r\nQ 39.65625 6.390625 43.53125 10.953125 \r\nQ 47.40625 15.53125 47.40625 23.390625 \r\nQ 47.40625 31.296875 43.53125 35.828125 \r\nQ 39.65625 40.375 33.015625 40.375 \r\nz\r\nM 52.59375 71.296875 \r\nL 52.59375 62.3125 \r\nQ 48.875 64.0625 45.09375 64.984375 \r\nQ 41.3125 65.921875 37.59375 65.921875 \r\nQ 27.828125 65.921875 22.671875 59.328125 \r\nQ 17.53125 52.734375 16.796875 39.40625 \r\nQ 19.671875 43.65625 24.015625 45.921875 \r\nQ 28.375 48.1875 33.59375 48.1875 \r\nQ 44.578125 48.1875 50.953125 41.515625 \r\nQ 57.328125 34.859375 57.328125 23.390625 \r\nQ 57.328125 12.15625 50.6875 5.359375 \r\nQ 44.046875 -1.421875 33.015625 -1.421875 \r\nQ 20.359375 -1.421875 13.671875 8.265625 \r\nQ 6.984375 17.96875 6.984375 36.375 \r\nQ 6.984375 53.65625 15.1875 63.9375 \r\nQ 23.390625 74.21875 37.203125 74.21875 \r\nQ 40.921875 74.21875 44.703125 73.484375 \r\nQ 48.484375 72.75 52.59375 71.296875 \r\nz\r\n\" id=\"DejaVuSans-54\"/>\r\n       </defs>\r\n       <use xlink:href=\"#DejaVuSans-48\"/>\r\n       <use x=\"63.623047\" xlink:href=\"#DejaVuSans-46\"/>\r\n       <use x=\"95.410156\" xlink:href=\"#DejaVuSans-54\"/>\r\n      </g>\r\n     </g>\r\n    </g>\r\n    <g id=\"ytick_5\">\r\n     <g id=\"line2d_11\">\r\n      <g>\r\n       <use style=\"stroke:#000000;stroke-width:0.8;\" x=\"30.103125\" xlink:href=\"#m9585e1f4de\" y=\"48.549777\"/>\r\n      </g>\r\n     </g>\r\n     <g id=\"text_11\">\r\n      <!-- 0.8 -->\r\n      <g transform=\"translate(7.2 52.348996)scale(0.1 -0.1)\">\r\n       <defs>\r\n        <path d=\"M 31.78125 34.625 \r\nQ 24.75 34.625 20.71875 30.859375 \r\nQ 16.703125 27.09375 16.703125 20.515625 \r\nQ 16.703125 13.921875 20.71875 10.15625 \r\nQ 24.75 6.390625 31.78125 6.390625 \r\nQ 38.8125 6.390625 42.859375 10.171875 \r\nQ 46.921875 13.96875 46.921875 20.515625 \r\nQ 46.921875 27.09375 42.890625 30.859375 \r\nQ 38.875 34.625 31.78125 34.625 \r\nz\r\nM 21.921875 38.8125 \r\nQ 15.578125 40.375 12.03125 44.71875 \r\nQ 8.5 49.078125 8.5 55.328125 \r\nQ 8.5 64.0625 14.71875 69.140625 \r\nQ 20.953125 74.21875 31.78125 74.21875 \r\nQ 42.671875 74.21875 48.875 69.140625 \r\nQ 55.078125 64.0625 55.078125 55.328125 \r\nQ 55.078125 49.078125 51.53125 44.71875 \r\nQ 48 40.375 41.703125 38.8125 \r\nQ 48.828125 37.15625 52.796875 32.3125 \r\nQ 56.78125 27.484375 56.78125 20.515625 \r\nQ 56.78125 9.90625 50.3125 4.234375 \r\nQ 43.84375 -1.421875 31.78125 -1.421875 \r\nQ 19.734375 -1.421875 13.25 4.234375 \r\nQ 6.78125 9.90625 6.78125 20.515625 \r\nQ 6.78125 27.484375 10.78125 32.3125 \r\nQ 14.796875 37.15625 21.921875 38.8125 \r\nz\r\nM 18.3125 54.390625 \r\nQ 18.3125 48.734375 21.84375 45.5625 \r\nQ 25.390625 42.390625 31.78125 42.390625 \r\nQ 38.140625 42.390625 41.71875 45.5625 \r\nQ 45.3125 48.734375 45.3125 54.390625 \r\nQ 45.3125 60.0625 41.71875 63.234375 \r\nQ 38.140625 66.40625 31.78125 66.40625 \r\nQ 25.390625 66.40625 21.84375 63.234375 \r\nQ 18.3125 60.0625 18.3125 54.390625 \r\nz\r\n\" id=\"DejaVuSans-56\"/>\r\n       </defs>\r\n       <use xlink:href=\"#DejaVuSans-48\"/>\r\n       <use x=\"63.623047\" xlink:href=\"#DejaVuSans-46\"/>\r\n       <use x=\"95.410156\" xlink:href=\"#DejaVuSans-56\"/>\r\n      </g>\r\n     </g>\r\n    </g>\r\n   </g>\r\n   <g id=\"line2d_12\">\r\n    <path clip-path=\"url(#p5c328fafb3)\" d=\"M 45.321307 214.756364 \r\nL 51.53281 214.623263 \r\nL 57.744312 207.644566 \r\nL 63.955815 201.569949 \r\nL 70.167318 198.109541 \r\nL 76.378821 196.959333 \r\nL 82.590324 192.231216 \r\nL 88.801826 187.196964 \r\nL 95.013329 186.245013 \r\nL 101.224832 175.934248 \r\nL 107.436335 170.121458 \r\nL 113.647837 164.988298 \r\nL 119.85934 164.987043 \r\nL 126.070843 164.268534 \r\nL 132.282346 158.955766 \r\nL 138.493849 149.52597 \r\nL 144.705351 147.056958 \r\nL 150.916854 145.611111 \r\nL 157.128357 142.787044 \r\nL 163.33986 132.347827 \r\nL 169.551362 131.985722 \r\nL 175.762865 130.071981 \r\nL 181.974368 129.233039 \r\nL 188.185871 127.421432 \r\nL 194.397374 105.778581 \r\nL 200.608876 105.771628 \r\nL 206.820379 100.134558 \r\nL 213.031882 95.353498 \r\nL 219.243385 77.43468 \r\nL 225.454888 76.69587 \r\nL 231.66639 67.694941 \r\nL 237.877893 59.991963 \r\nL 244.089396 55.530776 \r\nL 250.300899 55.332231 \r\nL 256.512401 50.793966 \r\nL 262.723904 50.088791 \r\nL 268.935407 48.99268 \r\nL 275.14691 44.112954 \r\nL 281.358413 40.712464 \r\nL 287.569915 39.645473 \r\nL 293.781418 37.520215 \r\nL 299.992921 34.284727 \r\nL 306.204424 33.55426 \r\nL 312.415926 32.369145 \r\nL 318.627429 27.145492 \r\nL 324.838932 25.344194 \r\nL 331.050435 23.530561 \r\nL 337.261938 22.751462 \r\nL 343.47344 20.893925 \r\nL 349.684943 17.083636 \r\n\" style=\"fill:none;stroke:#1f77b4;stroke-linecap:square;stroke-width:1.5;\"/>\r\n   </g>\r\n   <g id=\"patch_3\">\r\n    <path d=\"M 30.103125 224.64 \r\nL 30.103125 7.2 \r\n\" style=\"fill:none;stroke:#000000;stroke-linecap:square;stroke-linejoin:miter;stroke-width:0.8;\"/>\r\n   </g>\r\n   <g id=\"patch_4\">\r\n    <path d=\"M 364.903125 224.64 \r\nL 364.903125 7.2 \r\n\" style=\"fill:none;stroke:#000000;stroke-linecap:square;stroke-linejoin:miter;stroke-width:0.8;\"/>\r\n   </g>\r\n   <g id=\"patch_5\">\r\n    <path d=\"M 30.103125 224.64 \r\nL 364.903125 224.64 \r\n\" style=\"fill:none;stroke:#000000;stroke-linecap:square;stroke-linejoin:miter;stroke-width:0.8;\"/>\r\n   </g>\r\n   <g id=\"patch_6\">\r\n    <path d=\"M 30.103125 7.2 \r\nL 364.903125 7.2 \r\n\" style=\"fill:none;stroke:#000000;stroke-linecap:square;stroke-linejoin:miter;stroke-width:0.8;\"/>\r\n   </g>\r\n  </g>\r\n </g>\r\n <defs>\r\n  <clipPath id=\"p5c328fafb3\">\r\n   <rect height=\"217.44\" width=\"334.8\" x=\"30.103125\" y=\"7.2\"/>\r\n  </clipPath>\r\n </defs>\r\n</svg>\r\n",
      "image/png": "[encoded data removed]"
     },
     "metadata": {
      "needs_background": "light"
     }
    }
   ],
   "source": [
    "import matplotlib.pyplot as plt\n",
    "%matplotlib inline\n",
    "\n",
    "plt.plot(np.sort(a))"
   ]
  },
  {
   "cell_type": "code",
   "execution_count": 39,
   "metadata": {
    "collapsed": false
   },
   "outputs": [
    {
     "output_type": "execute_result",
     "data": {
      "text/plain": [
       "(array([6., 4., 5., 4., 5., 3., 3., 2., 9., 9.]),\n",
       " array([0.02522365, 0.11736931, 0.20951497, 0.30166063, 0.39380629,\n",
       "        0.48595195, 0.5780976 , 0.67024326, 0.76238892, 0.85453458,\n",
       "        0.94668024]),\n",
       " <BarContainer object of 10 artists>)"
      ]
     },
     "metadata": {},
     "execution_count": 39
    },
    {
     "output_type": "display_data",
     "data": {
      "text/plain": "<Figure size 432x288 with 1 Axes>",
      "image/svg+xml": "<?xml version=\"1.0\" encoding=\"utf-8\" standalone=\"no\"?>\r\n<!DOCTYPE svg PUBLIC \"-//W3C//DTD SVG 1.1//EN\"\r\n  \"http://www.w3.org/Graphics/SVG/1.1/DTD/svg11.dtd\">\r\n<!-- Created with matplotlib (https://matplotlib.org/) -->\r\n<svg height=\"248.518125pt\" version=\"1.1\" viewBox=\"0 0 362.5625 248.518125\" width=\"362.5625pt\" xmlns=\"http://www.w3.org/2000/svg\" xmlns:xlink=\"http://www.w3.org/1999/xlink\">\r\n <metadata>\r\n  <rdf:RDF xmlns:cc=\"http://creativecommons.org/ns#\" xmlns:dc=\"http://purl.org/dc/elements/1.1/\" xmlns:rdf=\"http://www.w3.org/1999/02/22-rdf-syntax-ns#\">\r\n   <cc:Work>\r\n    <dc:type rdf:resource=\"http://purl.org/dc/dcmitype/StillImage\"/>\r\n    <dc:date>2021-02-24T11:55:14.085105</dc:date>\r\n    <dc:format>image/svg+xml</dc:format>\r\n    <dc:creator>\r\n     <cc:Agent>\r\n      <dc:title>Matplotlib v3.3.2, https://matplotlib.org/</dc:title>\r\n     </cc:Agent>\r\n    </dc:creator>\r\n   </cc:Work>\r\n  </rdf:RDF>\r\n </metadata>\r\n <defs>\r\n  <style type=\"text/css\">*{stroke-linecap:butt;stroke-linejoin:round;}</style>\r\n </defs>\r\n <g id=\"figure_1\">\r\n  <g id=\"patch_1\">\r\n   <path d=\"M 0 248.518125 \r\nL 362.5625 248.518125 \r\nL 362.5625 0 \r\nL 0 0 \r\nz\r\n\" style=\"fill:none;\"/>\r\n  </g>\r\n  <g id=\"axes_1\">\r\n   <g id=\"patch_2\">\r\n    <path d=\"M 20.5625 224.64 \r\nL 355.3625 224.64 \r\nL 355.3625 7.2 \r\nL 20.5625 7.2 \r\nz\r\n\" style=\"fill:#ffffff;\"/>\r\n   </g>\r\n   <g id=\"patch_3\">\r\n    <path clip-path=\"url(#pac140f25f6)\" d=\"M 35.780682 224.64 \r\nL 66.217045 224.64 \r\nL 66.217045 86.582857 \r\nL 35.780682 86.582857 \r\nz\r\n\" style=\"fill:#1f77b4;\"/>\r\n   </g>\r\n   <g id=\"patch_4\">\r\n    <path clip-path=\"url(#pac140f25f6)\" d=\"M 66.217045 224.64 \r\nL 96.653409 224.64 \r\nL 96.653409 132.601905 \r\nL 66.217045 132.601905 \r\nz\r\n\" style=\"fill:#1f77b4;\"/>\r\n   </g>\r\n   <g id=\"patch_5\">\r\n    <path clip-path=\"url(#pac140f25f6)\" d=\"M 96.653409 224.64 \r\nL 127.089773 224.64 \r\nL 127.089773 109.592381 \r\nL 96.653409 109.592381 \r\nz\r\n\" style=\"fill:#1f77b4;\"/>\r\n   </g>\r\n   <g id=\"patch_6\">\r\n    <path clip-path=\"url(#pac140f25f6)\" d=\"M 127.089773 224.64 \r\nL 157.526136 224.64 \r\nL 157.526136 132.601905 \r\nL 127.089773 132.601905 \r\nz\r\n\" style=\"fill:#1f77b4;\"/>\r\n   </g>\r\n   <g id=\"patch_7\">\r\n    <path clip-path=\"url(#pac140f25f6)\" d=\"M 157.526136 224.64 \r\nL 187.9625 224.64 \r\nL 187.9625 109.592381 \r\nL 157.526136 109.592381 \r\nz\r\n\" style=\"fill:#1f77b4;\"/>\r\n   </g>\r\n   <g id=\"patch_8\">\r\n    <path clip-path=\"url(#pac140f25f6)\" d=\"M 187.9625 224.64 \r\nL 218.398864 224.64 \r\nL 218.398864 155.611429 \r\nL 187.9625 155.611429 \r\nz\r\n\" style=\"fill:#1f77b4;\"/>\r\n   </g>\r\n   <g id=\"patch_9\">\r\n    <path clip-path=\"url(#pac140f25f6)\" d=\"M 218.398864 224.64 \r\nL 248.835227 224.64 \r\nL 248.835227 155.611429 \r\nL 218.398864 155.611429 \r\nz\r\n\" style=\"fill:#1f77b4;\"/>\r\n   </g>\r\n   <g id=\"patch_10\">\r\n    <path clip-path=\"url(#pac140f25f6)\" d=\"M 248.835227 224.64 \r\nL 279.271591 224.64 \r\nL 279.271591 178.620952 \r\nL 248.835227 178.620952 \r\nz\r\n\" style=\"fill:#1f77b4;\"/>\r\n   </g>\r\n   <g id=\"patch_11\">\r\n    <path clip-path=\"url(#pac140f25f6)\" d=\"M 279.271591 224.64 \r\nL 309.707955 224.64 \r\nL 309.707955 17.554286 \r\nL 279.271591 17.554286 \r\nz\r\n\" style=\"fill:#1f77b4;\"/>\r\n   </g>\r\n   <g id=\"patch_12\">\r\n    <path clip-path=\"url(#pac140f25f6)\" d=\"M 309.707955 224.64 \r\nL 340.144318 224.64 \r\nL 340.144318 17.554286 \r\nL 309.707955 17.554286 \r\nz\r\n\" style=\"fill:#1f77b4;\"/>\r\n   </g>\r\n   <g id=\"matplotlib.axis_1\">\r\n    <g id=\"xtick_1\">\r\n     <g id=\"line2d_1\">\r\n      <defs>\r\n       <path d=\"M 0 0 \r\nL 0 3.5 \r\n\" id=\"m95b1c1aca8\" style=\"stroke:#000000;stroke-width:0.8;\"/>\r\n      </defs>\r\n      <g>\r\n       <use style=\"stroke:#000000;stroke-width:0.8;\" x=\"27.449131\" xlink:href=\"#m95b1c1aca8\" y=\"224.64\"/>\r\n      </g>\r\n     </g>\r\n     <g id=\"text_1\">\r\n      <!-- 0.0 -->\r\n      <g transform=\"translate(19.497569 239.238437)scale(0.1 -0.1)\">\r\n       <defs>\r\n        <path d=\"M 31.78125 66.40625 \r\nQ 24.171875 66.40625 20.328125 58.90625 \r\nQ 16.5 51.421875 16.5 36.375 \r\nQ 16.5 21.390625 20.328125 13.890625 \r\nQ 24.171875 6.390625 31.78125 6.390625 \r\nQ 39.453125 6.390625 43.28125 13.890625 \r\nQ 47.125 21.390625 47.125 36.375 \r\nQ 47.125 51.421875 43.28125 58.90625 \r\nQ 39.453125 66.40625 31.78125 66.40625 \r\nz\r\nM 31.78125 74.21875 \r\nQ 44.046875 74.21875 50.515625 64.515625 \r\nQ 56.984375 54.828125 56.984375 36.375 \r\nQ 56.984375 17.96875 50.515625 8.265625 \r\nQ 44.046875 -1.421875 31.78125 -1.421875 \r\nQ 19.53125 -1.421875 13.0625 8.265625 \r\nQ 6.59375 17.96875 6.59375 36.375 \r\nQ 6.59375 54.828125 13.0625 64.515625 \r\nQ 19.53125 74.21875 31.78125 74.21875 \r\nz\r\n\" id=\"DejaVuSans-48\"/>\r\n        <path d=\"M 10.6875 12.40625 \r\nL 21 12.40625 \r\nL 21 0 \r\nL 10.6875 0 \r\nz\r\n\" id=\"DejaVuSans-46\"/>\r\n       </defs>\r\n       <use xlink:href=\"#DejaVuSans-48\"/>\r\n       <use x=\"63.623047\" xlink:href=\"#DejaVuSans-46\"/>\r\n       <use x=\"95.410156\" xlink:href=\"#DejaVuSans-48\"/>\r\n      </g>\r\n     </g>\r\n    </g>\r\n    <g id=\"xtick_2\">\r\n     <g id=\"line2d_2\">\r\n      <g>\r\n       <use style=\"stroke:#000000;stroke-width:0.8;\" x=\"93.510547\" xlink:href=\"#m95b1c1aca8\" y=\"224.64\"/>\r\n      </g>\r\n     </g>\r\n     <g id=\"text_2\">\r\n      <!-- 0.2 -->\r\n      <g transform=\"translate(85.558985 239.238437)scale(0.1 -0.1)\">\r\n       <defs>\r\n        <path d=\"M 19.1875 8.296875 \r\nL 53.609375 8.296875 \r\nL 53.609375 0 \r\nL 7.328125 0 \r\nL 7.328125 8.296875 \r\nQ 12.9375 14.109375 22.625 23.890625 \r\nQ 32.328125 33.6875 34.8125 36.53125 \r\nQ 39.546875 41.84375 41.421875 45.53125 \r\nQ 43.3125 49.21875 43.3125 52.78125 \r\nQ 43.3125 58.59375 39.234375 62.25 \r\nQ 35.15625 65.921875 28.609375 65.921875 \r\nQ 23.96875 65.921875 18.8125 64.3125 \r\nQ 13.671875 62.703125 7.8125 59.421875 \r\nL 7.8125 69.390625 \r\nQ 13.765625 71.78125 18.9375 73 \r\nQ 24.125 74.21875 28.421875 74.21875 \r\nQ 39.75 74.21875 46.484375 68.546875 \r\nQ 53.21875 62.890625 53.21875 53.421875 \r\nQ 53.21875 48.921875 51.53125 44.890625 \r\nQ 49.859375 40.875 45.40625 35.40625 \r\nQ 44.1875 33.984375 37.640625 27.21875 \r\nQ 31.109375 20.453125 19.1875 8.296875 \r\nz\r\n\" id=\"DejaVuSans-50\"/>\r\n       </defs>\r\n       <use xlink:href=\"#DejaVuSans-48\"/>\r\n       <use x=\"63.623047\" xlink:href=\"#DejaVuSans-46\"/>\r\n       <use x=\"95.410156\" xlink:href=\"#DejaVuSans-50\"/>\r\n      </g>\r\n     </g>\r\n    </g>\r\n    <g id=\"xtick_3\">\r\n     <g id=\"line2d_3\">\r\n      <g>\r\n       <use style=\"stroke:#000000;stroke-width:0.8;\" x=\"159.571964\" xlink:href=\"#m95b1c1aca8\" y=\"224.64\"/>\r\n      </g>\r\n     </g>\r\n     <g id=\"text_3\">\r\n      <!-- 0.4 -->\r\n      <g transform=\"translate(151.620401 239.238437)scale(0.1 -0.1)\">\r\n       <defs>\r\n        <path d=\"M 37.796875 64.3125 \r\nL 12.890625 25.390625 \r\nL 37.796875 25.390625 \r\nz\r\nM 35.203125 72.90625 \r\nL 47.609375 72.90625 \r\nL 47.609375 25.390625 \r\nL 58.015625 25.390625 \r\nL 58.015625 17.1875 \r\nL 47.609375 17.1875 \r\nL 47.609375 0 \r\nL 37.796875 0 \r\nL 37.796875 17.1875 \r\nL 4.890625 17.1875 \r\nL 4.890625 26.703125 \r\nz\r\n\" id=\"DejaVuSans-52\"/>\r\n       </defs>\r\n       <use xlink:href=\"#DejaVuSans-48\"/>\r\n       <use x=\"63.623047\" xlink:href=\"#DejaVuSans-46\"/>\r\n       <use x=\"95.410156\" xlink:href=\"#DejaVuSans-52\"/>\r\n      </g>\r\n     </g>\r\n    </g>\r\n    <g id=\"xtick_4\">\r\n     <g id=\"line2d_4\">\r\n      <g>\r\n       <use style=\"stroke:#000000;stroke-width:0.8;\" x=\"225.63338\" xlink:href=\"#m95b1c1aca8\" y=\"224.64\"/>\r\n      </g>\r\n     </g>\r\n     <g id=\"text_4\">\r\n      <!-- 0.6 -->\r\n      <g transform=\"translate(217.681818 239.238437)scale(0.1 -0.1)\">\r\n       <defs>\r\n        <path d=\"M 33.015625 40.375 \r\nQ 26.375 40.375 22.484375 35.828125 \r\nQ 18.609375 31.296875 18.609375 23.390625 \r\nQ 18.609375 15.53125 22.484375 10.953125 \r\nQ 26.375 6.390625 33.015625 6.390625 \r\nQ 39.65625 6.390625 43.53125 10.953125 \r\nQ 47.40625 15.53125 47.40625 23.390625 \r\nQ 47.40625 31.296875 43.53125 35.828125 \r\nQ 39.65625 40.375 33.015625 40.375 \r\nz\r\nM 52.59375 71.296875 \r\nL 52.59375 62.3125 \r\nQ 48.875 64.0625 45.09375 64.984375 \r\nQ 41.3125 65.921875 37.59375 65.921875 \r\nQ 27.828125 65.921875 22.671875 59.328125 \r\nQ 17.53125 52.734375 16.796875 39.40625 \r\nQ 19.671875 43.65625 24.015625 45.921875 \r\nQ 28.375 48.1875 33.59375 48.1875 \r\nQ 44.578125 48.1875 50.953125 41.515625 \r\nQ 57.328125 34.859375 57.328125 23.390625 \r\nQ 57.328125 12.15625 50.6875 5.359375 \r\nQ 44.046875 -1.421875 33.015625 -1.421875 \r\nQ 20.359375 -1.421875 13.671875 8.265625 \r\nQ 6.984375 17.96875 6.984375 36.375 \r\nQ 6.984375 53.65625 15.1875 63.9375 \r\nQ 23.390625 74.21875 37.203125 74.21875 \r\nQ 40.921875 74.21875 44.703125 73.484375 \r\nQ 48.484375 72.75 52.59375 71.296875 \r\nz\r\n\" id=\"DejaVuSans-54\"/>\r\n       </defs>\r\n       <use xlink:href=\"#DejaVuSans-48\"/>\r\n       <use x=\"63.623047\" xlink:href=\"#DejaVuSans-46\"/>\r\n       <use x=\"95.410156\" xlink:href=\"#DejaVuSans-54\"/>\r\n      </g>\r\n     </g>\r\n    </g>\r\n    <g id=\"xtick_5\">\r\n     <g id=\"line2d_5\">\r\n      <g>\r\n       <use style=\"stroke:#000000;stroke-width:0.8;\" x=\"291.694796\" xlink:href=\"#m95b1c1aca8\" y=\"224.64\"/>\r\n      </g>\r\n     </g>\r\n     <g id=\"text_5\">\r\n      <!-- 0.8 -->\r\n      <g transform=\"translate(283.743234 239.238437)scale(0.1 -0.1)\">\r\n       <defs>\r\n        <path d=\"M 31.78125 34.625 \r\nQ 24.75 34.625 20.71875 30.859375 \r\nQ 16.703125 27.09375 16.703125 20.515625 \r\nQ 16.703125 13.921875 20.71875 10.15625 \r\nQ 24.75 6.390625 31.78125 6.390625 \r\nQ 38.8125 6.390625 42.859375 10.171875 \r\nQ 46.921875 13.96875 46.921875 20.515625 \r\nQ 46.921875 27.09375 42.890625 30.859375 \r\nQ 38.875 34.625 31.78125 34.625 \r\nz\r\nM 21.921875 38.8125 \r\nQ 15.578125 40.375 12.03125 44.71875 \r\nQ 8.5 49.078125 8.5 55.328125 \r\nQ 8.5 64.0625 14.71875 69.140625 \r\nQ 20.953125 74.21875 31.78125 74.21875 \r\nQ 42.671875 74.21875 48.875 69.140625 \r\nQ 55.078125 64.0625 55.078125 55.328125 \r\nQ 55.078125 49.078125 51.53125 44.71875 \r\nQ 48 40.375 41.703125 38.8125 \r\nQ 48.828125 37.15625 52.796875 32.3125 \r\nQ 56.78125 27.484375 56.78125 20.515625 \r\nQ 56.78125 9.90625 50.3125 4.234375 \r\nQ 43.84375 -1.421875 31.78125 -1.421875 \r\nQ 19.734375 -1.421875 13.25 4.234375 \r\nQ 6.78125 9.90625 6.78125 20.515625 \r\nQ 6.78125 27.484375 10.78125 32.3125 \r\nQ 14.796875 37.15625 21.921875 38.8125 \r\nz\r\nM 18.3125 54.390625 \r\nQ 18.3125 48.734375 21.84375 45.5625 \r\nQ 25.390625 42.390625 31.78125 42.390625 \r\nQ 38.140625 42.390625 41.71875 45.5625 \r\nQ 45.3125 48.734375 45.3125 54.390625 \r\nQ 45.3125 60.0625 41.71875 63.234375 \r\nQ 38.140625 66.40625 31.78125 66.40625 \r\nQ 25.390625 66.40625 21.84375 63.234375 \r\nQ 18.3125 60.0625 18.3125 54.390625 \r\nz\r\n\" id=\"DejaVuSans-56\"/>\r\n       </defs>\r\n       <use xlink:href=\"#DejaVuSans-48\"/>\r\n       <use x=\"63.623047\" xlink:href=\"#DejaVuSans-46\"/>\r\n       <use x=\"95.410156\" xlink:href=\"#DejaVuSans-56\"/>\r\n      </g>\r\n     </g>\r\n    </g>\r\n   </g>\r\n   <g id=\"matplotlib.axis_2\">\r\n    <g id=\"ytick_1\">\r\n     <g id=\"line2d_6\">\r\n      <defs>\r\n       <path d=\"M 0 0 \r\nL -3.5 0 \r\n\" id=\"m30d59de968\" style=\"stroke:#000000;stroke-width:0.8;\"/>\r\n      </defs>\r\n      <g>\r\n       <use style=\"stroke:#000000;stroke-width:0.8;\" x=\"20.5625\" xlink:href=\"#m30d59de968\" y=\"224.64\"/>\r\n      </g>\r\n     </g>\r\n     <g id=\"text_6\">\r\n      <!-- 0 -->\r\n      <g transform=\"translate(7.2 228.439219)scale(0.1 -0.1)\">\r\n       <use xlink:href=\"#DejaVuSans-48\"/>\r\n      </g>\r\n     </g>\r\n    </g>\r\n    <g id=\"ytick_2\">\r\n     <g id=\"line2d_7\">\r\n      <g>\r\n       <use style=\"stroke:#000000;stroke-width:0.8;\" x=\"20.5625\" xlink:href=\"#m30d59de968\" y=\"178.620952\"/>\r\n      </g>\r\n     </g>\r\n     <g id=\"text_7\">\r\n      <!-- 2 -->\r\n      <g transform=\"translate(7.2 182.420171)scale(0.1 -0.1)\">\r\n       <use xlink:href=\"#DejaVuSans-50\"/>\r\n      </g>\r\n     </g>\r\n    </g>\r\n    <g id=\"ytick_3\">\r\n     <g id=\"line2d_8\">\r\n      <g>\r\n       <use style=\"stroke:#000000;stroke-width:0.8;\" x=\"20.5625\" xlink:href=\"#m30d59de968\" y=\"132.601905\"/>\r\n      </g>\r\n     </g>\r\n     <g id=\"text_8\">\r\n      <!-- 4 -->\r\n      <g transform=\"translate(7.2 136.401124)scale(0.1 -0.1)\">\r\n       <use xlink:href=\"#DejaVuSans-52\"/>\r\n      </g>\r\n     </g>\r\n    </g>\r\n    <g id=\"ytick_4\">\r\n     <g id=\"line2d_9\">\r\n      <g>\r\n       <use style=\"stroke:#000000;stroke-width:0.8;\" x=\"20.5625\" xlink:href=\"#m30d59de968\" y=\"86.582857\"/>\r\n      </g>\r\n     </g>\r\n     <g id=\"text_9\">\r\n      <!-- 6 -->\r\n      <g transform=\"translate(7.2 90.382076)scale(0.1 -0.1)\">\r\n       <use xlink:href=\"#DejaVuSans-54\"/>\r\n      </g>\r\n     </g>\r\n    </g>\r\n    <g id=\"ytick_5\">\r\n     <g id=\"line2d_10\">\r\n      <g>\r\n       <use style=\"stroke:#000000;stroke-width:0.8;\" x=\"20.5625\" xlink:href=\"#m30d59de968\" y=\"40.56381\"/>\r\n      </g>\r\n     </g>\r\n     <g id=\"text_10\">\r\n      <!-- 8 -->\r\n      <g transform=\"translate(7.2 44.363028)scale(0.1 -0.1)\">\r\n       <use xlink:href=\"#DejaVuSans-56\"/>\r\n      </g>\r\n     </g>\r\n    </g>\r\n   </g>\r\n   <g id=\"patch_13\">\r\n    <path d=\"M 20.5625 224.64 \r\nL 20.5625 7.2 \r\n\" style=\"fill:none;stroke:#000000;stroke-linecap:square;stroke-linejoin:miter;stroke-width:0.8;\"/>\r\n   </g>\r\n   <g id=\"patch_14\">\r\n    <path d=\"M 355.3625 224.64 \r\nL 355.3625 7.2 \r\n\" style=\"fill:none;stroke:#000000;stroke-linecap:square;stroke-linejoin:miter;stroke-width:0.8;\"/>\r\n   </g>\r\n   <g id=\"patch_15\">\r\n    <path d=\"M 20.5625 224.64 \r\nL 355.3625 224.64 \r\n\" style=\"fill:none;stroke:#000000;stroke-linecap:square;stroke-linejoin:miter;stroke-width:0.8;\"/>\r\n   </g>\r\n   <g id=\"patch_16\">\r\n    <path d=\"M 20.5625 7.2 \r\nL 355.3625 7.2 \r\n\" style=\"fill:none;stroke:#000000;stroke-linecap:square;stroke-linejoin:miter;stroke-width:0.8;\"/>\r\n   </g>\r\n  </g>\r\n </g>\r\n <defs>\r\n  <clipPath id=\"pac140f25f6\">\r\n   <rect height=\"217.44\" width=\"334.8\" x=\"20.5625\" y=\"7.2\"/>\r\n  </clipPath>\r\n </defs>\r\n</svg>\r\n",
      "image/png": "[encoded data removed]"
     },
     "metadata": {
      "needs_background": "light"
     }
    }
   ],
   "source": [
    "plt.hist(a)"
   ]
  },
  {
   "cell_type": "markdown",
   "metadata": {},
   "source": [
    "The distribution above doesn't look very random, does it?  It seems to be intended as a uniform distribution from 0 to 1, but has a disproportionate samping from above 0.8.  Let's try generating larger samples and see if it looks more uniform."
   ]
  },
  {
   "cell_type": "code",
   "execution_count": 40,
   "metadata": {
    "collapsed": false
   },
   "outputs": [
    {
     "output_type": "execute_result",
     "data": {
      "text/plain": [
       "(array([9., 4., 3., 4., 6., 4., 5., 4., 3., 8.]),\n",
       " array([0.00670273, 0.1059851 , 0.20526748, 0.30454985, 0.40383223,\n",
       "        0.5031146 , 0.60239698, 0.70167935, 0.80096173, 0.9002441 ,\n",
       "        0.99952648]),\n",
       " <BarContainer object of 10 artists>)"
      ]
     },
     "metadata": {},
     "execution_count": 40
    },
    {
     "output_type": "display_data",
     "data": {
      "text/plain": "<Figure size 432x288 with 1 Axes>",
      "image/svg+xml": "<?xml version=\"1.0\" encoding=\"utf-8\" standalone=\"no\"?>\r\n<!DOCTYPE svg PUBLIC \"-//W3C//DTD SVG 1.1//EN\"\r\n  \"http://www.w3.org/Graphics/SVG/1.1/DTD/svg11.dtd\">\r\n<!-- Created with matplotlib (https://matplotlib.org/) -->\r\n<svg height=\"248.518125pt\" version=\"1.1\" viewBox=\"0 0 362.5625 248.518125\" width=\"362.5625pt\" xmlns=\"http://www.w3.org/2000/svg\" xmlns:xlink=\"http://www.w3.org/1999/xlink\">\r\n <metadata>\r\n  <rdf:RDF xmlns:cc=\"http://creativecommons.org/ns#\" xmlns:dc=\"http://purl.org/dc/elements/1.1/\" xmlns:rdf=\"http://www.w3.org/1999/02/22-rdf-syntax-ns#\">\r\n   <cc:Work>\r\n    <dc:type rdf:resource=\"http://purl.org/dc/dcmitype/StillImage\"/>\r\n    <dc:date>2021-02-24T11:55:20.637577</dc:date>\r\n    <dc:format>image/svg+xml</dc:format>\r\n    <dc:creator>\r\n     <cc:Agent>\r\n      <dc:title>Matplotlib v3.3.2, https://matplotlib.org/</dc:title>\r\n     </cc:Agent>\r\n    </dc:creator>\r\n   </cc:Work>\r\n  </rdf:RDF>\r\n </metadata>\r\n <defs>\r\n  <style type=\"text/css\">*{stroke-linecap:butt;stroke-linejoin:round;}</style>\r\n </defs>\r\n <g id=\"figure_1\">\r\n  <g id=\"patch_1\">\r\n   <path d=\"M 0 248.518125 \r\nL 362.5625 248.518125 \r\nL 362.5625 0 \r\nL 0 0 \r\nz\r\n\" style=\"fill:none;\"/>\r\n  </g>\r\n  <g id=\"axes_1\">\r\n   <g id=\"patch_2\">\r\n    <path d=\"M 20.5625 224.64 \r\nL 355.3625 224.64 \r\nL 355.3625 7.2 \r\nL 20.5625 7.2 \r\nz\r\n\" style=\"fill:#ffffff;\"/>\r\n   </g>\r\n   <g id=\"patch_3\">\r\n    <path clip-path=\"url(#pff92211139)\" d=\"M 35.780682 224.64 \r\nL 66.217045 224.64 \r\nL 66.217045 17.554286 \r\nL 35.780682 17.554286 \r\nz\r\n\" style=\"fill:#1f77b4;\"/>\r\n   </g>\r\n   <g id=\"patch_4\">\r\n    <path clip-path=\"url(#pff92211139)\" d=\"M 66.217045 224.64 \r\nL 96.653409 224.64 \r\nL 96.653409 132.601905 \r\nL 66.217045 132.601905 \r\nz\r\n\" style=\"fill:#1f77b4;\"/>\r\n   </g>\r\n   <g id=\"patch_5\">\r\n    <path clip-path=\"url(#pff92211139)\" d=\"M 96.653409 224.64 \r\nL 127.089773 224.64 \r\nL 127.089773 155.611429 \r\nL 96.653409 155.611429 \r\nz\r\n\" style=\"fill:#1f77b4;\"/>\r\n   </g>\r\n   <g id=\"patch_6\">\r\n    <path clip-path=\"url(#pff92211139)\" d=\"M 127.089773 224.64 \r\nL 157.526136 224.64 \r\nL 157.526136 132.601905 \r\nL 127.089773 132.601905 \r\nz\r\n\" style=\"fill:#1f77b4;\"/>\r\n   </g>\r\n   <g id=\"patch_7\">\r\n    <path clip-path=\"url(#pff92211139)\" d=\"M 157.526136 224.64 \r\nL 187.9625 224.64 \r\nL 187.9625 86.582857 \r\nL 157.526136 86.582857 \r\nz\r\n\" style=\"fill:#1f77b4;\"/>\r\n   </g>\r\n   <g id=\"patch_8\">\r\n    <path clip-path=\"url(#pff92211139)\" d=\"M 187.9625 224.64 \r\nL 218.398864 224.64 \r\nL 218.398864 132.601905 \r\nL 187.9625 132.601905 \r\nz\r\n\" style=\"fill:#1f77b4;\"/>\r\n   </g>\r\n   <g id=\"patch_9\">\r\n    <path clip-path=\"url(#pff92211139)\" d=\"M 218.398864 224.64 \r\nL 248.835227 224.64 \r\nL 248.835227 109.592381 \r\nL 218.398864 109.592381 \r\nz\r\n\" style=\"fill:#1f77b4;\"/>\r\n   </g>\r\n   <g id=\"patch_10\">\r\n    <path clip-path=\"url(#pff92211139)\" d=\"M 248.835227 224.64 \r\nL 279.271591 224.64 \r\nL 279.271591 132.601905 \r\nL 248.835227 132.601905 \r\nz\r\n\" style=\"fill:#1f77b4;\"/>\r\n   </g>\r\n   <g id=\"patch_11\">\r\n    <path clip-path=\"url(#pff92211139)\" d=\"M 279.271591 224.64 \r\nL 309.707955 224.64 \r\nL 309.707955 155.611429 \r\nL 279.271591 155.611429 \r\nz\r\n\" style=\"fill:#1f77b4;\"/>\r\n   </g>\r\n   <g id=\"patch_12\">\r\n    <path clip-path=\"url(#pff92211139)\" d=\"M 309.707955 224.64 \r\nL 340.144318 224.64 \r\nL 340.144318 40.56381 \r\nL 309.707955 40.56381 \r\nz\r\n\" style=\"fill:#1f77b4;\"/>\r\n   </g>\r\n   <g id=\"matplotlib.axis_1\">\r\n    <g id=\"xtick_1\">\r\n     <g id=\"line2d_1\">\r\n      <defs>\r\n       <path d=\"M 0 0 \r\nL 0 3.5 \r\n\" id=\"mb09a31d8f6\" style=\"stroke:#000000;stroke-width:0.8;\"/>\r\n      </defs>\r\n      <g>\r\n       <use style=\"stroke:#000000;stroke-width:0.8;\" x=\"33.72587\" xlink:href=\"#mb09a31d8f6\" y=\"224.64\"/>\r\n      </g>\r\n     </g>\r\n     <g id=\"text_1\">\r\n      <!-- 0.0 -->\r\n      <g transform=\"translate(25.774307 239.238437)scale(0.1 -0.1)\">\r\n       <defs>\r\n        <path d=\"M 31.78125 66.40625 \r\nQ 24.171875 66.40625 20.328125 58.90625 \r\nQ 16.5 51.421875 16.5 36.375 \r\nQ 16.5 21.390625 20.328125 13.890625 \r\nQ 24.171875 6.390625 31.78125 6.390625 \r\nQ 39.453125 6.390625 43.28125 13.890625 \r\nQ 47.125 21.390625 47.125 36.375 \r\nQ 47.125 51.421875 43.28125 58.90625 \r\nQ 39.453125 66.40625 31.78125 66.40625 \r\nz\r\nM 31.78125 74.21875 \r\nQ 44.046875 74.21875 50.515625 64.515625 \r\nQ 56.984375 54.828125 56.984375 36.375 \r\nQ 56.984375 17.96875 50.515625 8.265625 \r\nQ 44.046875 -1.421875 31.78125 -1.421875 \r\nQ 19.53125 -1.421875 13.0625 8.265625 \r\nQ 6.59375 17.96875 6.59375 36.375 \r\nQ 6.59375 54.828125 13.0625 64.515625 \r\nQ 19.53125 74.21875 31.78125 74.21875 \r\nz\r\n\" id=\"DejaVuSans-48\"/>\r\n        <path d=\"M 10.6875 12.40625 \r\nL 21 12.40625 \r\nL 21 0 \r\nL 10.6875 0 \r\nz\r\n\" id=\"DejaVuSans-46\"/>\r\n       </defs>\r\n       <use xlink:href=\"#DejaVuSans-48\"/>\r\n       <use x=\"63.623047\" xlink:href=\"#DejaVuSans-46\"/>\r\n       <use x=\"95.410156\" xlink:href=\"#DejaVuSans-48\"/>\r\n      </g>\r\n     </g>\r\n    </g>\r\n    <g id=\"xtick_2\">\r\n     <g id=\"line2d_2\">\r\n      <g>\r\n       <use style=\"stroke:#000000;stroke-width:0.8;\" x=\"95.038592\" xlink:href=\"#mb09a31d8f6\" y=\"224.64\"/>\r\n      </g>\r\n     </g>\r\n     <g id=\"text_2\">\r\n      <!-- 0.2 -->\r\n      <g transform=\"translate(87.08703 239.238437)scale(0.1 -0.1)\">\r\n       <defs>\r\n        <path d=\"M 19.1875 8.296875 \r\nL 53.609375 8.296875 \r\nL 53.609375 0 \r\nL 7.328125 0 \r\nL 7.328125 8.296875 \r\nQ 12.9375 14.109375 22.625 23.890625 \r\nQ 32.328125 33.6875 34.8125 36.53125 \r\nQ 39.546875 41.84375 41.421875 45.53125 \r\nQ 43.3125 49.21875 43.3125 52.78125 \r\nQ 43.3125 58.59375 39.234375 62.25 \r\nQ 35.15625 65.921875 28.609375 65.921875 \r\nQ 23.96875 65.921875 18.8125 64.3125 \r\nQ 13.671875 62.703125 7.8125 59.421875 \r\nL 7.8125 69.390625 \r\nQ 13.765625 71.78125 18.9375 73 \r\nQ 24.125 74.21875 28.421875 74.21875 \r\nQ 39.75 74.21875 46.484375 68.546875 \r\nQ 53.21875 62.890625 53.21875 53.421875 \r\nQ 53.21875 48.921875 51.53125 44.890625 \r\nQ 49.859375 40.875 45.40625 35.40625 \r\nQ 44.1875 33.984375 37.640625 27.21875 \r\nQ 31.109375 20.453125 19.1875 8.296875 \r\nz\r\n\" id=\"DejaVuSans-50\"/>\r\n       </defs>\r\n       <use xlink:href=\"#DejaVuSans-48\"/>\r\n       <use x=\"63.623047\" xlink:href=\"#DejaVuSans-46\"/>\r\n       <use x=\"95.410156\" xlink:href=\"#DejaVuSans-50\"/>\r\n      </g>\r\n     </g>\r\n    </g>\r\n    <g id=\"xtick_3\">\r\n     <g id=\"line2d_3\">\r\n      <g>\r\n       <use style=\"stroke:#000000;stroke-width:0.8;\" x=\"156.351315\" xlink:href=\"#mb09a31d8f6\" y=\"224.64\"/>\r\n      </g>\r\n     </g>\r\n     <g id=\"text_3\">\r\n      <!-- 0.4 -->\r\n      <g transform=\"translate(148.399753 239.238437)scale(0.1 -0.1)\">\r\n       <defs>\r\n        <path d=\"M 37.796875 64.3125 \r\nL 12.890625 25.390625 \r\nL 37.796875 25.390625 \r\nz\r\nM 35.203125 72.90625 \r\nL 47.609375 72.90625 \r\nL 47.609375 25.390625 \r\nL 58.015625 25.390625 \r\nL 58.015625 17.1875 \r\nL 47.609375 17.1875 \r\nL 47.609375 0 \r\nL 37.796875 0 \r\nL 37.796875 17.1875 \r\nL 4.890625 17.1875 \r\nL 4.890625 26.703125 \r\nz\r\n\" id=\"DejaVuSans-52\"/>\r\n       </defs>\r\n       <use xlink:href=\"#DejaVuSans-48\"/>\r\n       <use x=\"63.623047\" xlink:href=\"#DejaVuSans-46\"/>\r\n       <use x=\"95.410156\" xlink:href=\"#DejaVuSans-52\"/>\r\n      </g>\r\n     </g>\r\n    </g>\r\n    <g id=\"xtick_4\">\r\n     <g id=\"line2d_4\">\r\n      <g>\r\n       <use style=\"stroke:#000000;stroke-width:0.8;\" x=\"217.664038\" xlink:href=\"#mb09a31d8f6\" y=\"224.64\"/>\r\n      </g>\r\n     </g>\r\n     <g id=\"text_4\">\r\n      <!-- 0.6 -->\r\n      <g transform=\"translate(209.712475 239.238437)scale(0.1 -0.1)\">\r\n       <defs>\r\n        <path d=\"M 33.015625 40.375 \r\nQ 26.375 40.375 22.484375 35.828125 \r\nQ 18.609375 31.296875 18.609375 23.390625 \r\nQ 18.609375 15.53125 22.484375 10.953125 \r\nQ 26.375 6.390625 33.015625 6.390625 \r\nQ 39.65625 6.390625 43.53125 10.953125 \r\nQ 47.40625 15.53125 47.40625 23.390625 \r\nQ 47.40625 31.296875 43.53125 35.828125 \r\nQ 39.65625 40.375 33.015625 40.375 \r\nz\r\nM 52.59375 71.296875 \r\nL 52.59375 62.3125 \r\nQ 48.875 64.0625 45.09375 64.984375 \r\nQ 41.3125 65.921875 37.59375 65.921875 \r\nQ 27.828125 65.921875 22.671875 59.328125 \r\nQ 17.53125 52.734375 16.796875 39.40625 \r\nQ 19.671875 43.65625 24.015625 45.921875 \r\nQ 28.375 48.1875 33.59375 48.1875 \r\nQ 44.578125 48.1875 50.953125 41.515625 \r\nQ 57.328125 34.859375 57.328125 23.390625 \r\nQ 57.328125 12.15625 50.6875 5.359375 \r\nQ 44.046875 -1.421875 33.015625 -1.421875 \r\nQ 20.359375 -1.421875 13.671875 8.265625 \r\nQ 6.984375 17.96875 6.984375 36.375 \r\nQ 6.984375 53.65625 15.1875 63.9375 \r\nQ 23.390625 74.21875 37.203125 74.21875 \r\nQ 40.921875 74.21875 44.703125 73.484375 \r\nQ 48.484375 72.75 52.59375 71.296875 \r\nz\r\n\" id=\"DejaVuSans-54\"/>\r\n       </defs>\r\n       <use xlink:href=\"#DejaVuSans-48\"/>\r\n       <use x=\"63.623047\" xlink:href=\"#DejaVuSans-46\"/>\r\n       <use x=\"95.410156\" xlink:href=\"#DejaVuSans-54\"/>\r\n      </g>\r\n     </g>\r\n    </g>\r\n    <g id=\"xtick_5\">\r\n     <g id=\"line2d_5\">\r\n      <g>\r\n       <use style=\"stroke:#000000;stroke-width:0.8;\" x=\"278.976761\" xlink:href=\"#mb09a31d8f6\" y=\"224.64\"/>\r\n      </g>\r\n     </g>\r\n     <g id=\"text_5\">\r\n      <!-- 0.8 -->\r\n      <g transform=\"translate(271.025198 239.238437)scale(0.1 -0.1)\">\r\n       <defs>\r\n        <path d=\"M 31.78125 34.625 \r\nQ 24.75 34.625 20.71875 30.859375 \r\nQ 16.703125 27.09375 16.703125 20.515625 \r\nQ 16.703125 13.921875 20.71875 10.15625 \r\nQ 24.75 6.390625 31.78125 6.390625 \r\nQ 38.8125 6.390625 42.859375 10.171875 \r\nQ 46.921875 13.96875 46.921875 20.515625 \r\nQ 46.921875 27.09375 42.890625 30.859375 \r\nQ 38.875 34.625 31.78125 34.625 \r\nz\r\nM 21.921875 38.8125 \r\nQ 15.578125 40.375 12.03125 44.71875 \r\nQ 8.5 49.078125 8.5 55.328125 \r\nQ 8.5 64.0625 14.71875 69.140625 \r\nQ 20.953125 74.21875 31.78125 74.21875 \r\nQ 42.671875 74.21875 48.875 69.140625 \r\nQ 55.078125 64.0625 55.078125 55.328125 \r\nQ 55.078125 49.078125 51.53125 44.71875 \r\nQ 48 40.375 41.703125 38.8125 \r\nQ 48.828125 37.15625 52.796875 32.3125 \r\nQ 56.78125 27.484375 56.78125 20.515625 \r\nQ 56.78125 9.90625 50.3125 4.234375 \r\nQ 43.84375 -1.421875 31.78125 -1.421875 \r\nQ 19.734375 -1.421875 13.25 4.234375 \r\nQ 6.78125 9.90625 6.78125 20.515625 \r\nQ 6.78125 27.484375 10.78125 32.3125 \r\nQ 14.796875 37.15625 21.921875 38.8125 \r\nz\r\nM 18.3125 54.390625 \r\nQ 18.3125 48.734375 21.84375 45.5625 \r\nQ 25.390625 42.390625 31.78125 42.390625 \r\nQ 38.140625 42.390625 41.71875 45.5625 \r\nQ 45.3125 48.734375 45.3125 54.390625 \r\nQ 45.3125 60.0625 41.71875 63.234375 \r\nQ 38.140625 66.40625 31.78125 66.40625 \r\nQ 25.390625 66.40625 21.84375 63.234375 \r\nQ 18.3125 60.0625 18.3125 54.390625 \r\nz\r\n\" id=\"DejaVuSans-56\"/>\r\n       </defs>\r\n       <use xlink:href=\"#DejaVuSans-48\"/>\r\n       <use x=\"63.623047\" xlink:href=\"#DejaVuSans-46\"/>\r\n       <use x=\"95.410156\" xlink:href=\"#DejaVuSans-56\"/>\r\n      </g>\r\n     </g>\r\n    </g>\r\n    <g id=\"xtick_6\">\r\n     <g id=\"line2d_6\">\r\n      <g>\r\n       <use style=\"stroke:#000000;stroke-width:0.8;\" x=\"340.289483\" xlink:href=\"#mb09a31d8f6\" y=\"224.64\"/>\r\n      </g>\r\n     </g>\r\n     <g id=\"text_6\">\r\n      <!-- 1.0 -->\r\n      <g transform=\"translate(332.337921 239.238437)scale(0.1 -0.1)\">\r\n       <defs>\r\n        <path d=\"M 12.40625 8.296875 \r\nL 28.515625 8.296875 \r\nL 28.515625 63.921875 \r\nL 10.984375 60.40625 \r\nL 10.984375 69.390625 \r\nL 28.421875 72.90625 \r\nL 38.28125 72.90625 \r\nL 38.28125 8.296875 \r\nL 54.390625 8.296875 \r\nL 54.390625 0 \r\nL 12.40625 0 \r\nz\r\n\" id=\"DejaVuSans-49\"/>\r\n       </defs>\r\n       <use xlink:href=\"#DejaVuSans-49\"/>\r\n       <use x=\"63.623047\" xlink:href=\"#DejaVuSans-46\"/>\r\n       <use x=\"95.410156\" xlink:href=\"#DejaVuSans-48\"/>\r\n      </g>\r\n     </g>\r\n    </g>\r\n   </g>\r\n   <g id=\"matplotlib.axis_2\">\r\n    <g id=\"ytick_1\">\r\n     <g id=\"line2d_7\">\r\n      <defs>\r\n       <path d=\"M 0 0 \r\nL -3.5 0 \r\n\" id=\"m04ae4e5575\" style=\"stroke:#000000;stroke-width:0.8;\"/>\r\n      </defs>\r\n      <g>\r\n       <use style=\"stroke:#000000;stroke-width:0.8;\" x=\"20.5625\" xlink:href=\"#m04ae4e5575\" y=\"224.64\"/>\r\n      </g>\r\n     </g>\r\n     <g id=\"text_7\">\r\n      <!-- 0 -->\r\n      <g transform=\"translate(7.2 228.439219)scale(0.1 -0.1)\">\r\n       <use xlink:href=\"#DejaVuSans-48\"/>\r\n      </g>\r\n     </g>\r\n    </g>\r\n    <g id=\"ytick_2\">\r\n     <g id=\"line2d_8\">\r\n      <g>\r\n       <use style=\"stroke:#000000;stroke-width:0.8;\" x=\"20.5625\" xlink:href=\"#m04ae4e5575\" y=\"178.620952\"/>\r\n      </g>\r\n     </g>\r\n     <g id=\"text_8\">\r\n      <!-- 2 -->\r\n      <g transform=\"translate(7.2 182.420171)scale(0.1 -0.1)\">\r\n       <use xlink:href=\"#DejaVuSans-50\"/>\r\n      </g>\r\n     </g>\r\n    </g>\r\n    <g id=\"ytick_3\">\r\n     <g id=\"line2d_9\">\r\n      <g>\r\n       <use style=\"stroke:#000000;stroke-width:0.8;\" x=\"20.5625\" xlink:href=\"#m04ae4e5575\" y=\"132.601905\"/>\r\n      </g>\r\n     </g>\r\n     <g id=\"text_9\">\r\n      <!-- 4 -->\r\n      <g transform=\"translate(7.2 136.401124)scale(0.1 -0.1)\">\r\n       <use xlink:href=\"#DejaVuSans-52\"/>\r\n      </g>\r\n     </g>\r\n    </g>\r\n    <g id=\"ytick_4\">\r\n     <g id=\"line2d_10\">\r\n      <g>\r\n       <use style=\"stroke:#000000;stroke-width:0.8;\" x=\"20.5625\" xlink:href=\"#m04ae4e5575\" y=\"86.582857\"/>\r\n      </g>\r\n     </g>\r\n     <g id=\"text_10\">\r\n      <!-- 6 -->\r\n      <g transform=\"translate(7.2 90.382076)scale(0.1 -0.1)\">\r\n       <use xlink:href=\"#DejaVuSans-54\"/>\r\n      </g>\r\n     </g>\r\n    </g>\r\n    <g id=\"ytick_5\">\r\n     <g id=\"line2d_11\">\r\n      <g>\r\n       <use style=\"stroke:#000000;stroke-width:0.8;\" x=\"20.5625\" xlink:href=\"#m04ae4e5575\" y=\"40.56381\"/>\r\n      </g>\r\n     </g>\r\n     <g id=\"text_11\">\r\n      <!-- 8 -->\r\n      <g transform=\"translate(7.2 44.363028)scale(0.1 -0.1)\">\r\n       <use xlink:href=\"#DejaVuSans-56\"/>\r\n      </g>\r\n     </g>\r\n    </g>\r\n   </g>\r\n   <g id=\"patch_13\">\r\n    <path d=\"M 20.5625 224.64 \r\nL 20.5625 7.2 \r\n\" style=\"fill:none;stroke:#000000;stroke-linecap:square;stroke-linejoin:miter;stroke-width:0.8;\"/>\r\n   </g>\r\n   <g id=\"patch_14\">\r\n    <path d=\"M 355.3625 224.64 \r\nL 355.3625 7.2 \r\n\" style=\"fill:none;stroke:#000000;stroke-linecap:square;stroke-linejoin:miter;stroke-width:0.8;\"/>\r\n   </g>\r\n   <g id=\"patch_15\">\r\n    <path d=\"M 20.5625 224.64 \r\nL 355.3625 224.64 \r\n\" style=\"fill:none;stroke:#000000;stroke-linecap:square;stroke-linejoin:miter;stroke-width:0.8;\"/>\r\n   </g>\r\n   <g id=\"patch_16\">\r\n    <path d=\"M 20.5625 7.2 \r\nL 355.3625 7.2 \r\n\" style=\"fill:none;stroke:#000000;stroke-linecap:square;stroke-linejoin:miter;stroke-width:0.8;\"/>\r\n   </g>\r\n  </g>\r\n </g>\r\n <defs>\r\n  <clipPath id=\"pff92211139\">\r\n   <rect height=\"217.44\" width=\"334.8\" x=\"20.5625\" y=\"7.2\"/>\r\n  </clipPath>\r\n </defs>\r\n</svg>\r\n",
      "image/png": "[encoded data removed]"
     },
     "metadata": {
      "needs_background": "light"
     }
    }
   ],
   "source": [
    "b = np.random.uniform(0,1,50)\n",
    "plt.hist(b)"
   ]
  },
  {
   "cell_type": "markdown",
   "metadata": {},
   "source": [
    "And here is a normal distribution."
   ]
  },
  {
   "cell_type": "code",
   "execution_count": 42,
   "metadata": {
    "collapsed": false
   },
   "outputs": [
    {
     "output_type": "execute_result",
     "data": {
      "text/plain": [
       "(array([ 5.,  6.,  5., 11.,  9.,  4.,  4.,  2.,  2.,  2.]),\n",
       " array([-1.86754886, -1.40292849, -0.93830812, -0.47368775, -0.00906738,\n",
       "         0.45555298,  0.92017335,  1.38479372,  1.84941409,  2.31403446,\n",
       "         2.77865483]),\n",
       " <BarContainer object of 10 artists>)"
      ]
     },
     "metadata": {},
     "execution_count": 42
    },
    {
     "output_type": "display_data",
     "data": {
      "text/plain": "<Figure size 432x288 with 1 Axes>",
      "image/svg+xml": "<?xml version=\"1.0\" encoding=\"utf-8\" standalone=\"no\"?>\r\n<!DOCTYPE svg PUBLIC \"-//W3C//DTD SVG 1.1//EN\"\r\n  \"http://www.w3.org/Graphics/SVG/1.1/DTD/svg11.dtd\">\r\n<!-- Created with matplotlib (https://matplotlib.org/) -->\r\n<svg height=\"248.518125pt\" version=\"1.1\" viewBox=\"0 0 371.387954 248.518125\" width=\"371.387954pt\" xmlns=\"http://www.w3.org/2000/svg\" xmlns:xlink=\"http://www.w3.org/1999/xlink\">\r\n <metadata>\r\n  <rdf:RDF xmlns:cc=\"http://creativecommons.org/ns#\" xmlns:dc=\"http://purl.org/dc/elements/1.1/\" xmlns:rdf=\"http://www.w3.org/1999/02/22-rdf-syntax-ns#\">\r\n   <cc:Work>\r\n    <dc:type rdf:resource=\"http://purl.org/dc/dcmitype/StillImage\"/>\r\n    <dc:date>2021-02-24T11:55:37.789935</dc:date>\r\n    <dc:format>image/svg+xml</dc:format>\r\n    <dc:creator>\r\n     <cc:Agent>\r\n      <dc:title>Matplotlib v3.3.2, https://matplotlib.org/</dc:title>\r\n     </cc:Agent>\r\n    </dc:creator>\r\n   </cc:Work>\r\n  </rdf:RDF>\r\n </metadata>\r\n <defs>\r\n  <style type=\"text/css\">*{stroke-linecap:butt;stroke-linejoin:round;}</style>\r\n </defs>\r\n <g id=\"figure_1\">\r\n  <g id=\"patch_1\">\r\n   <path d=\"M -0 248.518125 \r\nL 371.387954 248.518125 \r\nL 371.387954 0 \r\nL -0 0 \r\nz\r\n\" style=\"fill:none;\"/>\r\n  </g>\r\n  <g id=\"axes_1\">\r\n   <g id=\"patch_2\">\r\n    <path d=\"M 26.925 224.64 \r\nL 361.725 224.64 \r\nL 361.725 7.2 \r\nL 26.925 7.2 \r\nz\r\n\" style=\"fill:#ffffff;\"/>\r\n   </g>\r\n   <g id=\"patch_3\">\r\n    <path clip-path=\"url(#pe8a7c36f95)\" d=\"M 42.143182 224.64 \r\nL 72.579545 224.64 \r\nL 72.579545 130.51013 \r\nL 42.143182 130.51013 \r\nz\r\n\" style=\"fill:#1f77b4;\"/>\r\n   </g>\r\n   <g id=\"patch_4\">\r\n    <path clip-path=\"url(#pe8a7c36f95)\" d=\"M 72.579545 224.64 \r\nL 103.015909 224.64 \r\nL 103.015909 111.684156 \r\nL 72.579545 111.684156 \r\nz\r\n\" style=\"fill:#1f77b4;\"/>\r\n   </g>\r\n   <g id=\"patch_5\">\r\n    <path clip-path=\"url(#pe8a7c36f95)\" d=\"M 103.015909 224.64 \r\nL 133.452273 224.64 \r\nL 133.452273 130.51013 \r\nL 103.015909 130.51013 \r\nz\r\n\" style=\"fill:#1f77b4;\"/>\r\n   </g>\r\n   <g id=\"patch_6\">\r\n    <path clip-path=\"url(#pe8a7c36f95)\" d=\"M 133.452273 224.64 \r\nL 163.888636 224.64 \r\nL 163.888636 17.554286 \r\nL 133.452273 17.554286 \r\nz\r\n\" style=\"fill:#1f77b4;\"/>\r\n   </g>\r\n   <g id=\"patch_7\">\r\n    <path clip-path=\"url(#pe8a7c36f95)\" d=\"M 163.888636 224.64 \r\nL 194.325 224.64 \r\nL 194.325 55.206234 \r\nL 163.888636 55.206234 \r\nz\r\n\" style=\"fill:#1f77b4;\"/>\r\n   </g>\r\n   <g id=\"patch_8\">\r\n    <path clip-path=\"url(#pe8a7c36f95)\" d=\"M 194.325 224.64 \r\nL 224.761364 224.64 \r\nL 224.761364 149.336104 \r\nL 194.325 149.336104 \r\nz\r\n\" style=\"fill:#1f77b4;\"/>\r\n   </g>\r\n   <g id=\"patch_9\">\r\n    <path clip-path=\"url(#pe8a7c36f95)\" d=\"M 224.761364 224.64 \r\nL 255.197727 224.64 \r\nL 255.197727 149.336104 \r\nL 224.761364 149.336104 \r\nz\r\n\" style=\"fill:#1f77b4;\"/>\r\n   </g>\r\n   <g id=\"patch_10\">\r\n    <path clip-path=\"url(#pe8a7c36f95)\" d=\"M 255.197727 224.64 \r\nL 285.634091 224.64 \r\nL 285.634091 186.988052 \r\nL 255.197727 186.988052 \r\nz\r\n\" style=\"fill:#1f77b4;\"/>\r\n   </g>\r\n   <g id=\"patch_11\">\r\n    <path clip-path=\"url(#pe8a7c36f95)\" d=\"M 285.634091 224.64 \r\nL 316.070455 224.64 \r\nL 316.070455 186.988052 \r\nL 285.634091 186.988052 \r\nz\r\n\" style=\"fill:#1f77b4;\"/>\r\n   </g>\r\n   <g id=\"patch_12\">\r\n    <path clip-path=\"url(#pe8a7c36f95)\" d=\"M 316.070455 224.64 \r\nL 346.506818 224.64 \r\nL 346.506818 186.988052 \r\nL 316.070455 186.988052 \r\nz\r\n\" style=\"fill:#1f77b4;\"/>\r\n   </g>\r\n   <g id=\"matplotlib.axis_1\">\r\n    <g id=\"xtick_1\">\r\n     <g id=\"line2d_1\">\r\n      <defs>\r\n       <path d=\"M 0 0 \r\nL 0 3.5 \r\n\" id=\"m77882c03d1\" style=\"stroke:#000000;stroke-width:0.8;\"/>\r\n      </defs>\r\n      <g>\r\n       <use style=\"stroke:#000000;stroke-width:0.8;\" x=\"33.466569\" xlink:href=\"#m77882c03d1\" y=\"224.64\"/>\r\n      </g>\r\n     </g>\r\n     <g id=\"text_1\">\r\n      <!-- −2 -->\r\n      <g transform=\"translate(26.095475 239.238437)scale(0.1 -0.1)\">\r\n       <defs>\r\n        <path d=\"M 10.59375 35.5 \r\nL 73.1875 35.5 \r\nL 73.1875 27.203125 \r\nL 10.59375 27.203125 \r\nz\r\n\" id=\"DejaVuSans-8722\"/>\r\n        <path d=\"M 19.1875 8.296875 \r\nL 53.609375 8.296875 \r\nL 53.609375 0 \r\nL 7.328125 0 \r\nL 7.328125 8.296875 \r\nQ 12.9375 14.109375 22.625 23.890625 \r\nQ 32.328125 33.6875 34.8125 36.53125 \r\nQ 39.546875 41.84375 41.421875 45.53125 \r\nQ 43.3125 49.21875 43.3125 52.78125 \r\nQ 43.3125 58.59375 39.234375 62.25 \r\nQ 35.15625 65.921875 28.609375 65.921875 \r\nQ 23.96875 65.921875 18.8125 64.3125 \r\nQ 13.671875 62.703125 7.8125 59.421875 \r\nL 7.8125 69.390625 \r\nQ 13.765625 71.78125 18.9375 73 \r\nQ 24.125 74.21875 28.421875 74.21875 \r\nQ 39.75 74.21875 46.484375 68.546875 \r\nQ 53.21875 62.890625 53.21875 53.421875 \r\nQ 53.21875 48.921875 51.53125 44.890625 \r\nQ 49.859375 40.875 45.40625 35.40625 \r\nQ 44.1875 33.984375 37.640625 27.21875 \r\nQ 31.109375 20.453125 19.1875 8.296875 \r\nz\r\n\" id=\"DejaVuSans-50\"/>\r\n       </defs>\r\n       <use xlink:href=\"#DejaVuSans-8722\"/>\r\n       <use x=\"83.789062\" xlink:href=\"#DejaVuSans-50\"/>\r\n      </g>\r\n     </g>\r\n    </g>\r\n    <g id=\"xtick_2\">\r\n     <g id=\"line2d_2\">\r\n      <g>\r\n       <use style=\"stroke:#000000;stroke-width:0.8;\" x=\"98.974596\" xlink:href=\"#m77882c03d1\" y=\"224.64\"/>\r\n      </g>\r\n     </g>\r\n     <g id=\"text_2\">\r\n      <!-- −1 -->\r\n      <g transform=\"translate(91.603502 239.238437)scale(0.1 -0.1)\">\r\n       <defs>\r\n        <path d=\"M 12.40625 8.296875 \r\nL 28.515625 8.296875 \r\nL 28.515625 63.921875 \r\nL 10.984375 60.40625 \r\nL 10.984375 69.390625 \r\nL 28.421875 72.90625 \r\nL 38.28125 72.90625 \r\nL 38.28125 8.296875 \r\nL 54.390625 8.296875 \r\nL 54.390625 0 \r\nL 12.40625 0 \r\nz\r\n\" id=\"DejaVuSans-49\"/>\r\n       </defs>\r\n       <use xlink:href=\"#DejaVuSans-8722\"/>\r\n       <use x=\"83.789062\" xlink:href=\"#DejaVuSans-49\"/>\r\n      </g>\r\n     </g>\r\n    </g>\r\n    <g id=\"xtick_3\">\r\n     <g id=\"line2d_3\">\r\n      <g>\r\n       <use style=\"stroke:#000000;stroke-width:0.8;\" x=\"164.482623\" xlink:href=\"#m77882c03d1\" y=\"224.64\"/>\r\n      </g>\r\n     </g>\r\n     <g id=\"text_3\">\r\n      <!-- 0 -->\r\n      <g transform=\"translate(161.301373 239.238437)scale(0.1 -0.1)\">\r\n       <defs>\r\n        <path d=\"M 31.78125 66.40625 \r\nQ 24.171875 66.40625 20.328125 58.90625 \r\nQ 16.5 51.421875 16.5 36.375 \r\nQ 16.5 21.390625 20.328125 13.890625 \r\nQ 24.171875 6.390625 31.78125 6.390625 \r\nQ 39.453125 6.390625 43.28125 13.890625 \r\nQ 47.125 21.390625 47.125 36.375 \r\nQ 47.125 51.421875 43.28125 58.90625 \r\nQ 39.453125 66.40625 31.78125 66.40625 \r\nz\r\nM 31.78125 74.21875 \r\nQ 44.046875 74.21875 50.515625 64.515625 \r\nQ 56.984375 54.828125 56.984375 36.375 \r\nQ 56.984375 17.96875 50.515625 8.265625 \r\nQ 44.046875 -1.421875 31.78125 -1.421875 \r\nQ 19.53125 -1.421875 13.0625 8.265625 \r\nQ 6.59375 17.96875 6.59375 36.375 \r\nQ 6.59375 54.828125 13.0625 64.515625 \r\nQ 19.53125 74.21875 31.78125 74.21875 \r\nz\r\n\" id=\"DejaVuSans-48\"/>\r\n       </defs>\r\n       <use xlink:href=\"#DejaVuSans-48\"/>\r\n      </g>\r\n     </g>\r\n    </g>\r\n    <g id=\"xtick_4\">\r\n     <g id=\"line2d_4\">\r\n      <g>\r\n       <use style=\"stroke:#000000;stroke-width:0.8;\" x=\"229.99065\" xlink:href=\"#m77882c03d1\" y=\"224.64\"/>\r\n      </g>\r\n     </g>\r\n     <g id=\"text_4\">\r\n      <!-- 1 -->\r\n      <g transform=\"translate(226.8094 239.238437)scale(0.1 -0.1)\">\r\n       <use xlink:href=\"#DejaVuSans-49\"/>\r\n      </g>\r\n     </g>\r\n    </g>\r\n    <g id=\"xtick_5\">\r\n     <g id=\"line2d_5\">\r\n      <g>\r\n       <use style=\"stroke:#000000;stroke-width:0.8;\" x=\"295.498677\" xlink:href=\"#m77882c03d1\" y=\"224.64\"/>\r\n      </g>\r\n     </g>\r\n     <g id=\"text_5\">\r\n      <!-- 2 -->\r\n      <g transform=\"translate(292.317427 239.238437)scale(0.1 -0.1)\">\r\n       <use xlink:href=\"#DejaVuSans-50\"/>\r\n      </g>\r\n     </g>\r\n    </g>\r\n    <g id=\"xtick_6\">\r\n     <g id=\"line2d_6\">\r\n      <g>\r\n       <use style=\"stroke:#000000;stroke-width:0.8;\" x=\"361.006704\" xlink:href=\"#m77882c03d1\" y=\"224.64\"/>\r\n      </g>\r\n     </g>\r\n     <g id=\"text_6\">\r\n      <!-- 3 -->\r\n      <g transform=\"translate(357.825454 239.238437)scale(0.1 -0.1)\">\r\n       <defs>\r\n        <path d=\"M 40.578125 39.3125 \r\nQ 47.65625 37.796875 51.625 33 \r\nQ 55.609375 28.21875 55.609375 21.1875 \r\nQ 55.609375 10.40625 48.1875 4.484375 \r\nQ 40.765625 -1.421875 27.09375 -1.421875 \r\nQ 22.515625 -1.421875 17.65625 -0.515625 \r\nQ 12.796875 0.390625 7.625 2.203125 \r\nL 7.625 11.71875 \r\nQ 11.71875 9.328125 16.59375 8.109375 \r\nQ 21.484375 6.890625 26.8125 6.890625 \r\nQ 36.078125 6.890625 40.9375 10.546875 \r\nQ 45.796875 14.203125 45.796875 21.1875 \r\nQ 45.796875 27.640625 41.28125 31.265625 \r\nQ 36.765625 34.90625 28.71875 34.90625 \r\nL 20.21875 34.90625 \r\nL 20.21875 43.015625 \r\nL 29.109375 43.015625 \r\nQ 36.375 43.015625 40.234375 45.921875 \r\nQ 44.09375 48.828125 44.09375 54.296875 \r\nQ 44.09375 59.90625 40.109375 62.90625 \r\nQ 36.140625 65.921875 28.71875 65.921875 \r\nQ 24.65625 65.921875 20.015625 65.03125 \r\nQ 15.375 64.15625 9.8125 62.3125 \r\nL 9.8125 71.09375 \r\nQ 15.4375 72.65625 20.34375 73.4375 \r\nQ 25.25 74.21875 29.59375 74.21875 \r\nQ 40.828125 74.21875 47.359375 69.109375 \r\nQ 53.90625 64.015625 53.90625 55.328125 \r\nQ 53.90625 49.265625 50.4375 45.09375 \r\nQ 46.96875 40.921875 40.578125 39.3125 \r\nz\r\n\" id=\"DejaVuSans-51\"/>\r\n       </defs>\r\n       <use xlink:href=\"#DejaVuSans-51\"/>\r\n      </g>\r\n     </g>\r\n    </g>\r\n   </g>\r\n   <g id=\"matplotlib.axis_2\">\r\n    <g id=\"ytick_1\">\r\n     <g id=\"line2d_7\">\r\n      <defs>\r\n       <path d=\"M 0 0 \r\nL -3.5 0 \r\n\" id=\"m53b3e856fa\" style=\"stroke:#000000;stroke-width:0.8;\"/>\r\n      </defs>\r\n      <g>\r\n       <use style=\"stroke:#000000;stroke-width:0.8;\" x=\"26.925\" xlink:href=\"#m53b3e856fa\" y=\"224.64\"/>\r\n      </g>\r\n     </g>\r\n     <g id=\"text_7\">\r\n      <!-- 0 -->\r\n      <g transform=\"translate(13.5625 228.439219)scale(0.1 -0.1)\">\r\n       <use xlink:href=\"#DejaVuSans-48\"/>\r\n      </g>\r\n     </g>\r\n    </g>\r\n    <g id=\"ytick_2\">\r\n     <g id=\"line2d_8\">\r\n      <g>\r\n       <use style=\"stroke:#000000;stroke-width:0.8;\" x=\"26.925\" xlink:href=\"#m53b3e856fa\" y=\"186.988052\"/>\r\n      </g>\r\n     </g>\r\n     <g id=\"text_8\">\r\n      <!-- 2 -->\r\n      <g transform=\"translate(13.5625 190.787271)scale(0.1 -0.1)\">\r\n       <use xlink:href=\"#DejaVuSans-50\"/>\r\n      </g>\r\n     </g>\r\n    </g>\r\n    <g id=\"ytick_3\">\r\n     <g id=\"line2d_9\">\r\n      <g>\r\n       <use style=\"stroke:#000000;stroke-width:0.8;\" x=\"26.925\" xlink:href=\"#m53b3e856fa\" y=\"149.336104\"/>\r\n      </g>\r\n     </g>\r\n     <g id=\"text_9\">\r\n      <!-- 4 -->\r\n      <g transform=\"translate(13.5625 153.135323)scale(0.1 -0.1)\">\r\n       <defs>\r\n        <path d=\"M 37.796875 64.3125 \r\nL 12.890625 25.390625 \r\nL 37.796875 25.390625 \r\nz\r\nM 35.203125 72.90625 \r\nL 47.609375 72.90625 \r\nL 47.609375 25.390625 \r\nL 58.015625 25.390625 \r\nL 58.015625 17.1875 \r\nL 47.609375 17.1875 \r\nL 47.609375 0 \r\nL 37.796875 0 \r\nL 37.796875 17.1875 \r\nL 4.890625 17.1875 \r\nL 4.890625 26.703125 \r\nz\r\n\" id=\"DejaVuSans-52\"/>\r\n       </defs>\r\n       <use xlink:href=\"#DejaVuSans-52\"/>\r\n      </g>\r\n     </g>\r\n    </g>\r\n    <g id=\"ytick_4\">\r\n     <g id=\"line2d_10\">\r\n      <g>\r\n       <use style=\"stroke:#000000;stroke-width:0.8;\" x=\"26.925\" xlink:href=\"#m53b3e856fa\" y=\"111.684156\"/>\r\n      </g>\r\n     </g>\r\n     <g id=\"text_10\">\r\n      <!-- 6 -->\r\n      <g transform=\"translate(13.5625 115.483375)scale(0.1 -0.1)\">\r\n       <defs>\r\n        <path d=\"M 33.015625 40.375 \r\nQ 26.375 40.375 22.484375 35.828125 \r\nQ 18.609375 31.296875 18.609375 23.390625 \r\nQ 18.609375 15.53125 22.484375 10.953125 \r\nQ 26.375 6.390625 33.015625 6.390625 \r\nQ 39.65625 6.390625 43.53125 10.953125 \r\nQ 47.40625 15.53125 47.40625 23.390625 \r\nQ 47.40625 31.296875 43.53125 35.828125 \r\nQ 39.65625 40.375 33.015625 40.375 \r\nz\r\nM 52.59375 71.296875 \r\nL 52.59375 62.3125 \r\nQ 48.875 64.0625 45.09375 64.984375 \r\nQ 41.3125 65.921875 37.59375 65.921875 \r\nQ 27.828125 65.921875 22.671875 59.328125 \r\nQ 17.53125 52.734375 16.796875 39.40625 \r\nQ 19.671875 43.65625 24.015625 45.921875 \r\nQ 28.375 48.1875 33.59375 48.1875 \r\nQ 44.578125 48.1875 50.953125 41.515625 \r\nQ 57.328125 34.859375 57.328125 23.390625 \r\nQ 57.328125 12.15625 50.6875 5.359375 \r\nQ 44.046875 -1.421875 33.015625 -1.421875 \r\nQ 20.359375 -1.421875 13.671875 8.265625 \r\nQ 6.984375 17.96875 6.984375 36.375 \r\nQ 6.984375 53.65625 15.1875 63.9375 \r\nQ 23.390625 74.21875 37.203125 74.21875 \r\nQ 40.921875 74.21875 44.703125 73.484375 \r\nQ 48.484375 72.75 52.59375 71.296875 \r\nz\r\n\" id=\"DejaVuSans-54\"/>\r\n       </defs>\r\n       <use xlink:href=\"#DejaVuSans-54\"/>\r\n      </g>\r\n     </g>\r\n    </g>\r\n    <g id=\"ytick_5\">\r\n     <g id=\"line2d_11\">\r\n      <g>\r\n       <use style=\"stroke:#000000;stroke-width:0.8;\" x=\"26.925\" xlink:href=\"#m53b3e856fa\" y=\"74.032208\"/>\r\n      </g>\r\n     </g>\r\n     <g id=\"text_11\">\r\n      <!-- 8 -->\r\n      <g transform=\"translate(13.5625 77.831427)scale(0.1 -0.1)\">\r\n       <defs>\r\n        <path d=\"M 31.78125 34.625 \r\nQ 24.75 34.625 20.71875 30.859375 \r\nQ 16.703125 27.09375 16.703125 20.515625 \r\nQ 16.703125 13.921875 20.71875 10.15625 \r\nQ 24.75 6.390625 31.78125 6.390625 \r\nQ 38.8125 6.390625 42.859375 10.171875 \r\nQ 46.921875 13.96875 46.921875 20.515625 \r\nQ 46.921875 27.09375 42.890625 30.859375 \r\nQ 38.875 34.625 31.78125 34.625 \r\nz\r\nM 21.921875 38.8125 \r\nQ 15.578125 40.375 12.03125 44.71875 \r\nQ 8.5 49.078125 8.5 55.328125 \r\nQ 8.5 64.0625 14.71875 69.140625 \r\nQ 20.953125 74.21875 31.78125 74.21875 \r\nQ 42.671875 74.21875 48.875 69.140625 \r\nQ 55.078125 64.0625 55.078125 55.328125 \r\nQ 55.078125 49.078125 51.53125 44.71875 \r\nQ 48 40.375 41.703125 38.8125 \r\nQ 48.828125 37.15625 52.796875 32.3125 \r\nQ 56.78125 27.484375 56.78125 20.515625 \r\nQ 56.78125 9.90625 50.3125 4.234375 \r\nQ 43.84375 -1.421875 31.78125 -1.421875 \r\nQ 19.734375 -1.421875 13.25 4.234375 \r\nQ 6.78125 9.90625 6.78125 20.515625 \r\nQ 6.78125 27.484375 10.78125 32.3125 \r\nQ 14.796875 37.15625 21.921875 38.8125 \r\nz\r\nM 18.3125 54.390625 \r\nQ 18.3125 48.734375 21.84375 45.5625 \r\nQ 25.390625 42.390625 31.78125 42.390625 \r\nQ 38.140625 42.390625 41.71875 45.5625 \r\nQ 45.3125 48.734375 45.3125 54.390625 \r\nQ 45.3125 60.0625 41.71875 63.234375 \r\nQ 38.140625 66.40625 31.78125 66.40625 \r\nQ 25.390625 66.40625 21.84375 63.234375 \r\nQ 18.3125 60.0625 18.3125 54.390625 \r\nz\r\n\" id=\"DejaVuSans-56\"/>\r\n       </defs>\r\n       <use xlink:href=\"#DejaVuSans-56\"/>\r\n      </g>\r\n     </g>\r\n    </g>\r\n    <g id=\"ytick_6\">\r\n     <g id=\"line2d_12\">\r\n      <g>\r\n       <use style=\"stroke:#000000;stroke-width:0.8;\" x=\"26.925\" xlink:href=\"#m53b3e856fa\" y=\"36.38026\"/>\r\n      </g>\r\n     </g>\r\n     <g id=\"text_12\">\r\n      <!-- 10 -->\r\n      <g transform=\"translate(7.2 40.179478)scale(0.1 -0.1)\">\r\n       <use xlink:href=\"#DejaVuSans-49\"/>\r\n       <use x=\"63.623047\" xlink:href=\"#DejaVuSans-48\"/>\r\n      </g>\r\n     </g>\r\n    </g>\r\n   </g>\r\n   <g id=\"patch_13\">\r\n    <path d=\"M 26.925 224.64 \r\nL 26.925 7.2 \r\n\" style=\"fill:none;stroke:#000000;stroke-linecap:square;stroke-linejoin:miter;stroke-width:0.8;\"/>\r\n   </g>\r\n   <g id=\"patch_14\">\r\n    <path d=\"M 361.725 224.64 \r\nL 361.725 7.2 \r\n\" style=\"fill:none;stroke:#000000;stroke-linecap:square;stroke-linejoin:miter;stroke-width:0.8;\"/>\r\n   </g>\r\n   <g id=\"patch_15\">\r\n    <path d=\"M 26.925 224.64 \r\nL 361.725 224.64 \r\n\" style=\"fill:none;stroke:#000000;stroke-linecap:square;stroke-linejoin:miter;stroke-width:0.8;\"/>\r\n   </g>\r\n   <g id=\"patch_16\">\r\n    <path d=\"M 26.925 7.2 \r\nL 361.725 7.2 \r\n\" style=\"fill:none;stroke:#000000;stroke-linecap:square;stroke-linejoin:miter;stroke-width:0.8;\"/>\r\n   </g>\r\n  </g>\r\n </g>\r\n <defs>\r\n  <clipPath id=\"pe8a7c36f95\">\r\n   <rect height=\"217.44\" width=\"334.8\" x=\"26.925\" y=\"7.2\"/>\r\n  </clipPath>\r\n </defs>\r\n</svg>\r\n",
      "image/png": "[encoded data removed]"
     },
     "metadata": {
      "needs_background": "light"
     }
    }
   ],
   "source": [
    "b = np.random.randn(50)\n",
    "plt.hist(b)"
   ]
  },
  {
   "cell_type": "markdown",
   "metadata": {},
   "source": [
    "The efficiency and productivity of coding using arrays becomes even more obvious when we consider calculations like an element by element calculation -- multiplying each element by 5, for example.  No loops needed when the calculations are vectorized.  If we say, a*5 and a is an array, Numpy will perform an element by element multiplication, using fast C code to do the math."
   ]
  },
  {
   "cell_type": "code",
   "execution_count": 43,
   "metadata": {
    "collapsed": false
   },
   "outputs": [
    {
     "output_type": "execute_result",
     "data": {
      "text/plain": [
       "array([2.04686601, 1.30286994, 1.64648418, 0.76846258, 1.16645215,\n",
       "       0.29187742, 2.66629422, 3.34398126, 2.66613218, 4.20753823,\n",
       "       3.98967698, 2.16168859, 1.73773026, 3.73330976, 0.79065029,\n",
       "       4.7334012 , 2.90911616, 3.96412923, 2.09991057, 3.84191706,\n",
       "       0.54092488, 1.28609396, 0.12611826, 4.49888317, 4.60129761,\n",
       "       1.03096979, 2.11946432, 0.12922051, 1.42669797, 1.704031  ,\n",
       "       1.28612321, 1.80355259, 2.79768099, 0.65112607, 4.18266921,\n",
       "       3.83728947, 4.58313866, 0.51411624, 4.25707298, 4.6445924 ,\n",
       "       2.05530581, 0.43346234, 4.10341183, 4.54086716, 3.5537716 ,\n",
       "       4.33248453, 3.94769327, 3.32676136, 4.37713221, 4.34950999])"
      ]
     },
     "metadata": {},
     "execution_count": 43
    }
   ],
   "source": [
    "b = a*5\n",
    "b"
   ]
  },
  {
   "cell_type": "markdown",
   "metadata": {},
   "source": [
    "Similarly, multiplying two arrays together produces an element by element multiplication, in this case, instead of each element of a being multiplied by a constant (5), it is being multiplied by the corresponding value (same index position) in array b.  In other words, the first element of each array get multiplied together, the second element of each array, the third, and so on.\n",
    "\n",
    "This works as long as the arrays are of the same length, or if one is an even multiple of the other, in which case the shorter one gets repeated to make the lengths match.  That process is called broadcasting, and it is how we were able to multiply a initially by a constant. The constant was broadcast to the length of a."
   ]
  },
  {
   "cell_type": "code",
   "execution_count": 44,
   "metadata": {
    "collapsed": false
   },
   "outputs": [
    {
     "output_type": "execute_result",
     "data": {
      "text/plain": [
       "array([8.37932090e-01, 3.39494017e-01, 5.42182032e-01, 1.18106947e-01,\n",
       "       2.72122125e-01, 1.70384855e-02, 1.42182498e+00, 2.23644214e+00,\n",
       "       1.42165216e+00, 3.54067559e+00, 3.18350449e+00, 9.34579512e-01,\n",
       "       6.03941294e-01, 2.78752035e+00, 1.25025576e-01, 4.48101738e+00,\n",
       "       1.69259137e+00, 3.14286411e+00, 8.81924880e-01, 2.95206535e+00,\n",
       "       5.85199451e-02, 3.30807537e-01, 3.18116297e-03, 4.04798996e+00,\n",
       "       4.23438793e+00, 2.12579743e-01, 8.98425802e-01, 3.33958788e-03,\n",
       "       4.07093421e-01, 5.80744332e-01, 3.30822581e-01, 6.50560387e-01,\n",
       "       1.56540378e+00, 8.47930319e-02, 3.49894435e+00, 2.94495810e+00,\n",
       "       4.20103199e+00, 5.28631022e-02, 3.62453406e+00, 4.31444772e+00,\n",
       "       8.44856394e-01, 3.75779204e-02, 3.36759773e+00, 4.12389492e+00,\n",
       "       2.52585852e+00, 3.75408444e+00, 3.11685643e+00, 2.21346823e+00,\n",
       "       3.83185728e+00, 3.78364743e+00])"
      ]
     },
     "metadata": {},
     "execution_count": 44
    }
   ],
   "source": [
    "c = a*b\n",
    "c"
   ]
  },
  {
   "cell_type": "markdown",
   "metadata": {},
   "source": [
    "### More Advanced Uses of Numpy\n",
    "\n",
    "Numpy is a very powerful libary for mathematical and scientific computing, well beyond the limited functionality above.  It forms the foundation for Scipy, a large libray for scientific computing, and many other numeric libraries, including Pandas, which we will get to shortly.\n",
    "\n",
    "But first, a glimpse of some more advanced uses of numpy.  To get a sense of the types of things Numpy can do, we can check out the list of Numpy functions by category from their docs.  Those are here: https://docs.scipy.org/doc/numpy/reference/routines.html.  Let's take a look...\n",
    "\n",
    "Now let's look at two examples.  \n",
    "\n",
    "#### Linear Algebra\n",
    "\n",
    "You noticed that when we did array calculations in Numpy it was elementwise?  Those of you who have done any linear algebra and worked with matrix (arra) libraries might be perplexed that standard matrix operations do not result from a * b for example.  Not to worry.  Numpy can do linear algebra quite well - it just uses separate syntax for it.\n",
    "\n",
    "For example, a matrix multiplication is called a dot product."
   ]
  },
  {
   "cell_type": "code",
   "execution_count": 45,
   "metadata": {
    "collapsed": false
   },
   "outputs": [
    {
     "output_type": "execute_result",
     "data": {
      "text/plain": [
       "array([[ 7., 10.],\n",
       "       [15., 22.]])"
      ]
     },
     "metadata": {},
     "execution_count": 45
    }
   ],
   "source": [
    "d = np.array([[1.0, 2.0], [3.0, 4.0]])\n",
    "c = np.dot(d,d)\n",
    "c"
   ]
  },
  {
   "cell_type": "code",
   "execution_count": 48,
   "metadata": {
    "collapsed": false
   },
   "outputs": [
    {
     "output_type": "execute_result",
     "data": {
      "text/plain": [
       "array([[ 7., 15.],\n",
       "       [10., 22.]])"
      ]
     },
     "metadata": {},
     "execution_count": 48
    }
   ],
   "source": [
    "np.transpose(c)"
   ]
  },
  {
   "cell_type": "markdown",
   "metadata": {},
   "source": [
    "There is way more to Numpy than we have covered here but if you need to do serious number crunching and advanced computation in Python, you will generally find Numpy to be a core part of the solution.  \n",
    "\n",
    "#### Generating Fractals\n",
    "\n",
    "Here is a fun example of using Numpy to generate a Mandlebrot set from a Scipy tutorial (don't ask me to explain it).  If you get curious about the theory and math behind it, Wikipedia has a good page on it. https://en.wikipedia.org/wiki/Mandelbrot_set"
   ]
  },
  {
   "cell_type": "code",
   "execution_count": 49,
   "metadata": {
    "collapsed": false
   },
   "outputs": [
    {
     "output_type": "display_data",
     "data": {
      "text/plain": "<Figure size 432x288 with 1 Axes>",
      "image/svg+xml": "<?xml version=\"1.0\" encoding=\"utf-8\" standalone=\"no\"?>\r\n<!DOCTYPE svg PUBLIC \"-//W3C//DTD SVG 1.1//EN\"\r\n  \"http://www.w3.org/Graphics/SVG/1.1/DTD/svg11.dtd\">\r\n<!-- Created with matplotlib (https://matplotlib.org/) -->\r\n<svg height=\"252.045544pt\" version=\"1.1\" viewBox=\"0 0 257.9275 252.045544\" width=\"257.9275pt\" xmlns=\"http://www.w3.org/2000/svg\" xmlns:xlink=\"http://www.w3.org/1999/xlink\">\r\n <metadata>\r\n  <rdf:RDF xmlns:cc=\"http://creativecommons.org/ns#\" xmlns:dc=\"http://purl.org/dc/elements/1.1/\" xmlns:rdf=\"http://www.w3.org/1999/02/22-rdf-syntax-ns#\">\r\n   <cc:Work>\r\n    <dc:type rdf:resource=\"http://purl.org/dc/dcmitype/StillImage\"/>\r\n    <dc:date>2021-02-24T11:58:25.440578</dc:date>\r\n    <dc:format>image/svg+xml</dc:format>\r\n    <dc:creator>\r\n     <cc:Agent>\r\n      <dc:title>Matplotlib v3.3.2, https://matplotlib.org/</dc:title>\r\n     </cc:Agent>\r\n    </dc:creator>\r\n   </cc:Work>\r\n  </rdf:RDF>\r\n </metadata>\r\n <defs>\r\n  <style type=\"text/css\">*{stroke-linecap:butt;stroke-linejoin:round;}</style>\r\n </defs>\r\n <g id=\"figure_1\">\r\n  <g id=\"patch_1\">\r\n   <path d=\"M 0 252.045544 \r\nL 257.9275 252.045544 \r\nL 257.9275 0 \r\nL 0 0 \r\nz\r\n\" style=\"fill:none;\"/>\r\n  </g>\r\n  <g id=\"axes_1\">\r\n   <g id=\"patch_2\">\r\n    <path d=\"M 33.2875 228.167419 \r\nL 250.7275 228.167419 \r\nL 250.7275 10.727419 \r\nL 33.2875 10.727419 \r\nz\r\n\" style=\"fill:#ffffff;\"/>\r\n   </g>\r\n   <g clip-path=\"url(#p8eb7130b78)\">\r\n    <image height=\"218\" id=\"image009e36f595\" transform=\"scale(1 -1)translate(0 -218)\" width=\"218\" x=\"33.2875\" xlink:href=\"data:image/png;base64,\r\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\" y=\"-10.167419\"/>\r\n   </g>\r\n   <g id=\"matplotlib.axis_1\">\r\n    <g id=\"xtick_1\">\r\n     <g id=\"line2d_1\">\r\n      <defs>\r\n       <path d=\"M 0 0 \r\nL 0 3.5 \r\n\" id=\"m912bb80282\" style=\"stroke:#000000;stroke-width:0.8;\"/>\r\n      </defs>\r\n      <g>\r\n       <use style=\"stroke:#000000;stroke-width:0.8;\" x=\"33.5593\" xlink:href=\"#m912bb80282\" y=\"228.167419\"/>\r\n      </g>\r\n     </g>\r\n     <g id=\"text_1\">\r\n      <!-- 0 -->\r\n      <g transform=\"translate(30.37805 242.765856)scale(0.1 -0.1)\">\r\n       <defs>\r\n        <path d=\"M 31.78125 66.40625 \r\nQ 24.171875 66.40625 20.328125 58.90625 \r\nQ 16.5 51.421875 16.5 36.375 \r\nQ 16.5 21.390625 20.328125 13.890625 \r\nQ 24.171875 6.390625 31.78125 6.390625 \r\nQ 39.453125 6.390625 43.28125 13.890625 \r\nQ 47.125 21.390625 47.125 36.375 \r\nQ 47.125 51.421875 43.28125 58.90625 \r\nQ 39.453125 66.40625 31.78125 66.40625 \r\nz\r\nM 31.78125 74.21875 \r\nQ 44.046875 74.21875 50.515625 64.515625 \r\nQ 56.984375 54.828125 56.984375 36.375 \r\nQ 56.984375 17.96875 50.515625 8.265625 \r\nQ 44.046875 -1.421875 31.78125 -1.421875 \r\nQ 19.53125 -1.421875 13.0625 8.265625 \r\nQ 6.59375 17.96875 6.59375 36.375 \r\nQ 6.59375 54.828125 13.0625 64.515625 \r\nQ 19.53125 74.21875 31.78125 74.21875 \r\nz\r\n\" id=\"DejaVuSans-48\"/>\r\n       </defs>\r\n       <use xlink:href=\"#DejaVuSans-48\"/>\r\n      </g>\r\n     </g>\r\n    </g>\r\n    <g id=\"xtick_2\">\r\n     <g id=\"line2d_2\">\r\n      <g>\r\n       <use style=\"stroke:#000000;stroke-width:0.8;\" x=\"87.9193\" xlink:href=\"#m912bb80282\" y=\"228.167419\"/>\r\n      </g>\r\n     </g>\r\n     <g id=\"text_2\">\r\n      <!-- 100 -->\r\n      <g transform=\"translate(78.37555 242.765856)scale(0.1 -0.1)\">\r\n       <defs>\r\n        <path d=\"M 12.40625 8.296875 \r\nL 28.515625 8.296875 \r\nL 28.515625 63.921875 \r\nL 10.984375 60.40625 \r\nL 10.984375 69.390625 \r\nL 28.421875 72.90625 \r\nL 38.28125 72.90625 \r\nL 38.28125 8.296875 \r\nL 54.390625 8.296875 \r\nL 54.390625 0 \r\nL 12.40625 0 \r\nz\r\n\" id=\"DejaVuSans-49\"/>\r\n       </defs>\r\n       <use xlink:href=\"#DejaVuSans-49\"/>\r\n       <use x=\"63.623047\" xlink:href=\"#DejaVuSans-48\"/>\r\n       <use x=\"127.246094\" xlink:href=\"#DejaVuSans-48\"/>\r\n      </g>\r\n     </g>\r\n    </g>\r\n    <g id=\"xtick_3\">\r\n     <g id=\"line2d_3\">\r\n      <g>\r\n       <use style=\"stroke:#000000;stroke-width:0.8;\" x=\"142.2793\" xlink:href=\"#m912bb80282\" y=\"228.167419\"/>\r\n      </g>\r\n     </g>\r\n     <g id=\"text_3\">\r\n      <!-- 200 -->\r\n      <g transform=\"translate(132.73555 242.765856)scale(0.1 -0.1)\">\r\n       <defs>\r\n        <path d=\"M 19.1875 8.296875 \r\nL 53.609375 8.296875 \r\nL 53.609375 0 \r\nL 7.328125 0 \r\nL 7.328125 8.296875 \r\nQ 12.9375 14.109375 22.625 23.890625 \r\nQ 32.328125 33.6875 34.8125 36.53125 \r\nQ 39.546875 41.84375 41.421875 45.53125 \r\nQ 43.3125 49.21875 43.3125 52.78125 \r\nQ 43.3125 58.59375 39.234375 62.25 \r\nQ 35.15625 65.921875 28.609375 65.921875 \r\nQ 23.96875 65.921875 18.8125 64.3125 \r\nQ 13.671875 62.703125 7.8125 59.421875 \r\nL 7.8125 69.390625 \r\nQ 13.765625 71.78125 18.9375 73 \r\nQ 24.125 74.21875 28.421875 74.21875 \r\nQ 39.75 74.21875 46.484375 68.546875 \r\nQ 53.21875 62.890625 53.21875 53.421875 \r\nQ 53.21875 48.921875 51.53125 44.890625 \r\nQ 49.859375 40.875 45.40625 35.40625 \r\nQ 44.1875 33.984375 37.640625 27.21875 \r\nQ 31.109375 20.453125 19.1875 8.296875 \r\nz\r\n\" id=\"DejaVuSans-50\"/>\r\n       </defs>\r\n       <use xlink:href=\"#DejaVuSans-50\"/>\r\n       <use x=\"63.623047\" xlink:href=\"#DejaVuSans-48\"/>\r\n       <use x=\"127.246094\" xlink:href=\"#DejaVuSans-48\"/>\r\n      </g>\r\n     </g>\r\n    </g>\r\n    <g id=\"xtick_4\">\r\n     <g id=\"line2d_4\">\r\n      <g>\r\n       <use style=\"stroke:#000000;stroke-width:0.8;\" x=\"196.6393\" xlink:href=\"#m912bb80282\" y=\"228.167419\"/>\r\n      </g>\r\n     </g>\r\n     <g id=\"text_4\">\r\n      <!-- 300 -->\r\n      <g transform=\"translate(187.09555 242.765856)scale(0.1 -0.1)\">\r\n       <defs>\r\n        <path d=\"M 40.578125 39.3125 \r\nQ 47.65625 37.796875 51.625 33 \r\nQ 55.609375 28.21875 55.609375 21.1875 \r\nQ 55.609375 10.40625 48.1875 4.484375 \r\nQ 40.765625 -1.421875 27.09375 -1.421875 \r\nQ 22.515625 -1.421875 17.65625 -0.515625 \r\nQ 12.796875 0.390625 7.625 2.203125 \r\nL 7.625 11.71875 \r\nQ 11.71875 9.328125 16.59375 8.109375 \r\nQ 21.484375 6.890625 26.8125 6.890625 \r\nQ 36.078125 6.890625 40.9375 10.546875 \r\nQ 45.796875 14.203125 45.796875 21.1875 \r\nQ 45.796875 27.640625 41.28125 31.265625 \r\nQ 36.765625 34.90625 28.71875 34.90625 \r\nL 20.21875 34.90625 \r\nL 20.21875 43.015625 \r\nL 29.109375 43.015625 \r\nQ 36.375 43.015625 40.234375 45.921875 \r\nQ 44.09375 48.828125 44.09375 54.296875 \r\nQ 44.09375 59.90625 40.109375 62.90625 \r\nQ 36.140625 65.921875 28.71875 65.921875 \r\nQ 24.65625 65.921875 20.015625 65.03125 \r\nQ 15.375 64.15625 9.8125 62.3125 \r\nL 9.8125 71.09375 \r\nQ 15.4375 72.65625 20.34375 73.4375 \r\nQ 25.25 74.21875 29.59375 74.21875 \r\nQ 40.828125 74.21875 47.359375 69.109375 \r\nQ 53.90625 64.015625 53.90625 55.328125 \r\nQ 53.90625 49.265625 50.4375 45.09375 \r\nQ 46.96875 40.921875 40.578125 39.3125 \r\nz\r\n\" id=\"DejaVuSans-51\"/>\r\n       </defs>\r\n       <use xlink:href=\"#DejaVuSans-51\"/>\r\n       <use x=\"63.623047\" xlink:href=\"#DejaVuSans-48\"/>\r\n       <use x=\"127.246094\" xlink:href=\"#DejaVuSans-48\"/>\r\n      </g>\r\n     </g>\r\n    </g>\r\n   </g>\r\n   <g id=\"matplotlib.axis_2\">\r\n    <g id=\"ytick_1\">\r\n     <g id=\"line2d_5\">\r\n      <defs>\r\n       <path d=\"M 0 0 \r\nL -3.5 0 \r\n\" id=\"m6270464d99\" style=\"stroke:#000000;stroke-width:0.8;\"/>\r\n      </defs>\r\n      <g>\r\n       <use style=\"stroke:#000000;stroke-width:0.8;\" x=\"33.2875\" xlink:href=\"#m6270464d99\" y=\"10.999219\"/>\r\n      </g>\r\n     </g>\r\n     <g id=\"text_5\">\r\n      <!-- 0 -->\r\n      <g transform=\"translate(19.925 14.798438)scale(0.1 -0.1)\">\r\n       <use xlink:href=\"#DejaVuSans-48\"/>\r\n      </g>\r\n     </g>\r\n    </g>\r\n    <g id=\"ytick_2\">\r\n     <g id=\"line2d_6\">\r\n      <g>\r\n       <use style=\"stroke:#000000;stroke-width:0.8;\" x=\"33.2875\" xlink:href=\"#m6270464d99\" y=\"38.179219\"/>\r\n      </g>\r\n     </g>\r\n     <g id=\"text_6\">\r\n      <!-- 50 -->\r\n      <g transform=\"translate(13.5625 41.978438)scale(0.1 -0.1)\">\r\n       <defs>\r\n        <path d=\"M 10.796875 72.90625 \r\nL 49.515625 72.90625 \r\nL 49.515625 64.59375 \r\nL 19.828125 64.59375 \r\nL 19.828125 46.734375 \r\nQ 21.96875 47.46875 24.109375 47.828125 \r\nQ 26.265625 48.1875 28.421875 48.1875 \r\nQ 40.625 48.1875 47.75 41.5 \r\nQ 54.890625 34.8125 54.890625 23.390625 \r\nQ 54.890625 11.625 47.5625 5.09375 \r\nQ 40.234375 -1.421875 26.90625 -1.421875 \r\nQ 22.3125 -1.421875 17.546875 -0.640625 \r\nQ 12.796875 0.140625 7.71875 1.703125 \r\nL 7.71875 11.625 \r\nQ 12.109375 9.234375 16.796875 8.0625 \r\nQ 21.484375 6.890625 26.703125 6.890625 \r\nQ 35.15625 6.890625 40.078125 11.328125 \r\nQ 45.015625 15.765625 45.015625 23.390625 \r\nQ 45.015625 31 40.078125 35.4375 \r\nQ 35.15625 39.890625 26.703125 39.890625 \r\nQ 22.75 39.890625 18.8125 39.015625 \r\nQ 14.890625 38.140625 10.796875 36.28125 \r\nz\r\n\" id=\"DejaVuSans-53\"/>\r\n       </defs>\r\n       <use xlink:href=\"#DejaVuSans-53\"/>\r\n       <use x=\"63.623047\" xlink:href=\"#DejaVuSans-48\"/>\r\n      </g>\r\n     </g>\r\n    </g>\r\n    <g id=\"ytick_3\">\r\n     <g id=\"line2d_7\">\r\n      <g>\r\n       <use style=\"stroke:#000000;stroke-width:0.8;\" x=\"33.2875\" xlink:href=\"#m6270464d99\" y=\"65.359219\"/>\r\n      </g>\r\n     </g>\r\n     <g id=\"text_7\">\r\n      <!-- 100 -->\r\n      <g transform=\"translate(7.2 69.158438)scale(0.1 -0.1)\">\r\n       <use xlink:href=\"#DejaVuSans-49\"/>\r\n       <use x=\"63.623047\" xlink:href=\"#DejaVuSans-48\"/>\r\n       <use x=\"127.246094\" xlink:href=\"#DejaVuSans-48\"/>\r\n      </g>\r\n     </g>\r\n    </g>\r\n    <g id=\"ytick_4\">\r\n     <g id=\"line2d_8\">\r\n      <g>\r\n       <use style=\"stroke:#000000;stroke-width:0.8;\" x=\"33.2875\" xlink:href=\"#m6270464d99\" y=\"92.539219\"/>\r\n      </g>\r\n     </g>\r\n     <g id=\"text_8\">\r\n      <!-- 150 -->\r\n      <g transform=\"translate(7.2 96.338437)scale(0.1 -0.1)\">\r\n       <use xlink:href=\"#DejaVuSans-49\"/>\r\n       <use x=\"63.623047\" xlink:href=\"#DejaVuSans-53\"/>\r\n       <use x=\"127.246094\" xlink:href=\"#DejaVuSans-48\"/>\r\n      </g>\r\n     </g>\r\n    </g>\r\n    <g id=\"ytick_5\">\r\n     <g id=\"line2d_9\">\r\n      <g>\r\n       <use style=\"stroke:#000000;stroke-width:0.8;\" x=\"33.2875\" xlink:href=\"#m6270464d99\" y=\"119.719219\"/>\r\n      </g>\r\n     </g>\r\n     <g id=\"text_9\">\r\n      <!-- 200 -->\r\n      <g transform=\"translate(7.2 123.518438)scale(0.1 -0.1)\">\r\n       <use xlink:href=\"#DejaVuSans-50\"/>\r\n       <use x=\"63.623047\" xlink:href=\"#DejaVuSans-48\"/>\r\n       <use x=\"127.246094\" xlink:href=\"#DejaVuSans-48\"/>\r\n      </g>\r\n     </g>\r\n    </g>\r\n    <g id=\"ytick_6\">\r\n     <g id=\"line2d_10\">\r\n      <g>\r\n       <use style=\"stroke:#000000;stroke-width:0.8;\" x=\"33.2875\" xlink:href=\"#m6270464d99\" y=\"146.899219\"/>\r\n      </g>\r\n     </g>\r\n     <g id=\"text_10\">\r\n      <!-- 250 -->\r\n      <g transform=\"translate(7.2 150.698438)scale(0.1 -0.1)\">\r\n       <use xlink:href=\"#DejaVuSans-50\"/>\r\n       <use x=\"63.623047\" xlink:href=\"#DejaVuSans-53\"/>\r\n       <use x=\"127.246094\" xlink:href=\"#DejaVuSans-48\"/>\r\n      </g>\r\n     </g>\r\n    </g>\r\n    <g id=\"ytick_7\">\r\n     <g id=\"line2d_11\">\r\n      <g>\r\n       <use style=\"stroke:#000000;stroke-width:0.8;\" x=\"33.2875\" xlink:href=\"#m6270464d99\" y=\"174.079219\"/>\r\n      </g>\r\n     </g>\r\n     <g id=\"text_11\">\r\n      <!-- 300 -->\r\n      <g transform=\"translate(7.2 177.878437)scale(0.1 -0.1)\">\r\n       <use xlink:href=\"#DejaVuSans-51\"/>\r\n       <use x=\"63.623047\" xlink:href=\"#DejaVuSans-48\"/>\r\n       <use x=\"127.246094\" xlink:href=\"#DejaVuSans-48\"/>\r\n      </g>\r\n     </g>\r\n    </g>\r\n    <g id=\"ytick_8\">\r\n     <g id=\"line2d_12\">\r\n      <g>\r\n       <use style=\"stroke:#000000;stroke-width:0.8;\" x=\"33.2875\" xlink:href=\"#m6270464d99\" y=\"201.259219\"/>\r\n      </g>\r\n     </g>\r\n     <g id=\"text_12\">\r\n      <!-- 350 -->\r\n      <g transform=\"translate(7.2 205.058437)scale(0.1 -0.1)\">\r\n       <use xlink:href=\"#DejaVuSans-51\"/>\r\n       <use x=\"63.623047\" xlink:href=\"#DejaVuSans-53\"/>\r\n       <use x=\"127.246094\" xlink:href=\"#DejaVuSans-48\"/>\r\n      </g>\r\n     </g>\r\n    </g>\r\n   </g>\r\n   <g id=\"patch_3\">\r\n    <path d=\"M 33.2875 228.167419 \r\nL 33.2875 10.727419 \r\n\" style=\"fill:none;stroke:#000000;stroke-linecap:square;stroke-linejoin:miter;stroke-width:0.8;\"/>\r\n   </g>\r\n   <g id=\"patch_4\">\r\n    <path d=\"M 250.7275 228.167419 \r\nL 250.7275 10.727419 \r\n\" style=\"fill:none;stroke:#000000;stroke-linecap:square;stroke-linejoin:miter;stroke-width:0.8;\"/>\r\n   </g>\r\n   <g id=\"patch_5\">\r\n    <path d=\"M 33.2875 228.167419 \r\nL 250.7275 228.167419 \r\n\" style=\"fill:none;stroke:#000000;stroke-linecap:square;stroke-linejoin:miter;stroke-width:0.8;\"/>\r\n   </g>\r\n   <g id=\"patch_6\">\r\n    <path d=\"M 33.2875 10.727419 \r\nL 250.7275 10.727419 \r\n\" style=\"fill:none;stroke:#000000;stroke-linecap:square;stroke-linejoin:miter;stroke-width:0.8;\"/>\r\n   </g>\r\n  </g>\r\n </g>\r\n <defs>\r\n  <clipPath id=\"p8eb7130b78\">\r\n   <rect height=\"217.44\" width=\"217.44\" x=\"33.2875\" y=\"10.727419\"/>\r\n  </clipPath>\r\n </defs>\r\n</svg>\r\n",
      "image/png": "[encoded data removed]"
     },
     "metadata": {
      "needs_background": "light"
     }
    }
   ],
   "source": [
    "import numpy as np\n",
    "import matplotlib.pyplot as plt\n",
    "def mandelbrot( h,w, maxit=20 ):\n",
    "    \"\"\"Returns an image of the Mandelbrot fractal of size (h,w).\"\"\"\n",
    "\n",
    "    y,x = np.ogrid[ -1.4:1.4:h*1j, -2:0.8:w*1j ]\n",
    "    c = x+y*1j\n",
    "    z = c\n",
    "    divtime = maxit + np.zeros(z.shape, dtype=int)\n",
    "\n",
    "    for i in range(maxit):\n",
    "        z = z**2 + c\n",
    "        diverge = z*np.conj(z) > 2**2            # who is diverging\n",
    "        div_now = diverge & (divtime==maxit)  # who is diverging now\n",
    "        divtime[div_now] = i                  # note when\n",
    "        z[diverge] = 2                        # avoid diverging too much\n",
    "\n",
    "    return divtime\n",
    "\n",
    "plt.imshow(mandelbrot(400,400))\n",
    "plt.show()"
   ]
  },
  {
   "cell_type": "markdown",
   "metadata": {},
   "source": [
    "# Introducing Pandas"
   ]
  },
  {
   "cell_type": "markdown",
   "metadata": {},
   "source": [
    "We have moved from processing file with iterators over rows, to lists with iterators, to using Numpy arrays to do vectorized operations that are much faster and are also less complex to read, understand and to code. We moved from operating on one item in a list at a time, to operating on a whole array at one time. Now we want to be able to move to handling the whole table of data at once.\n",
    "\n",
    "One of the problems we did not attempt to deal with using arrays, or lists, was how to keep rows of data together so that if we skip a missing value in one variable like price, it does not cause the other variables to be mis-aligned due to changes in the length of the array or list for one entry. This is one of many things that the pandas library does for us.\n",
    "We skip forward a bit to Chapter 6 in Python for Data Analysis in order to learn how to load our data using pandas. \n",
    "\n",
    "We also want to keep the Pandas docs handy here: http://pandas.pydata.org/\n",
    "\n",
    "Here is how we start with loading data:"
   ]
  },
  {
   "cell_type": "code",
   "execution_count": 50,
   "metadata": {
    "collapsed": false
   },
   "outputs": [
    {
     "output_type": "execute_result",
     "data": {
      "text/plain": [
       "   POPGROUP             label             GEOIDLONG       GEOID  \\\n",
       "0         1  Total population  1400000US06001400100  6001400100   \n",
       "1         1  Total population  1400000US06001400200  6001400200   \n",
       "2         1  Total population  1400000US06001400300  6001400300   \n",
       "3         1  Total population  1400000US06001400400  6001400400   \n",
       "4         1  Total population  1400000US06001400500  6001400500   \n",
       "\n",
       "                                      geodisplay  Population  \n",
       "0  Census Tract 4001, Alameda County, California        2937  \n",
       "1  Census Tract 4002, Alameda County, California        1974  \n",
       "2  Census Tract 4003, Alameda County, California        4865  \n",
       "3  Census Tract 4004, Alameda County, California        3703  \n",
       "4  Census Tract 4005, Alameda County, California        3517  "
      ],
      "text/html": "<div>\n<style scoped>\n    .dataframe tbody tr th:only-of-type {\n        vertical-align: middle;\n    }\n\n    .dataframe tbody tr th {\n        vertical-align: top;\n    }\n\n    .dataframe thead th {\n        text-align: right;\n    }\n</style>\n<table border=\"1\" class=\"dataframe\">\n  <thead>\n    <tr style=\"text-align: right;\">\n      <th></th>\n      <th>POPGROUP</th>\n      <th>label</th>\n      <th>GEOIDLONG</th>\n      <th>GEOID</th>\n      <th>geodisplay</th>\n      <th>Population</th>\n    </tr>\n  </thead>\n  <tbody>\n    <tr>\n      <th>0</th>\n      <td>1</td>\n      <td>Total population</td>\n      <td>1400000US06001400100</td>\n      <td>6001400100</td>\n      <td>Census Tract 4001, Alameda County, California</td>\n      <td>2937</td>\n    </tr>\n    <tr>\n      <th>1</th>\n      <td>1</td>\n      <td>Total population</td>\n      <td>1400000US06001400200</td>\n      <td>6001400200</td>\n      <td>Census Tract 4002, Alameda County, California</td>\n      <td>1974</td>\n    </tr>\n    <tr>\n      <th>2</th>\n      <td>1</td>\n      <td>Total population</td>\n      <td>1400000US06001400300</td>\n      <td>6001400300</td>\n      <td>Census Tract 4003, Alameda County, California</td>\n      <td>4865</td>\n    </tr>\n    <tr>\n      <th>3</th>\n      <td>1</td>\n      <td>Total population</td>\n      <td>1400000US06001400400</td>\n      <td>6001400400</td>\n      <td>Census Tract 4004, Alameda County, California</td>\n      <td>3703</td>\n    </tr>\n    <tr>\n      <th>4</th>\n      <td>1</td>\n      <td>Total population</td>\n      <td>1400000US06001400500</td>\n      <td>6001400500</td>\n      <td>Census Tract 4005, Alameda County, California</td>\n      <td>3517</td>\n    </tr>\n  </tbody>\n</table>\n</div>"
     },
     "metadata": {},
     "execution_count": 50
    }
   ],
   "source": [
    "import pandas as pd\n",
    "df = pd.read_csv('ca_tracts_pop_cleaned.csv')\n",
    "df[:5]"
   ]
  },
  {
   "cell_type": "markdown",
   "metadata": {},
   "source": [
    "Notice a few things that have happened here.\n",
    "\n",
    "1. The pd.read_csv has enough built-in smarts to read the first row of the file, get the variable names from it.\n",
    "1. It then read all rows in the file, and used them to create a pandas DataFrame, which is like a set of Numpy arrays we can treat as a table.\n",
    "1. It created an automatic unique index, beginning with zero.\n",
    "1. It inferred the type of each variable from the data.  All were interpreted as strings, except the index that pandas created automatically.\n",
    "\n",
    "Let's explore this pandas DataFrame to learn some of its features.  Note that a pandas Series is like one column of this DataFrame, coupled with its own index column.  So the main difference between a Series and a DataFrame is that the latter has multiple columns. Columns can be of different data types, but within a column, must be consistent."
   ]
  },
  {
   "cell_type": "code",
   "execution_count": 51,
   "metadata": {
    "collapsed": false
   },
   "outputs": [
    {
     "output_type": "execute_result",
     "data": {
      "text/plain": [
       "(8000, 6)"
      ]
     },
     "metadata": {},
     "execution_count": 51
    }
   ],
   "source": [
    "df.shape"
   ]
  },
  {
   "cell_type": "code",
   "execution_count": 52,
   "metadata": {
    "collapsed": false
   },
   "outputs": [
    {
     "output_type": "execute_result",
     "data": {
      "text/plain": [
       "Index(['POPGROUP', 'label', 'GEOIDLONG', 'GEOID', 'geodisplay', 'Population'], dtype='object')"
      ]
     },
     "metadata": {},
     "execution_count": 52
    }
   ],
   "source": [
    "df.columns"
   ]
  },
  {
   "cell_type": "code",
   "execution_count": 53,
   "metadata": {
    "collapsed": false
   },
   "outputs": [
    {
     "output_type": "execute_result",
     "data": {
      "text/plain": [
       "POPGROUP       int64\n",
       "label         object\n",
       "GEOIDLONG     object\n",
       "GEOID          int64\n",
       "geodisplay    object\n",
       "Population     int64\n",
       "dtype: object"
      ]
     },
     "metadata": {},
     "execution_count": 53
    }
   ],
   "source": [
    "df.dtypes"
   ]
  },
  {
   "cell_type": "markdown",
   "metadata": {},
   "source": [
    "We can select subsets of the rows by indexing, and select specific columns by their name:"
   ]
  },
  {
   "cell_type": "code",
   "execution_count": 54,
   "metadata": {
    "collapsed": false
   },
   "outputs": [
    {
     "output_type": "execute_result",
     "data": {
      "text/plain": [
       "0    2937\n",
       "1    1974\n",
       "2    4865\n",
       "3    3703\n",
       "4    3517\n",
       "5    1571\n",
       "6    4206\n",
       "7    3594\n",
       "8    2302\n",
       "9    5678\n",
       "Name: Population, dtype: int64"
      ]
     },
     "metadata": {},
     "execution_count": 54
    }
   ],
   "source": [
    "df['Population'][:10]"
   ]
  },
  {
   "cell_type": "markdown",
   "metadata": {},
   "source": [
    "We can get all of our statistics on the Population column in one short command:"
   ]
  },
  {
   "cell_type": "code",
   "execution_count": 55,
   "metadata": {
    "collapsed": false
   },
   "outputs": [
    {
     "output_type": "execute_result",
     "data": {
      "text/plain": [
       "count     8000.000000\n",
       "mean      4656.669625\n",
       "std       1953.036084\n",
       "min        112.000000\n",
       "25%       3372.000000\n",
       "50%       4422.000000\n",
       "75%       5662.000000\n",
       "max      37452.000000\n",
       "Name: Population, dtype: float64"
      ]
     },
     "metadata": {},
     "execution_count": 55
    }
   ],
   "source": [
    "df['Population'].describe()"
   ]
  },
  {
   "cell_type": "markdown",
   "metadata": {},
   "source": [
    "Or get these values 'a la carte'.  You might recognize that these are essentially Numpy functions, but that in pandas we can now deal with multiple data types."
   ]
  },
  {
   "cell_type": "code",
   "execution_count": 56,
   "metadata": {
    "collapsed": false
   },
   "outputs": [
    {
     "output_type": "execute_result",
     "data": {
      "text/plain": [
       "112"
      ]
     },
     "metadata": {},
     "execution_count": 56
    }
   ],
   "source": [
    "df['Population'].min()"
   ]
  },
  {
   "cell_type": "code",
   "execution_count": 57,
   "metadata": {
    "collapsed": false
   },
   "outputs": [
    {
     "output_type": "execute_result",
     "data": {
      "text/plain": [
       "37452"
      ]
     },
     "metadata": {},
     "execution_count": 57
    }
   ],
   "source": [
    "df['Population'].max()"
   ]
  },
  {
   "cell_type": "code",
   "execution_count": 58,
   "metadata": {
    "collapsed": false
   },
   "outputs": [
    {
     "output_type": "execute_result",
     "data": {
      "text/plain": [
       "4422.0"
      ]
     },
     "metadata": {},
     "execution_count": 58
    }
   ],
   "source": [
    "df['Population'].median()"
   ]
  },
  {
   "cell_type": "markdown",
   "metadata": {},
   "source": [
    "We can also do some plotting of the data without much effort:"
   ]
  },
  {
   "cell_type": "code",
   "execution_count": 59,
   "metadata": {
    "collapsed": false
   },
   "outputs": [],
   "source": [
    "import matplotlib.pyplot as plt\n",
    "%matplotlib inline"
   ]
  },
  {
   "cell_type": "code",
   "execution_count": 60,
   "metadata": {
    "collapsed": false
   },
   "outputs": [
    {
     "output_type": "execute_result",
     "data": {
      "text/plain": [
       "array([[<AxesSubplot:title={'center':'Population'}>]], dtype=object)"
      ]
     },
     "metadata": {},
     "execution_count": 60
    },
    {
     "output_type": "display_data",
     "data": {
      "text/plain": "<Figure size 432x288 with 0 Axes>"
     },
     "metadata": {}
    },
    {
     "output_type": "display_data",
     "data": {
      "text/plain": "<Figure size 432x288 with 1 Axes>",
      "image/svg+xml": "<?xml version=\"1.0\" encoding=\"utf-8\" standalone=\"no\"?>\r\n<!DOCTYPE svg PUBLIC \"-//W3C//DTD SVG 1.1//EN\"\r\n  \"http://www.w3.org/Graphics/SVG/1.1/DTD/svg11.dtd\">\r\n<!-- Created with matplotlib (https://matplotlib.org/) -->\r\n<svg height=\"263.63625pt\" version=\"1.1\" viewBox=\"0 0 381.65 263.63625\" width=\"381.65pt\" xmlns=\"http://www.w3.org/2000/svg\" xmlns:xlink=\"http://www.w3.org/1999/xlink\">\r\n <metadata>\r\n  <rdf:RDF xmlns:cc=\"http://creativecommons.org/ns#\" xmlns:dc=\"http://purl.org/dc/elements/1.1/\" xmlns:rdf=\"http://www.w3.org/1999/02/22-rdf-syntax-ns#\">\r\n   <cc:Work>\r\n    <dc:type rdf:resource=\"http://purl.org/dc/dcmitype/StillImage\"/>\r\n    <dc:date>2021-02-24T12:00:28.514053</dc:date>\r\n    <dc:format>image/svg+xml</dc:format>\r\n    <dc:creator>\r\n     <cc:Agent>\r\n      <dc:title>Matplotlib v3.3.2, https://matplotlib.org/</dc:title>\r\n     </cc:Agent>\r\n    </dc:creator>\r\n   </cc:Work>\r\n  </rdf:RDF>\r\n </metadata>\r\n <defs>\r\n  <style type=\"text/css\">*{stroke-linecap:butt;stroke-linejoin:round;}</style>\r\n </defs>\r\n <g id=\"figure_1\">\r\n  <g id=\"patch_1\">\r\n   <path d=\"M -0 263.63625 \r\nL 381.65 263.63625 \r\nL 381.65 0 \r\nL -0 0 \r\nz\r\n\" style=\"fill:none;\"/>\r\n  </g>\r\n  <g id=\"axes_1\">\r\n   <g id=\"patch_2\">\r\n    <path d=\"M 39.65 239.758125 \r\nL 374.45 239.758125 \r\nL 374.45 22.318125 \r\nL 39.65 22.318125 \r\nz\r\n\" style=\"fill:#ffffff;\"/>\r\n   </g>\r\n   <g id=\"patch_3\">\r\n    <path clip-path=\"url(#p185851de86)\" d=\"M 54.868182 239.758125 \r\nL 60.955455 239.758125 \r\nL 60.955455 232.864647 \r\nL 54.868182 232.864647 \r\nz\r\n\" style=\"fill:#1f77b4;\"/>\r\n   </g>\r\n   <g id=\"patch_4\">\r\n    <path clip-path=\"url(#p185851de86)\" d=\"M 60.955455 239.758125 \r\nL 67.042727 239.758125 \r\nL 67.042727 221.469305 \r\nL 60.955455 221.469305 \r\nz\r\n\" style=\"fill:#1f77b4;\"/>\r\n   </g>\r\n   <g id=\"patch_5\">\r\n    <path clip-path=\"url(#p185851de86)\" d=\"M 67.042727 239.758125 \r\nL 73.13 239.758125 \r\nL 73.13 183.7662 \r\nL 67.042727 183.7662 \r\nz\r\n\" style=\"fill:#1f77b4;\"/>\r\n   </g>\r\n   <g id=\"patch_6\">\r\n    <path clip-path=\"url(#p185851de86)\" d=\"M 73.13 239.758125 \r\nL 79.217273 239.758125 \r\nL 79.217273 110.048187 \r\nL 73.13 110.048187 \r\nz\r\n\" style=\"fill:#1f77b4;\"/>\r\n   </g>\r\n   <g id=\"patch_7\">\r\n    <path clip-path=\"url(#p185851de86)\" d=\"M 79.217273 239.758125 \r\nL 85.304545 239.758125 \r\nL 85.304545 48.569616 \r\nL 79.217273 48.569616 \r\nz\r\n\" style=\"fill:#1f77b4;\"/>\r\n   </g>\r\n   <g id=\"patch_8\">\r\n    <path clip-path=\"url(#p185851de86)\" d=\"M 85.304545 239.758125 \r\nL 91.391818 239.758125 \r\nL 91.391818 32.672411 \r\nL 85.304545 32.672411 \r\nz\r\n\" style=\"fill:#1f77b4;\"/>\r\n   </g>\r\n   <g id=\"patch_9\">\r\n    <path clip-path=\"url(#p185851de86)\" d=\"M 91.391818 239.758125 \r\nL 97.479091 239.758125 \r\nL 97.479091 66.436386 \r\nL 91.391818 66.436386 \r\nz\r\n\" style=\"fill:#1f77b4;\"/>\r\n   </g>\r\n   <g id=\"patch_10\">\r\n    <path clip-path=\"url(#p185851de86)\" d=\"M 97.479091 239.758125 \r\nL 103.566364 239.758125 \r\nL 103.566364 109.907504 \r\nL 97.479091 109.907504 \r\nz\r\n\" style=\"fill:#1f77b4;\"/>\r\n   </g>\r\n   <g id=\"patch_11\">\r\n    <path clip-path=\"url(#p185851de86)\" d=\"M 103.566364 239.758125 \r\nL 109.653636 239.758125 \r\nL 109.653636 148.454709 \r\nL 103.566364 148.454709 \r\nz\r\n\" style=\"fill:#1f77b4;\"/>\r\n   </g>\r\n   <g id=\"patch_12\">\r\n    <path clip-path=\"url(#p185851de86)\" d=\"M 109.653636 239.758125 \r\nL 115.740909 239.758125 \r\nL 115.740909 181.233901 \r\nL 109.653636 181.233901 \r\nz\r\n\" style=\"fill:#1f77b4;\"/>\r\n   </g>\r\n   <g id=\"patch_13\">\r\n    <path clip-path=\"url(#p185851de86)\" d=\"M 115.740909 239.758125 \r\nL 121.828182 239.758125 \r\nL 121.828182 212.746945 \r\nL 115.740909 212.746945 \r\nz\r\n\" style=\"fill:#1f77b4;\"/>\r\n   </g>\r\n   <g id=\"patch_14\">\r\n    <path clip-path=\"url(#p185851de86)\" d=\"M 121.828182 239.758125 \r\nL 127.915455 239.758125 \r\nL 127.915455 227.518684 \r\nL 121.828182 227.518684 \r\nz\r\n\" style=\"fill:#1f77b4;\"/>\r\n   </g>\r\n   <g id=\"patch_15\">\r\n    <path clip-path=\"url(#p185851de86)\" d=\"M 127.915455 239.758125 \r\nL 134.002727 239.758125 \r\nL 134.002727 232.161231 \r\nL 127.915455 232.161231 \r\nz\r\n\" style=\"fill:#1f77b4;\"/>\r\n   </g>\r\n   <g id=\"patch_16\">\r\n    <path clip-path=\"url(#p185851de86)\" d=\"M 134.002727 239.758125 \r\nL 140.09 239.758125 \r\nL 140.09 234.834212 \r\nL 134.002727 234.834212 \r\nz\r\n\" style=\"fill:#1f77b4;\"/>\r\n   </g>\r\n   <g id=\"patch_17\">\r\n    <path clip-path=\"url(#p185851de86)\" d=\"M 140.09 239.758125 \r\nL 146.177273 239.758125 \r\nL 146.177273 236.522411 \r\nL 140.09 236.522411 \r\nz\r\n\" style=\"fill:#1f77b4;\"/>\r\n   </g>\r\n   <g id=\"patch_18\">\r\n    <path clip-path=\"url(#p185851de86)\" d=\"M 146.177273 239.758125 \r\nL 152.264545 239.758125 \r\nL 152.264545 238.210609 \r\nL 146.177273 238.210609 \r\nz\r\n\" style=\"fill:#1f77b4;\"/>\r\n   </g>\r\n   <g id=\"patch_19\">\r\n    <path clip-path=\"url(#p185851de86)\" d=\"M 152.264545 239.758125 \r\nL 158.351818 239.758125 \r\nL 158.351818 238.351293 \r\nL 152.264545 238.351293 \r\nz\r\n\" style=\"fill:#1f77b4;\"/>\r\n   </g>\r\n   <g id=\"patch_20\">\r\n    <path clip-path=\"url(#p185851de86)\" d=\"M 158.351818 239.758125 \r\nL 164.439091 239.758125 \r\nL 164.439091 238.914026 \r\nL 158.351818 238.914026 \r\nz\r\n\" style=\"fill:#1f77b4;\"/>\r\n   </g>\r\n   <g id=\"patch_21\">\r\n    <path clip-path=\"url(#p185851de86)\" d=\"M 164.439091 239.758125 \r\nL 170.526364 239.758125 \r\nL 170.526364 238.632659 \r\nL 164.439091 238.632659 \r\nz\r\n\" style=\"fill:#1f77b4;\"/>\r\n   </g>\r\n   <g id=\"patch_22\">\r\n    <path clip-path=\"url(#p185851de86)\" d=\"M 170.526364 239.758125 \r\nL 176.613636 239.758125 \r\nL 176.613636 239.195392 \r\nL 170.526364 239.195392 \r\nz\r\n\" style=\"fill:#1f77b4;\"/>\r\n   </g>\r\n   <g id=\"patch_23\">\r\n    <path clip-path=\"url(#p185851de86)\" d=\"M 176.613636 239.758125 \r\nL 182.700909 239.758125 \r\nL 182.700909 238.773342 \r\nL 176.613636 238.773342 \r\nz\r\n\" style=\"fill:#1f77b4;\"/>\r\n   </g>\r\n   <g id=\"patch_24\">\r\n    <path clip-path=\"url(#p185851de86)\" d=\"M 182.700909 239.758125 \r\nL 188.788182 239.758125 \r\nL 188.788182 239.476759 \r\nL 182.700909 239.476759 \r\nz\r\n\" style=\"fill:#1f77b4;\"/>\r\n   </g>\r\n   <g id=\"patch_25\">\r\n    <path clip-path=\"url(#p185851de86)\" d=\"M 188.788182 239.758125 \r\nL 194.875455 239.758125 \r\nL 194.875455 239.336075 \r\nL 188.788182 239.336075 \r\nz\r\n\" style=\"fill:#1f77b4;\"/>\r\n   </g>\r\n   <g id=\"patch_26\">\r\n    <path clip-path=\"url(#p185851de86)\" d=\"M 194.875455 239.758125 \r\nL 200.962727 239.758125 \r\nL 200.962727 239.617442 \r\nL 194.875455 239.617442 \r\nz\r\n\" style=\"fill:#1f77b4;\"/>\r\n   </g>\r\n   <g id=\"patch_27\">\r\n    <path clip-path=\"url(#p185851de86)\" d=\"M 200.962727 239.758125 \r\nL 207.05 239.758125 \r\nL 207.05 239.758125 \r\nL 200.962727 239.758125 \r\nz\r\n\" style=\"fill:#1f77b4;\"/>\r\n   </g>\r\n   <g id=\"patch_28\">\r\n    <path clip-path=\"url(#p185851de86)\" d=\"M 207.05 239.758125 \r\nL 213.137273 239.758125 \r\nL 213.137273 239.617442 \r\nL 207.05 239.617442 \r\nz\r\n\" style=\"fill:#1f77b4;\"/>\r\n   </g>\r\n   <g id=\"patch_29\">\r\n    <path clip-path=\"url(#p185851de86)\" d=\"M 213.137273 239.758125 \r\nL 219.224545 239.758125 \r\nL 219.224545 239.476759 \r\nL 213.137273 239.476759 \r\nz\r\n\" style=\"fill:#1f77b4;\"/>\r\n   </g>\r\n   <g id=\"patch_30\">\r\n    <path clip-path=\"url(#p185851de86)\" d=\"M 219.224545 239.758125 \r\nL 225.311818 239.758125 \r\nL 225.311818 239.758125 \r\nL 219.224545 239.758125 \r\nz\r\n\" style=\"fill:#1f77b4;\"/>\r\n   </g>\r\n   <g id=\"patch_31\">\r\n    <path clip-path=\"url(#p185851de86)\" d=\"M 225.311818 239.758125 \r\nL 231.399091 239.758125 \r\nL 231.399091 239.617442 \r\nL 225.311818 239.617442 \r\nz\r\n\" style=\"fill:#1f77b4;\"/>\r\n   </g>\r\n   <g id=\"patch_32\">\r\n    <path clip-path=\"url(#p185851de86)\" d=\"M 231.399091 239.758125 \r\nL 237.486364 239.758125 \r\nL 237.486364 239.758125 \r\nL 231.399091 239.758125 \r\nz\r\n\" style=\"fill:#1f77b4;\"/>\r\n   </g>\r\n   <g id=\"patch_33\">\r\n    <path clip-path=\"url(#p185851de86)\" d=\"M 237.486364 239.758125 \r\nL 243.573636 239.758125 \r\nL 243.573636 239.617442 \r\nL 237.486364 239.617442 \r\nz\r\n\" style=\"fill:#1f77b4;\"/>\r\n   </g>\r\n   <g id=\"patch_34\">\r\n    <path clip-path=\"url(#p185851de86)\" d=\"M 243.573636 239.758125 \r\nL 249.660909 239.758125 \r\nL 249.660909 239.758125 \r\nL 243.573636 239.758125 \r\nz\r\n\" style=\"fill:#1f77b4;\"/>\r\n   </g>\r\n   <g id=\"patch_35\">\r\n    <path clip-path=\"url(#p185851de86)\" d=\"M 249.660909 239.758125 \r\nL 255.748182 239.758125 \r\nL 255.748182 239.758125 \r\nL 249.660909 239.758125 \r\nz\r\n\" style=\"fill:#1f77b4;\"/>\r\n   </g>\r\n   <g id=\"patch_36\">\r\n    <path clip-path=\"url(#p185851de86)\" d=\"M 255.748182 239.758125 \r\nL 261.835455 239.758125 \r\nL 261.835455 239.758125 \r\nL 255.748182 239.758125 \r\nz\r\n\" style=\"fill:#1f77b4;\"/>\r\n   </g>\r\n   <g id=\"patch_37\">\r\n    <path clip-path=\"url(#p185851de86)\" d=\"M 261.835455 239.758125 \r\nL 267.922727 239.758125 \r\nL 267.922727 239.758125 \r\nL 261.835455 239.758125 \r\nz\r\n\" style=\"fill:#1f77b4;\"/>\r\n   </g>\r\n   <g id=\"patch_38\">\r\n    <path clip-path=\"url(#p185851de86)\" d=\"M 267.922727 239.758125 \r\nL 274.01 239.758125 \r\nL 274.01 239.758125 \r\nL 267.922727 239.758125 \r\nz\r\n\" style=\"fill:#1f77b4;\"/>\r\n   </g>\r\n   <g id=\"patch_39\">\r\n    <path clip-path=\"url(#p185851de86)\" d=\"M 274.01 239.758125 \r\nL 280.097273 239.758125 \r\nL 280.097273 239.758125 \r\nL 274.01 239.758125 \r\nz\r\n\" style=\"fill:#1f77b4;\"/>\r\n   </g>\r\n   <g id=\"patch_40\">\r\n    <path clip-path=\"url(#p185851de86)\" d=\"M 280.097273 239.758125 \r\nL 286.184545 239.758125 \r\nL 286.184545 239.758125 \r\nL 280.097273 239.758125 \r\nz\r\n\" style=\"fill:#1f77b4;\"/>\r\n   </g>\r\n   <g id=\"patch_41\">\r\n    <path clip-path=\"url(#p185851de86)\" d=\"M 286.184545 239.758125 \r\nL 292.271818 239.758125 \r\nL 292.271818 239.617442 \r\nL 286.184545 239.617442 \r\nz\r\n\" style=\"fill:#1f77b4;\"/>\r\n   </g>\r\n   <g id=\"patch_42\">\r\n    <path clip-path=\"url(#p185851de86)\" d=\"M 292.271818 239.758125 \r\nL 298.359091 239.758125 \r\nL 298.359091 239.758125 \r\nL 292.271818 239.758125 \r\nz\r\n\" style=\"fill:#1f77b4;\"/>\r\n   </g>\r\n   <g id=\"patch_43\">\r\n    <path clip-path=\"url(#p185851de86)\" d=\"M 298.359091 239.758125 \r\nL 304.446364 239.758125 \r\nL 304.446364 239.758125 \r\nL 298.359091 239.758125 \r\nz\r\n\" style=\"fill:#1f77b4;\"/>\r\n   </g>\r\n   <g id=\"patch_44\">\r\n    <path clip-path=\"url(#p185851de86)\" d=\"M 304.446364 239.758125 \r\nL 310.533636 239.758125 \r\nL 310.533636 239.758125 \r\nL 304.446364 239.758125 \r\nz\r\n\" style=\"fill:#1f77b4;\"/>\r\n   </g>\r\n   <g id=\"patch_45\">\r\n    <path clip-path=\"url(#p185851de86)\" d=\"M 310.533636 239.758125 \r\nL 316.620909 239.758125 \r\nL 316.620909 239.758125 \r\nL 310.533636 239.758125 \r\nz\r\n\" style=\"fill:#1f77b4;\"/>\r\n   </g>\r\n   <g id=\"patch_46\">\r\n    <path clip-path=\"url(#p185851de86)\" d=\"M 316.620909 239.758125 \r\nL 322.708182 239.758125 \r\nL 322.708182 239.758125 \r\nL 316.620909 239.758125 \r\nz\r\n\" style=\"fill:#1f77b4;\"/>\r\n   </g>\r\n   <g id=\"patch_47\">\r\n    <path clip-path=\"url(#p185851de86)\" d=\"M 322.708182 239.758125 \r\nL 328.795455 239.758125 \r\nL 328.795455 239.758125 \r\nL 322.708182 239.758125 \r\nz\r\n\" style=\"fill:#1f77b4;\"/>\r\n   </g>\r\n   <g id=\"patch_48\">\r\n    <path clip-path=\"url(#p185851de86)\" d=\"M 328.795455 239.758125 \r\nL 334.882727 239.758125 \r\nL 334.882727 239.758125 \r\nL 328.795455 239.758125 \r\nz\r\n\" style=\"fill:#1f77b4;\"/>\r\n   </g>\r\n   <g id=\"patch_49\">\r\n    <path clip-path=\"url(#p185851de86)\" d=\"M 334.882727 239.758125 \r\nL 340.97 239.758125 \r\nL 340.97 239.758125 \r\nL 334.882727 239.758125 \r\nz\r\n\" style=\"fill:#1f77b4;\"/>\r\n   </g>\r\n   <g id=\"patch_50\">\r\n    <path clip-path=\"url(#p185851de86)\" d=\"M 340.97 239.758125 \r\nL 347.057273 239.758125 \r\nL 347.057273 239.758125 \r\nL 340.97 239.758125 \r\nz\r\n\" style=\"fill:#1f77b4;\"/>\r\n   </g>\r\n   <g id=\"patch_51\">\r\n    <path clip-path=\"url(#p185851de86)\" d=\"M 347.057273 239.758125 \r\nL 353.144545 239.758125 \r\nL 353.144545 239.758125 \r\nL 347.057273 239.758125 \r\nz\r\n\" style=\"fill:#1f77b4;\"/>\r\n   </g>\r\n   <g id=\"patch_52\">\r\n    <path clip-path=\"url(#p185851de86)\" d=\"M 353.144545 239.758125 \r\nL 359.231818 239.758125 \r\nL 359.231818 239.617442 \r\nL 353.144545 239.617442 \r\nz\r\n\" style=\"fill:#1f77b4;\"/>\r\n   </g>\r\n   <g id=\"matplotlib.axis_1\">\r\n    <g id=\"xtick_1\">\r\n     <g id=\"line2d_1\">\r\n      <path clip-path=\"url(#p185851de86)\" d=\"M 53.955254 239.758125 \r\nL 53.955254 22.318125 \r\n\" style=\"fill:none;stroke:#b0b0b0;stroke-linecap:square;stroke-width:0.8;\"/>\r\n     </g>\r\n     <g id=\"line2d_2\">\r\n      <defs>\r\n       <path d=\"M 0 0 \r\nL 0 3.5 \r\n\" id=\"m2d7f1698e9\" style=\"stroke:#000000;stroke-width:0.8;\"/>\r\n      </defs>\r\n      <g>\r\n       <use style=\"stroke:#000000;stroke-width:0.8;\" x=\"53.955254\" xlink:href=\"#m2d7f1698e9\" y=\"239.758125\"/>\r\n      </g>\r\n     </g>\r\n     <g id=\"text_1\">\r\n      <!-- 0 -->\r\n      <g transform=\"translate(50.774004 254.356563)scale(0.1 -0.1)\">\r\n       <defs>\r\n        <path d=\"M 31.78125 66.40625 \r\nQ 24.171875 66.40625 20.328125 58.90625 \r\nQ 16.5 51.421875 16.5 36.375 \r\nQ 16.5 21.390625 20.328125 13.890625 \r\nQ 24.171875 6.390625 31.78125 6.390625 \r\nQ 39.453125 6.390625 43.28125 13.890625 \r\nQ 47.125 21.390625 47.125 36.375 \r\nQ 47.125 51.421875 43.28125 58.90625 \r\nQ 39.453125 66.40625 31.78125 66.40625 \r\nz\r\nM 31.78125 74.21875 \r\nQ 44.046875 74.21875 50.515625 64.515625 \r\nQ 56.984375 54.828125 56.984375 36.375 \r\nQ 56.984375 17.96875 50.515625 8.265625 \r\nQ 44.046875 -1.421875 31.78125 -1.421875 \r\nQ 19.53125 -1.421875 13.0625 8.265625 \r\nQ 6.59375 17.96875 6.59375 36.375 \r\nQ 6.59375 54.828125 13.0625 64.515625 \r\nQ 19.53125 74.21875 31.78125 74.21875 \r\nz\r\n\" id=\"DejaVuSans-48\"/>\r\n       </defs>\r\n       <use xlink:href=\"#DejaVuSans-48\"/>\r\n      </g>\r\n     </g>\r\n    </g>\r\n    <g id=\"xtick_2\">\r\n     <g id=\"line2d_3\">\r\n      <path clip-path=\"url(#p185851de86)\" d=\"M 94.710963 239.758125 \r\nL 94.710963 22.318125 \r\n\" style=\"fill:none;stroke:#b0b0b0;stroke-linecap:square;stroke-width:0.8;\"/>\r\n     </g>\r\n     <g id=\"line2d_4\">\r\n      <g>\r\n       <use style=\"stroke:#000000;stroke-width:0.8;\" x=\"94.710963\" xlink:href=\"#m2d7f1698e9\" y=\"239.758125\"/>\r\n      </g>\r\n     </g>\r\n     <g id=\"text_2\">\r\n      <!-- 5000 -->\r\n      <g transform=\"translate(81.985963 254.356563)scale(0.1 -0.1)\">\r\n       <defs>\r\n        <path d=\"M 10.796875 72.90625 \r\nL 49.515625 72.90625 \r\nL 49.515625 64.59375 \r\nL 19.828125 64.59375 \r\nL 19.828125 46.734375 \r\nQ 21.96875 47.46875 24.109375 47.828125 \r\nQ 26.265625 48.1875 28.421875 48.1875 \r\nQ 40.625 48.1875 47.75 41.5 \r\nQ 54.890625 34.8125 54.890625 23.390625 \r\nQ 54.890625 11.625 47.5625 5.09375 \r\nQ 40.234375 -1.421875 26.90625 -1.421875 \r\nQ 22.3125 -1.421875 17.546875 -0.640625 \r\nQ 12.796875 0.140625 7.71875 1.703125 \r\nL 7.71875 11.625 \r\nQ 12.109375 9.234375 16.796875 8.0625 \r\nQ 21.484375 6.890625 26.703125 6.890625 \r\nQ 35.15625 6.890625 40.078125 11.328125 \r\nQ 45.015625 15.765625 45.015625 23.390625 \r\nQ 45.015625 31 40.078125 35.4375 \r\nQ 35.15625 39.890625 26.703125 39.890625 \r\nQ 22.75 39.890625 18.8125 39.015625 \r\nQ 14.890625 38.140625 10.796875 36.28125 \r\nz\r\n\" id=\"DejaVuSans-53\"/>\r\n       </defs>\r\n       <use xlink:href=\"#DejaVuSans-53\"/>\r\n       <use x=\"63.623047\" xlink:href=\"#DejaVuSans-48\"/>\r\n       <use x=\"127.246094\" xlink:href=\"#DejaVuSans-48\"/>\r\n       <use x=\"190.869141\" xlink:href=\"#DejaVuSans-48\"/>\r\n      </g>\r\n     </g>\r\n    </g>\r\n    <g id=\"xtick_3\">\r\n     <g id=\"line2d_5\">\r\n      <path clip-path=\"url(#p185851de86)\" d=\"M 135.466672 239.758125 \r\nL 135.466672 22.318125 \r\n\" style=\"fill:none;stroke:#b0b0b0;stroke-linecap:square;stroke-width:0.8;\"/>\r\n     </g>\r\n     <g id=\"line2d_6\">\r\n      <g>\r\n       <use style=\"stroke:#000000;stroke-width:0.8;\" x=\"135.466672\" xlink:href=\"#m2d7f1698e9\" y=\"239.758125\"/>\r\n      </g>\r\n     </g>\r\n     <g id=\"text_3\">\r\n      <!-- 10000 -->\r\n      <g transform=\"translate(119.560422 254.356563)scale(0.1 -0.1)\">\r\n       <defs>\r\n        <path d=\"M 12.40625 8.296875 \r\nL 28.515625 8.296875 \r\nL 28.515625 63.921875 \r\nL 10.984375 60.40625 \r\nL 10.984375 69.390625 \r\nL 28.421875 72.90625 \r\nL 38.28125 72.90625 \r\nL 38.28125 8.296875 \r\nL 54.390625 8.296875 \r\nL 54.390625 0 \r\nL 12.40625 0 \r\nz\r\n\" id=\"DejaVuSans-49\"/>\r\n       </defs>\r\n       <use xlink:href=\"#DejaVuSans-49\"/>\r\n       <use x=\"63.623047\" xlink:href=\"#DejaVuSans-48\"/>\r\n       <use x=\"127.246094\" xlink:href=\"#DejaVuSans-48\"/>\r\n       <use x=\"190.869141\" xlink:href=\"#DejaVuSans-48\"/>\r\n       <use x=\"254.492188\" xlink:href=\"#DejaVuSans-48\"/>\r\n      </g>\r\n     </g>\r\n    </g>\r\n    <g id=\"xtick_4\">\r\n     <g id=\"line2d_7\">\r\n      <path clip-path=\"url(#p185851de86)\" d=\"M 176.222382 239.758125 \r\nL 176.222382 22.318125 \r\n\" style=\"fill:none;stroke:#b0b0b0;stroke-linecap:square;stroke-width:0.8;\"/>\r\n     </g>\r\n     <g id=\"line2d_8\">\r\n      <g>\r\n       <use style=\"stroke:#000000;stroke-width:0.8;\" x=\"176.222382\" xlink:href=\"#m2d7f1698e9\" y=\"239.758125\"/>\r\n      </g>\r\n     </g>\r\n     <g id=\"text_4\">\r\n      <!-- 15000 -->\r\n      <g transform=\"translate(160.316132 254.356563)scale(0.1 -0.1)\">\r\n       <use xlink:href=\"#DejaVuSans-49\"/>\r\n       <use x=\"63.623047\" xlink:href=\"#DejaVuSans-53\"/>\r\n       <use x=\"127.246094\" xlink:href=\"#DejaVuSans-48\"/>\r\n       <use x=\"190.869141\" xlink:href=\"#DejaVuSans-48\"/>\r\n       <use x=\"254.492188\" xlink:href=\"#DejaVuSans-48\"/>\r\n      </g>\r\n     </g>\r\n    </g>\r\n    <g id=\"xtick_5\">\r\n     <g id=\"line2d_9\">\r\n      <path clip-path=\"url(#p185851de86)\" d=\"M 216.978091 239.758125 \r\nL 216.978091 22.318125 \r\n\" style=\"fill:none;stroke:#b0b0b0;stroke-linecap:square;stroke-width:0.8;\"/>\r\n     </g>\r\n     <g id=\"line2d_10\">\r\n      <g>\r\n       <use style=\"stroke:#000000;stroke-width:0.8;\" x=\"216.978091\" xlink:href=\"#m2d7f1698e9\" y=\"239.758125\"/>\r\n      </g>\r\n     </g>\r\n     <g id=\"text_5\">\r\n      <!-- 20000 -->\r\n      <g transform=\"translate(201.071841 254.356563)scale(0.1 -0.1)\">\r\n       <defs>\r\n        <path d=\"M 19.1875 8.296875 \r\nL 53.609375 8.296875 \r\nL 53.609375 0 \r\nL 7.328125 0 \r\nL 7.328125 8.296875 \r\nQ 12.9375 14.109375 22.625 23.890625 \r\nQ 32.328125 33.6875 34.8125 36.53125 \r\nQ 39.546875 41.84375 41.421875 45.53125 \r\nQ 43.3125 49.21875 43.3125 52.78125 \r\nQ 43.3125 58.59375 39.234375 62.25 \r\nQ 35.15625 65.921875 28.609375 65.921875 \r\nQ 23.96875 65.921875 18.8125 64.3125 \r\nQ 13.671875 62.703125 7.8125 59.421875 \r\nL 7.8125 69.390625 \r\nQ 13.765625 71.78125 18.9375 73 \r\nQ 24.125 74.21875 28.421875 74.21875 \r\nQ 39.75 74.21875 46.484375 68.546875 \r\nQ 53.21875 62.890625 53.21875 53.421875 \r\nQ 53.21875 48.921875 51.53125 44.890625 \r\nQ 49.859375 40.875 45.40625 35.40625 \r\nQ 44.1875 33.984375 37.640625 27.21875 \r\nQ 31.109375 20.453125 19.1875 8.296875 \r\nz\r\n\" id=\"DejaVuSans-50\"/>\r\n       </defs>\r\n       <use xlink:href=\"#DejaVuSans-50\"/>\r\n       <use x=\"63.623047\" xlink:href=\"#DejaVuSans-48\"/>\r\n       <use x=\"127.246094\" xlink:href=\"#DejaVuSans-48\"/>\r\n       <use x=\"190.869141\" xlink:href=\"#DejaVuSans-48\"/>\r\n       <use x=\"254.492188\" xlink:href=\"#DejaVuSans-48\"/>\r\n      </g>\r\n     </g>\r\n    </g>\r\n    <g id=\"xtick_6\">\r\n     <g id=\"line2d_11\">\r\n      <path clip-path=\"url(#p185851de86)\" d=\"M 257.7338 239.758125 \r\nL 257.7338 22.318125 \r\n\" style=\"fill:none;stroke:#b0b0b0;stroke-linecap:square;stroke-width:0.8;\"/>\r\n     </g>\r\n     <g id=\"line2d_12\">\r\n      <g>\r\n       <use style=\"stroke:#000000;stroke-width:0.8;\" x=\"257.7338\" xlink:href=\"#m2d7f1698e9\" y=\"239.758125\"/>\r\n      </g>\r\n     </g>\r\n     <g id=\"text_6\">\r\n      <!-- 25000 -->\r\n      <g transform=\"translate(241.82755 254.356563)scale(0.1 -0.1)\">\r\n       <use xlink:href=\"#DejaVuSans-50\"/>\r\n       <use x=\"63.623047\" xlink:href=\"#DejaVuSans-53\"/>\r\n       <use x=\"127.246094\" xlink:href=\"#DejaVuSans-48\"/>\r\n       <use x=\"190.869141\" xlink:href=\"#DejaVuSans-48\"/>\r\n       <use x=\"254.492188\" xlink:href=\"#DejaVuSans-48\"/>\r\n      </g>\r\n     </g>\r\n    </g>\r\n    <g id=\"xtick_7\">\r\n     <g id=\"line2d_13\">\r\n      <path clip-path=\"url(#p185851de86)\" d=\"M 298.489509 239.758125 \r\nL 298.489509 22.318125 \r\n\" style=\"fill:none;stroke:#b0b0b0;stroke-linecap:square;stroke-width:0.8;\"/>\r\n     </g>\r\n     <g id=\"line2d_14\">\r\n      <g>\r\n       <use style=\"stroke:#000000;stroke-width:0.8;\" x=\"298.489509\" xlink:href=\"#m2d7f1698e9\" y=\"239.758125\"/>\r\n      </g>\r\n     </g>\r\n     <g id=\"text_7\">\r\n      <!-- 30000 -->\r\n      <g transform=\"translate(282.583259 254.356563)scale(0.1 -0.1)\">\r\n       <defs>\r\n        <path d=\"M 40.578125 39.3125 \r\nQ 47.65625 37.796875 51.625 33 \r\nQ 55.609375 28.21875 55.609375 21.1875 \r\nQ 55.609375 10.40625 48.1875 4.484375 \r\nQ 40.765625 -1.421875 27.09375 -1.421875 \r\nQ 22.515625 -1.421875 17.65625 -0.515625 \r\nQ 12.796875 0.390625 7.625 2.203125 \r\nL 7.625 11.71875 \r\nQ 11.71875 9.328125 16.59375 8.109375 \r\nQ 21.484375 6.890625 26.8125 6.890625 \r\nQ 36.078125 6.890625 40.9375 10.546875 \r\nQ 45.796875 14.203125 45.796875 21.1875 \r\nQ 45.796875 27.640625 41.28125 31.265625 \r\nQ 36.765625 34.90625 28.71875 34.90625 \r\nL 20.21875 34.90625 \r\nL 20.21875 43.015625 \r\nL 29.109375 43.015625 \r\nQ 36.375 43.015625 40.234375 45.921875 \r\nQ 44.09375 48.828125 44.09375 54.296875 \r\nQ 44.09375 59.90625 40.109375 62.90625 \r\nQ 36.140625 65.921875 28.71875 65.921875 \r\nQ 24.65625 65.921875 20.015625 65.03125 \r\nQ 15.375 64.15625 9.8125 62.3125 \r\nL 9.8125 71.09375 \r\nQ 15.4375 72.65625 20.34375 73.4375 \r\nQ 25.25 74.21875 29.59375 74.21875 \r\nQ 40.828125 74.21875 47.359375 69.109375 \r\nQ 53.90625 64.015625 53.90625 55.328125 \r\nQ 53.90625 49.265625 50.4375 45.09375 \r\nQ 46.96875 40.921875 40.578125 39.3125 \r\nz\r\n\" id=\"DejaVuSans-51\"/>\r\n       </defs>\r\n       <use xlink:href=\"#DejaVuSans-51\"/>\r\n       <use x=\"63.623047\" xlink:href=\"#DejaVuSans-48\"/>\r\n       <use x=\"127.246094\" xlink:href=\"#DejaVuSans-48\"/>\r\n       <use x=\"190.869141\" xlink:href=\"#DejaVuSans-48\"/>\r\n       <use x=\"254.492188\" xlink:href=\"#DejaVuSans-48\"/>\r\n      </g>\r\n     </g>\r\n    </g>\r\n    <g id=\"xtick_8\">\r\n     <g id=\"line2d_15\">\r\n      <path clip-path=\"url(#p185851de86)\" d=\"M 339.245218 239.758125 \r\nL 339.245218 22.318125 \r\n\" style=\"fill:none;stroke:#b0b0b0;stroke-linecap:square;stroke-width:0.8;\"/>\r\n     </g>\r\n     <g id=\"line2d_16\">\r\n      <g>\r\n       <use style=\"stroke:#000000;stroke-width:0.8;\" x=\"339.245218\" xlink:href=\"#m2d7f1698e9\" y=\"239.758125\"/>\r\n      </g>\r\n     </g>\r\n     <g id=\"text_8\">\r\n      <!-- 35000 -->\r\n      <g transform=\"translate(323.338968 254.356563)scale(0.1 -0.1)\">\r\n       <use xlink:href=\"#DejaVuSans-51\"/>\r\n       <use x=\"63.623047\" xlink:href=\"#DejaVuSans-53\"/>\r\n       <use x=\"127.246094\" xlink:href=\"#DejaVuSans-48\"/>\r\n       <use x=\"190.869141\" xlink:href=\"#DejaVuSans-48\"/>\r\n       <use x=\"254.492188\" xlink:href=\"#DejaVuSans-48\"/>\r\n      </g>\r\n     </g>\r\n    </g>\r\n   </g>\r\n   <g id=\"matplotlib.axis_2\">\r\n    <g id=\"ytick_1\">\r\n     <g id=\"line2d_17\">\r\n      <path clip-path=\"url(#p185851de86)\" d=\"M 39.65 239.758125 \r\nL 374.45 239.758125 \r\n\" style=\"fill:none;stroke:#b0b0b0;stroke-linecap:square;stroke-width:0.8;\"/>\r\n     </g>\r\n     <g id=\"line2d_18\">\r\n      <defs>\r\n       <path d=\"M 0 0 \r\nL -3.5 0 \r\n\" id=\"m09c38a0a28\" style=\"stroke:#000000;stroke-width:0.8;\"/>\r\n      </defs>\r\n      <g>\r\n       <use style=\"stroke:#000000;stroke-width:0.8;\" x=\"39.65\" xlink:href=\"#m09c38a0a28\" y=\"239.758125\"/>\r\n      </g>\r\n     </g>\r\n     <g id=\"text_9\">\r\n      <!-- 0 -->\r\n      <g transform=\"translate(26.2875 243.557344)scale(0.1 -0.1)\">\r\n       <use xlink:href=\"#DejaVuSans-48\"/>\r\n      </g>\r\n     </g>\r\n    </g>\r\n    <g id=\"ytick_2\">\r\n     <g id=\"line2d_19\">\r\n      <path clip-path=\"url(#p185851de86)\" d=\"M 39.65 211.621479 \r\nL 374.45 211.621479 \r\n\" style=\"fill:none;stroke:#b0b0b0;stroke-linecap:square;stroke-width:0.8;\"/>\r\n     </g>\r\n     <g id=\"line2d_20\">\r\n      <g>\r\n       <use style=\"stroke:#000000;stroke-width:0.8;\" x=\"39.65\" xlink:href=\"#m09c38a0a28\" y=\"211.621479\"/>\r\n      </g>\r\n     </g>\r\n     <g id=\"text_10\">\r\n      <!-- 200 -->\r\n      <g transform=\"translate(13.5625 215.420698)scale(0.1 -0.1)\">\r\n       <use xlink:href=\"#DejaVuSans-50\"/>\r\n       <use x=\"63.623047\" xlink:href=\"#DejaVuSans-48\"/>\r\n       <use x=\"127.246094\" xlink:href=\"#DejaVuSans-48\"/>\r\n      </g>\r\n     </g>\r\n    </g>\r\n    <g id=\"ytick_3\">\r\n     <g id=\"line2d_21\">\r\n      <path clip-path=\"url(#p185851de86)\" d=\"M 39.65 183.484833 \r\nL 374.45 183.484833 \r\n\" style=\"fill:none;stroke:#b0b0b0;stroke-linecap:square;stroke-width:0.8;\"/>\r\n     </g>\r\n     <g id=\"line2d_22\">\r\n      <g>\r\n       <use style=\"stroke:#000000;stroke-width:0.8;\" x=\"39.65\" xlink:href=\"#m09c38a0a28\" y=\"183.484833\"/>\r\n      </g>\r\n     </g>\r\n     <g id=\"text_11\">\r\n      <!-- 400 -->\r\n      <g transform=\"translate(13.5625 187.284052)scale(0.1 -0.1)\">\r\n       <defs>\r\n        <path d=\"M 37.796875 64.3125 \r\nL 12.890625 25.390625 \r\nL 37.796875 25.390625 \r\nz\r\nM 35.203125 72.90625 \r\nL 47.609375 72.90625 \r\nL 47.609375 25.390625 \r\nL 58.015625 25.390625 \r\nL 58.015625 17.1875 \r\nL 47.609375 17.1875 \r\nL 47.609375 0 \r\nL 37.796875 0 \r\nL 37.796875 17.1875 \r\nL 4.890625 17.1875 \r\nL 4.890625 26.703125 \r\nz\r\n\" id=\"DejaVuSans-52\"/>\r\n       </defs>\r\n       <use xlink:href=\"#DejaVuSans-52\"/>\r\n       <use x=\"63.623047\" xlink:href=\"#DejaVuSans-48\"/>\r\n       <use x=\"127.246094\" xlink:href=\"#DejaVuSans-48\"/>\r\n      </g>\r\n     </g>\r\n    </g>\r\n    <g id=\"ytick_4\">\r\n     <g id=\"line2d_23\">\r\n      <path clip-path=\"url(#p185851de86)\" d=\"M 39.65 155.348187 \r\nL 374.45 155.348187 \r\n\" style=\"fill:none;stroke:#b0b0b0;stroke-linecap:square;stroke-width:0.8;\"/>\r\n     </g>\r\n     <g id=\"line2d_24\">\r\n      <g>\r\n       <use style=\"stroke:#000000;stroke-width:0.8;\" x=\"39.65\" xlink:href=\"#m09c38a0a28\" y=\"155.348187\"/>\r\n      </g>\r\n     </g>\r\n     <g id=\"text_12\">\r\n      <!-- 600 -->\r\n      <g transform=\"translate(13.5625 159.147406)scale(0.1 -0.1)\">\r\n       <defs>\r\n        <path d=\"M 33.015625 40.375 \r\nQ 26.375 40.375 22.484375 35.828125 \r\nQ 18.609375 31.296875 18.609375 23.390625 \r\nQ 18.609375 15.53125 22.484375 10.953125 \r\nQ 26.375 6.390625 33.015625 6.390625 \r\nQ 39.65625 6.390625 43.53125 10.953125 \r\nQ 47.40625 15.53125 47.40625 23.390625 \r\nQ 47.40625 31.296875 43.53125 35.828125 \r\nQ 39.65625 40.375 33.015625 40.375 \r\nz\r\nM 52.59375 71.296875 \r\nL 52.59375 62.3125 \r\nQ 48.875 64.0625 45.09375 64.984375 \r\nQ 41.3125 65.921875 37.59375 65.921875 \r\nQ 27.828125 65.921875 22.671875 59.328125 \r\nQ 17.53125 52.734375 16.796875 39.40625 \r\nQ 19.671875 43.65625 24.015625 45.921875 \r\nQ 28.375 48.1875 33.59375 48.1875 \r\nQ 44.578125 48.1875 50.953125 41.515625 \r\nQ 57.328125 34.859375 57.328125 23.390625 \r\nQ 57.328125 12.15625 50.6875 5.359375 \r\nQ 44.046875 -1.421875 33.015625 -1.421875 \r\nQ 20.359375 -1.421875 13.671875 8.265625 \r\nQ 6.984375 17.96875 6.984375 36.375 \r\nQ 6.984375 53.65625 15.1875 63.9375 \r\nQ 23.390625 74.21875 37.203125 74.21875 \r\nQ 40.921875 74.21875 44.703125 73.484375 \r\nQ 48.484375 72.75 52.59375 71.296875 \r\nz\r\n\" id=\"DejaVuSans-54\"/>\r\n       </defs>\r\n       <use xlink:href=\"#DejaVuSans-54\"/>\r\n       <use x=\"63.623047\" xlink:href=\"#DejaVuSans-48\"/>\r\n       <use x=\"127.246094\" xlink:href=\"#DejaVuSans-48\"/>\r\n      </g>\r\n     </g>\r\n    </g>\r\n    <g id=\"ytick_5\">\r\n     <g id=\"line2d_25\">\r\n      <path clip-path=\"url(#p185851de86)\" d=\"M 39.65 127.211541 \r\nL 374.45 127.211541 \r\n\" style=\"fill:none;stroke:#b0b0b0;stroke-linecap:square;stroke-width:0.8;\"/>\r\n     </g>\r\n     <g id=\"line2d_26\">\r\n      <g>\r\n       <use style=\"stroke:#000000;stroke-width:0.8;\" x=\"39.65\" xlink:href=\"#m09c38a0a28\" y=\"127.211541\"/>\r\n      </g>\r\n     </g>\r\n     <g id=\"text_13\">\r\n      <!-- 800 -->\r\n      <g transform=\"translate(13.5625 131.01076)scale(0.1 -0.1)\">\r\n       <defs>\r\n        <path d=\"M 31.78125 34.625 \r\nQ 24.75 34.625 20.71875 30.859375 \r\nQ 16.703125 27.09375 16.703125 20.515625 \r\nQ 16.703125 13.921875 20.71875 10.15625 \r\nQ 24.75 6.390625 31.78125 6.390625 \r\nQ 38.8125 6.390625 42.859375 10.171875 \r\nQ 46.921875 13.96875 46.921875 20.515625 \r\nQ 46.921875 27.09375 42.890625 30.859375 \r\nQ 38.875 34.625 31.78125 34.625 \r\nz\r\nM 21.921875 38.8125 \r\nQ 15.578125 40.375 12.03125 44.71875 \r\nQ 8.5 49.078125 8.5 55.328125 \r\nQ 8.5 64.0625 14.71875 69.140625 \r\nQ 20.953125 74.21875 31.78125 74.21875 \r\nQ 42.671875 74.21875 48.875 69.140625 \r\nQ 55.078125 64.0625 55.078125 55.328125 \r\nQ 55.078125 49.078125 51.53125 44.71875 \r\nQ 48 40.375 41.703125 38.8125 \r\nQ 48.828125 37.15625 52.796875 32.3125 \r\nQ 56.78125 27.484375 56.78125 20.515625 \r\nQ 56.78125 9.90625 50.3125 4.234375 \r\nQ 43.84375 -1.421875 31.78125 -1.421875 \r\nQ 19.734375 -1.421875 13.25 4.234375 \r\nQ 6.78125 9.90625 6.78125 20.515625 \r\nQ 6.78125 27.484375 10.78125 32.3125 \r\nQ 14.796875 37.15625 21.921875 38.8125 \r\nz\r\nM 18.3125 54.390625 \r\nQ 18.3125 48.734375 21.84375 45.5625 \r\nQ 25.390625 42.390625 31.78125 42.390625 \r\nQ 38.140625 42.390625 41.71875 45.5625 \r\nQ 45.3125 48.734375 45.3125 54.390625 \r\nQ 45.3125 60.0625 41.71875 63.234375 \r\nQ 38.140625 66.40625 31.78125 66.40625 \r\nQ 25.390625 66.40625 21.84375 63.234375 \r\nQ 18.3125 60.0625 18.3125 54.390625 \r\nz\r\n\" id=\"DejaVuSans-56\"/>\r\n       </defs>\r\n       <use xlink:href=\"#DejaVuSans-56\"/>\r\n       <use x=\"63.623047\" xlink:href=\"#DejaVuSans-48\"/>\r\n       <use x=\"127.246094\" xlink:href=\"#DejaVuSans-48\"/>\r\n      </g>\r\n     </g>\r\n    </g>\r\n    <g id=\"ytick_6\">\r\n     <g id=\"line2d_27\">\r\n      <path clip-path=\"url(#p185851de86)\" d=\"M 39.65 99.074895 \r\nL 374.45 99.074895 \r\n\" style=\"fill:none;stroke:#b0b0b0;stroke-linecap:square;stroke-width:0.8;\"/>\r\n     </g>\r\n     <g id=\"line2d_28\">\r\n      <g>\r\n       <use style=\"stroke:#000000;stroke-width:0.8;\" x=\"39.65\" xlink:href=\"#m09c38a0a28\" y=\"99.074895\"/>\r\n      </g>\r\n     </g>\r\n     <g id=\"text_14\">\r\n      <!-- 1000 -->\r\n      <g transform=\"translate(7.2 102.874114)scale(0.1 -0.1)\">\r\n       <use xlink:href=\"#DejaVuSans-49\"/>\r\n       <use x=\"63.623047\" xlink:href=\"#DejaVuSans-48\"/>\r\n       <use x=\"127.246094\" xlink:href=\"#DejaVuSans-48\"/>\r\n       <use x=\"190.869141\" xlink:href=\"#DejaVuSans-48\"/>\r\n      </g>\r\n     </g>\r\n    </g>\r\n    <g id=\"ytick_7\">\r\n     <g id=\"line2d_29\">\r\n      <path clip-path=\"url(#p185851de86)\" d=\"M 39.65 70.938249 \r\nL 374.45 70.938249 \r\n\" style=\"fill:none;stroke:#b0b0b0;stroke-linecap:square;stroke-width:0.8;\"/>\r\n     </g>\r\n     <g id=\"line2d_30\">\r\n      <g>\r\n       <use style=\"stroke:#000000;stroke-width:0.8;\" x=\"39.65\" xlink:href=\"#m09c38a0a28\" y=\"70.938249\"/>\r\n      </g>\r\n     </g>\r\n     <g id=\"text_15\">\r\n      <!-- 1200 -->\r\n      <g transform=\"translate(7.2 74.737468)scale(0.1 -0.1)\">\r\n       <use xlink:href=\"#DejaVuSans-49\"/>\r\n       <use x=\"63.623047\" xlink:href=\"#DejaVuSans-50\"/>\r\n       <use x=\"127.246094\" xlink:href=\"#DejaVuSans-48\"/>\r\n       <use x=\"190.869141\" xlink:href=\"#DejaVuSans-48\"/>\r\n      </g>\r\n     </g>\r\n    </g>\r\n    <g id=\"ytick_8\">\r\n     <g id=\"line2d_31\">\r\n      <path clip-path=\"url(#p185851de86)\" d=\"M 39.65 42.801603 \r\nL 374.45 42.801603 \r\n\" style=\"fill:none;stroke:#b0b0b0;stroke-linecap:square;stroke-width:0.8;\"/>\r\n     </g>\r\n     <g id=\"line2d_32\">\r\n      <g>\r\n       <use style=\"stroke:#000000;stroke-width:0.8;\" x=\"39.65\" xlink:href=\"#m09c38a0a28\" y=\"42.801603\"/>\r\n      </g>\r\n     </g>\r\n     <g id=\"text_16\">\r\n      <!-- 1400 -->\r\n      <g transform=\"translate(7.2 46.600822)scale(0.1 -0.1)\">\r\n       <use xlink:href=\"#DejaVuSans-49\"/>\r\n       <use x=\"63.623047\" xlink:href=\"#DejaVuSans-52\"/>\r\n       <use x=\"127.246094\" xlink:href=\"#DejaVuSans-48\"/>\r\n       <use x=\"190.869141\" xlink:href=\"#DejaVuSans-48\"/>\r\n      </g>\r\n     </g>\r\n    </g>\r\n   </g>\r\n   <g id=\"patch_53\">\r\n    <path d=\"M 39.65 239.758125 \r\nL 39.65 22.318125 \r\n\" style=\"fill:none;stroke:#000000;stroke-linecap:square;stroke-linejoin:miter;stroke-width:0.8;\"/>\r\n   </g>\r\n   <g id=\"patch_54\">\r\n    <path d=\"M 374.45 239.758125 \r\nL 374.45 22.318125 \r\n\" style=\"fill:none;stroke:#000000;stroke-linecap:square;stroke-linejoin:miter;stroke-width:0.8;\"/>\r\n   </g>\r\n   <g id=\"patch_55\">\r\n    <path d=\"M 39.65 239.758125 \r\nL 374.45 239.758125 \r\n\" style=\"fill:none;stroke:#000000;stroke-linecap:square;stroke-linejoin:miter;stroke-width:0.8;\"/>\r\n   </g>\r\n   <g id=\"patch_56\">\r\n    <path d=\"M 39.65 22.318125 \r\nL 374.45 22.318125 \r\n\" style=\"fill:none;stroke:#000000;stroke-linecap:square;stroke-linejoin:miter;stroke-width:0.8;\"/>\r\n   </g>\r\n   <g id=\"text_17\">\r\n    <!-- Population -->\r\n    <g transform=\"translate(175.530313 16.318125)scale(0.12 -0.12)\">\r\n     <defs>\r\n      <path d=\"M 19.671875 64.796875 \r\nL 19.671875 37.40625 \r\nL 32.078125 37.40625 \r\nQ 38.96875 37.40625 42.71875 40.96875 \r\nQ 46.484375 44.53125 46.484375 51.125 \r\nQ 46.484375 57.671875 42.71875 61.234375 \r\nQ 38.96875 64.796875 32.078125 64.796875 \r\nz\r\nM 9.8125 72.90625 \r\nL 32.078125 72.90625 \r\nQ 44.34375 72.90625 50.609375 67.359375 \r\nQ 56.890625 61.8125 56.890625 51.125 \r\nQ 56.890625 40.328125 50.609375 34.8125 \r\nQ 44.34375 29.296875 32.078125 29.296875 \r\nL 19.671875 29.296875 \r\nL 19.671875 0 \r\nL 9.8125 0 \r\nz\r\n\" id=\"DejaVuSans-80\"/>\r\n      <path d=\"M 30.609375 48.390625 \r\nQ 23.390625 48.390625 19.1875 42.75 \r\nQ 14.984375 37.109375 14.984375 27.296875 \r\nQ 14.984375 17.484375 19.15625 11.84375 \r\nQ 23.34375 6.203125 30.609375 6.203125 \r\nQ 37.796875 6.203125 41.984375 11.859375 \r\nQ 46.1875 17.53125 46.1875 27.296875 \r\nQ 46.1875 37.015625 41.984375 42.703125 \r\nQ 37.796875 48.390625 30.609375 48.390625 \r\nz\r\nM 30.609375 56 \r\nQ 42.328125 56 49.015625 48.375 \r\nQ 55.71875 40.765625 55.71875 27.296875 \r\nQ 55.71875 13.875 49.015625 6.21875 \r\nQ 42.328125 -1.421875 30.609375 -1.421875 \r\nQ 18.84375 -1.421875 12.171875 6.21875 \r\nQ 5.515625 13.875 5.515625 27.296875 \r\nQ 5.515625 40.765625 12.171875 48.375 \r\nQ 18.84375 56 30.609375 56 \r\nz\r\n\" id=\"DejaVuSans-111\"/>\r\n      <path d=\"M 18.109375 8.203125 \r\nL 18.109375 -20.796875 \r\nL 9.078125 -20.796875 \r\nL 9.078125 54.6875 \r\nL 18.109375 54.6875 \r\nL 18.109375 46.390625 \r\nQ 20.953125 51.265625 25.265625 53.625 \r\nQ 29.59375 56 35.59375 56 \r\nQ 45.5625 56 51.78125 48.09375 \r\nQ 58.015625 40.1875 58.015625 27.296875 \r\nQ 58.015625 14.40625 51.78125 6.484375 \r\nQ 45.5625 -1.421875 35.59375 -1.421875 \r\nQ 29.59375 -1.421875 25.265625 0.953125 \r\nQ 20.953125 3.328125 18.109375 8.203125 \r\nz\r\nM 48.6875 27.296875 \r\nQ 48.6875 37.203125 44.609375 42.84375 \r\nQ 40.53125 48.484375 33.40625 48.484375 \r\nQ 26.265625 48.484375 22.1875 42.84375 \r\nQ 18.109375 37.203125 18.109375 27.296875 \r\nQ 18.109375 17.390625 22.1875 11.75 \r\nQ 26.265625 6.109375 33.40625 6.109375 \r\nQ 40.53125 6.109375 44.609375 11.75 \r\nQ 48.6875 17.390625 48.6875 27.296875 \r\nz\r\n\" id=\"DejaVuSans-112\"/>\r\n      <path d=\"M 8.5 21.578125 \r\nL 8.5 54.6875 \r\nL 17.484375 54.6875 \r\nL 17.484375 21.921875 \r\nQ 17.484375 14.15625 20.5 10.265625 \r\nQ 23.53125 6.390625 29.59375 6.390625 \r\nQ 36.859375 6.390625 41.078125 11.03125 \r\nQ 45.3125 15.671875 45.3125 23.6875 \r\nL 45.3125 54.6875 \r\nL 54.296875 54.6875 \r\nL 54.296875 0 \r\nL 45.3125 0 \r\nL 45.3125 8.40625 \r\nQ 42.046875 3.421875 37.71875 1 \r\nQ 33.40625 -1.421875 27.6875 -1.421875 \r\nQ 18.265625 -1.421875 13.375 4.4375 \r\nQ 8.5 10.296875 8.5 21.578125 \r\nz\r\nM 31.109375 56 \r\nz\r\n\" id=\"DejaVuSans-117\"/>\r\n      <path d=\"M 9.421875 75.984375 \r\nL 18.40625 75.984375 \r\nL 18.40625 0 \r\nL 9.421875 0 \r\nz\r\n\" id=\"DejaVuSans-108\"/>\r\n      <path d=\"M 34.28125 27.484375 \r\nQ 23.390625 27.484375 19.1875 25 \r\nQ 14.984375 22.515625 14.984375 16.5 \r\nQ 14.984375 11.71875 18.140625 8.90625 \r\nQ 21.296875 6.109375 26.703125 6.109375 \r\nQ 34.1875 6.109375 38.703125 11.40625 \r\nQ 43.21875 16.703125 43.21875 25.484375 \r\nL 43.21875 27.484375 \r\nz\r\nM 52.203125 31.203125 \r\nL 52.203125 0 \r\nL 43.21875 0 \r\nL 43.21875 8.296875 \r\nQ 40.140625 3.328125 35.546875 0.953125 \r\nQ 30.953125 -1.421875 24.3125 -1.421875 \r\nQ 15.921875 -1.421875 10.953125 3.296875 \r\nQ 6 8.015625 6 15.921875 \r\nQ 6 25.140625 12.171875 29.828125 \r\nQ 18.359375 34.515625 30.609375 34.515625 \r\nL 43.21875 34.515625 \r\nL 43.21875 35.40625 \r\nQ 43.21875 41.609375 39.140625 45 \r\nQ 35.0625 48.390625 27.6875 48.390625 \r\nQ 23 48.390625 18.546875 47.265625 \r\nQ 14.109375 46.140625 10.015625 43.890625 \r\nL 10.015625 52.203125 \r\nQ 14.9375 54.109375 19.578125 55.046875 \r\nQ 24.21875 56 28.609375 56 \r\nQ 40.484375 56 46.34375 49.84375 \r\nQ 52.203125 43.703125 52.203125 31.203125 \r\nz\r\n\" id=\"DejaVuSans-97\"/>\r\n      <path d=\"M 18.3125 70.21875 \r\nL 18.3125 54.6875 \r\nL 36.8125 54.6875 \r\nL 36.8125 47.703125 \r\nL 18.3125 47.703125 \r\nL 18.3125 18.015625 \r\nQ 18.3125 11.328125 20.140625 9.421875 \r\nQ 21.96875 7.515625 27.59375 7.515625 \r\nL 36.8125 7.515625 \r\nL 36.8125 0 \r\nL 27.59375 0 \r\nQ 17.1875 0 13.234375 3.875 \r\nQ 9.28125 7.765625 9.28125 18.015625 \r\nL 9.28125 47.703125 \r\nL 2.6875 47.703125 \r\nL 2.6875 54.6875 \r\nL 9.28125 54.6875 \r\nL 9.28125 70.21875 \r\nz\r\n\" id=\"DejaVuSans-116\"/>\r\n      <path d=\"M 9.421875 54.6875 \r\nL 18.40625 54.6875 \r\nL 18.40625 0 \r\nL 9.421875 0 \r\nz\r\nM 9.421875 75.984375 \r\nL 18.40625 75.984375 \r\nL 18.40625 64.59375 \r\nL 9.421875 64.59375 \r\nz\r\n\" id=\"DejaVuSans-105\"/>\r\n      <path d=\"M 54.890625 33.015625 \r\nL 54.890625 0 \r\nL 45.90625 0 \r\nL 45.90625 32.71875 \r\nQ 45.90625 40.484375 42.875 44.328125 \r\nQ 39.84375 48.1875 33.796875 48.1875 \r\nQ 26.515625 48.1875 22.3125 43.546875 \r\nQ 18.109375 38.921875 18.109375 30.90625 \r\nL 18.109375 0 \r\nL 9.078125 0 \r\nL 9.078125 54.6875 \r\nL 18.109375 54.6875 \r\nL 18.109375 46.1875 \r\nQ 21.34375 51.125 25.703125 53.5625 \r\nQ 30.078125 56 35.796875 56 \r\nQ 45.21875 56 50.046875 50.171875 \r\nQ 54.890625 44.34375 54.890625 33.015625 \r\nz\r\n\" id=\"DejaVuSans-110\"/>\r\n     </defs>\r\n     <use xlink:href=\"#DejaVuSans-80\"/>\r\n     <use x=\"56.677734\" xlink:href=\"#DejaVuSans-111\"/>\r\n     <use x=\"117.859375\" xlink:href=\"#DejaVuSans-112\"/>\r\n     <use x=\"181.335938\" xlink:href=\"#DejaVuSans-117\"/>\r\n     <use x=\"244.714844\" xlink:href=\"#DejaVuSans-108\"/>\r\n     <use x=\"272.498047\" xlink:href=\"#DejaVuSans-97\"/>\r\n     <use x=\"333.777344\" xlink:href=\"#DejaVuSans-116\"/>\r\n     <use x=\"372.986328\" xlink:href=\"#DejaVuSans-105\"/>\r\n     <use x=\"400.769531\" xlink:href=\"#DejaVuSans-111\"/>\r\n     <use x=\"461.951172\" xlink:href=\"#DejaVuSans-110\"/>\r\n    </g>\r\n   </g>\r\n  </g>\r\n </g>\r\n <defs>\r\n  <clipPath id=\"p185851de86\">\r\n   <rect height=\"217.44\" width=\"334.8\" x=\"39.65\" y=\"22.318125\"/>\r\n  </clipPath>\r\n </defs>\r\n</svg>\r\n",
      "image/png": "[encoded data removed]"
     },
     "metadata": {
      "needs_background": "light"
     }
    }
   ],
   "source": [
    "plt.figure()\n",
    "df.hist(column='Population', bins=50)"
   ]
  },
  {
   "cell_type": "markdown",
   "metadata": {},
   "source": [
    "Note that we can use string operations we have already learned, and apply those to columns that are of type string.  The syntax is a bit different when used with pandas DataFrames.  Here, we create a State column and add it to df by splitting geodisplay and getting its third element.  Note that these string methods are reviewed in Pandas forData Analysis pages 206-206.  More advanced regex methods and other vectorized string methods are covered in pages 207-212."
   ]
  },
  {
   "cell_type": "code",
   "execution_count": 61,
   "metadata": {
    "collapsed": false
   },
   "outputs": [
    {
     "output_type": "execute_result",
     "data": {
      "text/plain": [
       "   POPGROUP             label             GEOIDLONG       GEOID  \\\n",
       "0         1  Total population  1400000US06001400100  6001400100   \n",
       "1         1  Total population  1400000US06001400200  6001400200   \n",
       "2         1  Total population  1400000US06001400300  6001400300   \n",
       "3         1  Total population  1400000US06001400400  6001400400   \n",
       "4         1  Total population  1400000US06001400500  6001400500   \n",
       "\n",
       "                                      geodisplay  Population        State  \n",
       "0  Census Tract 4001, Alameda County, California        2937   California  \n",
       "1  Census Tract 4002, Alameda County, California        1974   California  \n",
       "2  Census Tract 4003, Alameda County, California        4865   California  \n",
       "3  Census Tract 4004, Alameda County, California        3703   California  \n",
       "4  Census Tract 4005, Alameda County, California        3517   California  "
      ],
      "text/html": "<div>\n<style scoped>\n    .dataframe tbody tr th:only-of-type {\n        vertical-align: middle;\n    }\n\n    .dataframe tbody tr th {\n        vertical-align: top;\n    }\n\n    .dataframe thead th {\n        text-align: right;\n    }\n</style>\n<table border=\"1\" class=\"dataframe\">\n  <thead>\n    <tr style=\"text-align: right;\">\n      <th></th>\n      <th>POPGROUP</th>\n      <th>label</th>\n      <th>GEOIDLONG</th>\n      <th>GEOID</th>\n      <th>geodisplay</th>\n      <th>Population</th>\n      <th>State</th>\n    </tr>\n  </thead>\n  <tbody>\n    <tr>\n      <th>0</th>\n      <td>1</td>\n      <td>Total population</td>\n      <td>1400000US06001400100</td>\n      <td>6001400100</td>\n      <td>Census Tract 4001, Alameda County, California</td>\n      <td>2937</td>\n      <td>California</td>\n    </tr>\n    <tr>\n      <th>1</th>\n      <td>1</td>\n      <td>Total population</td>\n      <td>1400000US06001400200</td>\n      <td>6001400200</td>\n      <td>Census Tract 4002, Alameda County, California</td>\n      <td>1974</td>\n      <td>California</td>\n    </tr>\n    <tr>\n      <th>2</th>\n      <td>1</td>\n      <td>Total population</td>\n      <td>1400000US06001400300</td>\n      <td>6001400300</td>\n      <td>Census Tract 4003, Alameda County, California</td>\n      <td>4865</td>\n      <td>California</td>\n    </tr>\n    <tr>\n      <th>3</th>\n      <td>1</td>\n      <td>Total population</td>\n      <td>1400000US06001400400</td>\n      <td>6001400400</td>\n      <td>Census Tract 4004, Alameda County, California</td>\n      <td>3703</td>\n      <td>California</td>\n    </tr>\n    <tr>\n      <th>4</th>\n      <td>1</td>\n      <td>Total population</td>\n      <td>1400000US06001400500</td>\n      <td>6001400500</td>\n      <td>Census Tract 4005, Alameda County, California</td>\n      <td>3517</td>\n      <td>California</td>\n    </tr>\n  </tbody>\n</table>\n</div>"
     },
     "metadata": {},
     "execution_count": 61
    }
   ],
   "source": [
    "df['State'] = df['geodisplay'].str.split(',').str[2]\n",
    "df[:5]"
   ]
  },
  {
   "cell_type": "markdown",
   "metadata": {},
   "source": [
    "Next let's create a Tract column with just the tract number, and remove the 'Census Tract ' from it."
   ]
  },
  {
   "cell_type": "code",
   "execution_count": 62,
   "metadata": {
    "collapsed": false
   },
   "outputs": [
    {
     "output_type": "execute_result",
     "data": {
      "text/plain": [
       "   POPGROUP             label             GEOIDLONG       GEOID  \\\n",
       "0         1  Total population  1400000US06001400100  6001400100   \n",
       "1         1  Total population  1400000US06001400200  6001400200   \n",
       "2         1  Total population  1400000US06001400300  6001400300   \n",
       "3         1  Total population  1400000US06001400400  6001400400   \n",
       "4         1  Total population  1400000US06001400500  6001400500   \n",
       "\n",
       "                                      geodisplay  Population        State  \\\n",
       "0  Census Tract 4001, Alameda County, California        2937   California   \n",
       "1  Census Tract 4002, Alameda County, California        1974   California   \n",
       "2  Census Tract 4003, Alameda County, California        4865   California   \n",
       "3  Census Tract 4004, Alameda County, California        3703   California   \n",
       "4  Census Tract 4005, Alameda County, California        3517   California   \n",
       "\n",
       "  Tract  \n",
       "0  4001  \n",
       "1  4002  \n",
       "2  4003  \n",
       "3  4004  \n",
       "4  4005  "
      ],
      "text/html": "<div>\n<style scoped>\n    .dataframe tbody tr th:only-of-type {\n        vertical-align: middle;\n    }\n\n    .dataframe tbody tr th {\n        vertical-align: top;\n    }\n\n    .dataframe thead th {\n        text-align: right;\n    }\n</style>\n<table border=\"1\" class=\"dataframe\">\n  <thead>\n    <tr style=\"text-align: right;\">\n      <th></th>\n      <th>POPGROUP</th>\n      <th>label</th>\n      <th>GEOIDLONG</th>\n      <th>GEOID</th>\n      <th>geodisplay</th>\n      <th>Population</th>\n      <th>State</th>\n      <th>Tract</th>\n    </tr>\n  </thead>\n  <tbody>\n    <tr>\n      <th>0</th>\n      <td>1</td>\n      <td>Total population</td>\n      <td>1400000US06001400100</td>\n      <td>6001400100</td>\n      <td>Census Tract 4001, Alameda County, California</td>\n      <td>2937</td>\n      <td>California</td>\n      <td>4001</td>\n    </tr>\n    <tr>\n      <th>1</th>\n      <td>1</td>\n      <td>Total population</td>\n      <td>1400000US06001400200</td>\n      <td>6001400200</td>\n      <td>Census Tract 4002, Alameda County, California</td>\n      <td>1974</td>\n      <td>California</td>\n      <td>4002</td>\n    </tr>\n    <tr>\n      <th>2</th>\n      <td>1</td>\n      <td>Total population</td>\n      <td>1400000US06001400300</td>\n      <td>6001400300</td>\n      <td>Census Tract 4003, Alameda County, California</td>\n      <td>4865</td>\n      <td>California</td>\n      <td>4003</td>\n    </tr>\n    <tr>\n      <th>3</th>\n      <td>1</td>\n      <td>Total population</td>\n      <td>1400000US06001400400</td>\n      <td>6001400400</td>\n      <td>Census Tract 4004, Alameda County, California</td>\n      <td>3703</td>\n      <td>California</td>\n      <td>4004</td>\n    </tr>\n    <tr>\n      <th>4</th>\n      <td>1</td>\n      <td>Total population</td>\n      <td>1400000US06001400500</td>\n      <td>6001400500</td>\n      <td>Census Tract 4005, Alameda County, California</td>\n      <td>3517</td>\n      <td>California</td>\n      <td>4005</td>\n    </tr>\n  </tbody>\n</table>\n</div>"
     },
     "metadata": {},
     "execution_count": 62
    }
   ],
   "source": [
    "df['Tract']=df['geodisplay'].str.split(',').str[0].str.strip('Census Tract ')\n",
    "df[:5]"
   ]
  },
  {
   "cell_type": "markdown",
   "metadata": {},
   "source": [
    "Here is another way to do the last step, using replace."
   ]
  },
  {
   "cell_type": "code",
   "execution_count": 63,
   "metadata": {
    "collapsed": false
   },
   "outputs": [
    {
     "output_type": "execute_result",
     "data": {
      "text/plain": [
       "   POPGROUP             label             GEOIDLONG       GEOID  \\\n",
       "0         1  Total population  1400000US06001400100  6001400100   \n",
       "1         1  Total population  1400000US06001400200  6001400200   \n",
       "2         1  Total population  1400000US06001400300  6001400300   \n",
       "3         1  Total population  1400000US06001400400  6001400400   \n",
       "4         1  Total population  1400000US06001400500  6001400500   \n",
       "\n",
       "                                      geodisplay  Population        State  \\\n",
       "0  Census Tract 4001, Alameda County, California        2937   California   \n",
       "1  Census Tract 4002, Alameda County, California        1974   California   \n",
       "2  Census Tract 4003, Alameda County, California        4865   California   \n",
       "3  Census Tract 4004, Alameda County, California        3703   California   \n",
       "4  Census Tract 4005, Alameda County, California        3517   California   \n",
       "\n",
       "  Tract  \n",
       "0  4001  \n",
       "1  4002  \n",
       "2  4003  \n",
       "3  4004  \n",
       "4  4005  "
      ],
      "text/html": "<div>\n<style scoped>\n    .dataframe tbody tr th:only-of-type {\n        vertical-align: middle;\n    }\n\n    .dataframe tbody tr th {\n        vertical-align: top;\n    }\n\n    .dataframe thead th {\n        text-align: right;\n    }\n</style>\n<table border=\"1\" class=\"dataframe\">\n  <thead>\n    <tr style=\"text-align: right;\">\n      <th></th>\n      <th>POPGROUP</th>\n      <th>label</th>\n      <th>GEOIDLONG</th>\n      <th>GEOID</th>\n      <th>geodisplay</th>\n      <th>Population</th>\n      <th>State</th>\n      <th>Tract</th>\n    </tr>\n  </thead>\n  <tbody>\n    <tr>\n      <th>0</th>\n      <td>1</td>\n      <td>Total population</td>\n      <td>1400000US06001400100</td>\n      <td>6001400100</td>\n      <td>Census Tract 4001, Alameda County, California</td>\n      <td>2937</td>\n      <td>California</td>\n      <td>4001</td>\n    </tr>\n    <tr>\n      <th>1</th>\n      <td>1</td>\n      <td>Total population</td>\n      <td>1400000US06001400200</td>\n      <td>6001400200</td>\n      <td>Census Tract 4002, Alameda County, California</td>\n      <td>1974</td>\n      <td>California</td>\n      <td>4002</td>\n    </tr>\n    <tr>\n      <th>2</th>\n      <td>1</td>\n      <td>Total population</td>\n      <td>1400000US06001400300</td>\n      <td>6001400300</td>\n      <td>Census Tract 4003, Alameda County, California</td>\n      <td>4865</td>\n      <td>California</td>\n      <td>4003</td>\n    </tr>\n    <tr>\n      <th>3</th>\n      <td>1</td>\n      <td>Total population</td>\n      <td>1400000US06001400400</td>\n      <td>6001400400</td>\n      <td>Census Tract 4004, Alameda County, California</td>\n      <td>3703</td>\n      <td>California</td>\n      <td>4004</td>\n    </tr>\n    <tr>\n      <th>4</th>\n      <td>1</td>\n      <td>Total population</td>\n      <td>1400000US06001400500</td>\n      <td>6001400500</td>\n      <td>Census Tract 4005, Alameda County, California</td>\n      <td>3517</td>\n      <td>California</td>\n      <td>4005</td>\n    </tr>\n  </tbody>\n</table>\n</div>"
     },
     "metadata": {},
     "execution_count": 63
    }
   ],
   "source": [
    "df['Tract']=df['geodisplay'].str.split(',').str[0].str.replace('Census Tract ', '')\n",
    "df[:5]"
   ]
  },
  {
   "cell_type": "code",
   "execution_count": null,
   "metadata": {
    "collapsed": true
   },
   "outputs": [],
   "source": []
  }
 ],
 "metadata": {
  "anaconda-cloud": {},
  "kernelspec": {
   "display_name": "Python 3",
   "language": "python",
   "name": "python3"
  },
  "language_info": {
   "codemirror_mode": {
    "name": "ipython",
    "version": 3
   },
   "file_extension": ".py",
   "mimetype": "text/x-python",
   "name": "python",
   "nbconvert_exporter": "python",
   "pygments_lexer": "ipython3",
   "version": "3.8.5-final"
  }
 },
 "nbformat": 4,
 "nbformat_minor": 0
}