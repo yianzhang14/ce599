{
 "cells": [
  {
   "cell_type": "markdown",
   "metadata": {},
   "source": [
    "### Open Flights Data Wrangling\n",
    "\n",
    "To practice, you are going to wrangle data from OpenFlights.  You can read about it here: \n",
    "\n",
    "http://openflights.org/data.html\n",
    "\n",
    "This includes five files: \n",
    "\n",
    "1. A file with one record for each airport, \n",
    "2. A file with one record for each airline, \n",
    "3. A file with one record for each each route, \n",
    "4. A file with one record for each type of airplane, and\n",
    "5. A file with one record for each country.  \n",
    "\n",
    "Each file has a relationship to the others, with some fields in common.  To make best use of the data, we will need to combine all three files.  This is the core challenge of relational databases.  This lesson looks at how to do that, specifically using the merge() function in python.  \n",
    "\n",
    "Credits:\n",
    "\n",
    "This lesson draws from the Data Analysis and Visualization in Python for Ecologists course by Data Carpentry:\n",
    "\n",
    "https://datacarpentry.org/python-ecology-lesson/05-merging-data/index.html\n",
    "\n",
    "and from the pandas documentation:\n",
    "\n",
    "https://pandas.pydata.org/pandas-docs/stable/user_guide/merging.html\n"
   ]
  },
  {
   "cell_type": "markdown",
   "metadata": {},
   "source": [
    "### Learning Objectives: \n",
    "\n",
    "1. Understand the meaning of relational data and be able to identify common keys. \n",
    "\n",
    "2. Understand the different types of relational joins: concatenate, inner join, outer join, left join, right join. \n",
    "\n",
    "3. Use the pandas syntax pd.concat() and pd.merge() to perform those relational joins. \n",
    "\n",
    "4. Start to build an awareness of open data resources, and of documentation/tutorials for ongoing learning. "
   ]
  },
  {
   "cell_type": "code",
   "execution_count": null,
   "metadata": {},
   "outputs": [],
   "source": [
    "import pandas as pd\n",
    "import numpy as np"
   ]
  },
  {
   "cell_type": "code",
   "execution_count": null,
   "metadata": {},
   "outputs": [],
   "source": [
    "# These files use \\N as a missing value indicator.  When reading the CSVs, we will tell\n",
    "# it to use that value as missing or NA.  The double backslash is required because\n",
    "# otherwise it will interpret \\N as a carriage return. \n",
    "\n",
    "# Read in the airports data.\n",
    "airports = pd.read_csv(\"data/airports.dat\", header=None, na_values='\\\\N')\n",
    "airports.columns = [\"ID\", \"NAME\", \"CITY\", \"COUNTRY\", \"IATA\", \"ICAO\", \"LATITUDE\", \"LONGITUDE\", \"ALTITUDE\", \"TIMEZONE\", \"DST\", \"TZ\", \"TYPE\", \"SOURCE\"]\n",
    "\n",
    "# Read in the airlines data.\n",
    "airlines = pd.read_csv(\"data/airlines.dat\", header=None, na_values='\\\\N')\n",
    "airlines.columns = [\"ID\", \"NAME\", \"ALIAS\", \"IATA\", \"ICAO\", \"CALLSIGN\", \"COUNTRY\", \"ACTIVE\"]\n",
    "\n",
    "# Read in the routes data.\n",
    "routes = pd.read_csv(\"data/routes.dat\", header=None, na_values='\\\\N')\n",
    "routes.columns = [\"AIRLINE\", \"AIRLINE_ID\", \"SOURCE\", \"SOURCE_ID\", \"DEST\", \"DEST_ID\", \"CODESHARE\", \"STOPS\", \"EQUIPMENT\"]\n",
    "\n",
    "# Read in the planes data.\n",
    "planes = pd.read_csv(\"data/planes.dat\", header=None, na_values='\\\\N')\n",
    "planes.columns = [\"NAME\", \"IATA\", \"ICAO\"]\n",
    "\n",
    "# Read in the countries data.\n",
    "countries = pd.read_csv(\"data/countries.dat\", header=None, na_values='\\\\N')\n",
    "countries.columns = [\"NAME\", \"ISO\", \"DAFIF\"]"
   ]
  },
  {
   "cell_type": "markdown",
   "metadata": {},
   "source": [
    "### Start by seeing what's in the data.  \n",
    "\n",
    "What columns are there?  What data types are the columns?  \n",
    "\n",
    "Remember, 'object' means it is a string, while the numerical values can be floats or ints.  Sometimes you will have problems if it reads numeric data in as strings.  If that happens, you can use the function .astype() to convert it.  Look it up in the pandas API to get more details"
   ]
  },
  {
   "cell_type": "markdown",
   "metadata": {},
   "source": [
    "Start with the airports table"
   ]
  },
  {
   "cell_type": "code",
   "execution_count": null,
   "metadata": {},
   "outputs": [],
   "source": [
    "# printing the first few rows gives us a good sense of what is in there\n",
    "airports.head()"
   ]
  },
  {
   "cell_type": "code",
   "execution_count": null,
   "metadata": {},
   "outputs": [],
   "source": [
    "# we can also look a the data types\n",
    "# alternatively, we could summarize the data as we did in the previous lesson\n",
    "airports.dtypes"
   ]
  },
  {
   "cell_type": "markdown",
   "metadata": {
    "collapsed": true
   },
   "source": [
    "##### Your turn:  \n",
    "\n",
    "Spend a few minutes examining the remaining tables.  See if you can identify which fields are common across multiple tables.  These are the \"keys\".  Together, we will make sure we have identified the right keys. "
   ]
  },
  {
   "cell_type": "code",
   "execution_count": null,
   "metadata": {},
   "outputs": [],
   "source": []
  },
  {
   "cell_type": "code",
   "execution_count": null,
   "metadata": {},
   "outputs": [],
   "source": []
  },
  {
   "cell_type": "code",
   "execution_count": null,
   "metadata": {},
   "outputs": [],
   "source": []
  },
  {
   "cell_type": "markdown",
   "metadata": {},
   "source": [
    "### Selecting data\n",
    "\n",
    "We might want to work with a subset of data.  If so, we can select data just like we did in the previous lesson. "
   ]
  },
  {
   "cell_type": "code",
   "execution_count": null,
   "metadata": {},
   "outputs": [],
   "source": [
    "# we can select all airports in one of the least visited countries on earth\n",
    "airports[airports['COUNTRY']==\"Tuvalu\"]"
   ]
  },
  {
   "cell_type": "code",
   "execution_count": null,
   "metadata": {},
   "outputs": [],
   "source": [
    "# we can select all routes to that airport\n",
    "routes[routes['DEST']=='FUN']"
   ]
  },
  {
   "cell_type": "code",
   "execution_count": null,
   "metadata": {},
   "outputs": [],
   "source": [
    "# and routes from that airport\n",
    "routes[routes['SOURCE']=='FUN']"
   ]
  },
  {
   "cell_type": "code",
   "execution_count": null,
   "metadata": {},
   "outputs": [],
   "source": [
    "# where are these flights going to/from? \n"
   ]
  },
  {
   "cell_type": "code",
   "execution_count": null,
   "metadata": {},
   "outputs": [],
   "source": []
  },
  {
   "cell_type": "markdown",
   "metadata": {},
   "source": [
    "#####  Your turn: \n",
    "\n",
    "Select just the routes that go to or from Lexington Bluegrass Airport, and store them in their own dataframe.  \n",
    "\n",
    "The airport code is LEX.  You should have a much smaller dataframe.  How many inbound routes and how many outbound routes are there? "
   ]
  },
  {
   "cell_type": "code",
   "execution_count": null,
   "metadata": {},
   "outputs": [],
   "source": []
  },
  {
   "cell_type": "code",
   "execution_count": null,
   "metadata": {},
   "outputs": [],
   "source": []
  },
  {
   "cell_type": "markdown",
   "metadata": {},
   "source": [
    "### Concatentating data\n",
    "\n",
    "To concatenate is to link things together in a series or chain.  It is similar to, but more powerful than appending data, because it can work on either rows or columns, is faster, and will perform set logic (union or intersection).  "
   ]
  },
  {
   "cell_type": "code",
   "execution_count": null,
   "metadata": {},
   "outputs": [],
   "source": [
    "# let's go back and contatenate the routes both to and from Tuvalu\n",
    "to_tuvalu = routes[routes['DEST']=='FUN']\n",
    "from_tuvalu = routes[routes['SOURCE']=='FUN']\n"
   ]
  },
  {
   "cell_type": "code",
   "execution_count": null,
   "metadata": {},
   "outputs": [],
   "source": [
    "# the basic function, given a list of dataframes to concatenate\n",
    "# note that we call concatenate as a \"static\" method, rather than a method \n",
    "# associated with a specific object. \n",
    "\n",
    "pd.concat([to_tuvalu, from_tuvalu])"
   ]
  },
  {
   "cell_type": "code",
   "execution_count": null,
   "metadata": {},
   "outputs": [],
   "source": [
    "# if we want to use the dataframe later, we need to assign it to a variable name\n",
    "\n",
    "tuvalu_routes = pd.concat([to_tuvalu, from_tuvalu])"
   ]
  },
  {
   "cell_type": "markdown",
   "metadata": {},
   "source": [
    "Note to see more about this method, we can examine the pandas docs:\n",
    "\n",
    "https://pandas.pydata.org/pandas-docs/stable/user_guide/merging.html"
   ]
  },
  {
   "cell_type": "code",
   "execution_count": null,
   "metadata": {},
   "outputs": [],
   "source": [
    "# note that one of the arguments is axis.  \n",
    "# axis=0 indicates that the rows should be concatenated, \n",
    "# while axis=1 indicates to concatenate the columns \n",
    "\n",
    "pd.concat([to_tuvalu, from_tuvalu], axis=1)"
   ]
  },
  {
   "cell_type": "markdown",
   "metadata": {},
   "source": [
    "##### Your turn:\n",
    "\n",
    "Can you use the concat() function to create one dataframe with flights both into and out of LEX?"
   ]
  },
  {
   "cell_type": "code",
   "execution_count": null,
   "metadata": {},
   "outputs": [],
   "source": []
  },
  {
   "cell_type": "markdown",
   "metadata": {},
   "source": [
    "### Merging data\n",
    "\n",
    "Sometimes we want to merge, or join, the data instead of concatenating it.  For example, maybe we hate flying on small planes, so want to know what kind of aircraft we would need to fly on to visit Tuvalu.  This data comes from a different table. "
   ]
  },
  {
   "cell_type": "code",
   "execution_count": null,
   "metadata": {},
   "outputs": [],
   "source": [
    "# we see that the Tuvalu routes operate with AT5 equipment\n",
    "tuvalu_routes"
   ]
  },
  {
   "cell_type": "code",
   "execution_count": null,
   "metadata": {},
   "outputs": [],
   "source": [
    "# but what is an AT5? Let's look in the planes table. \n",
    "planes.head()"
   ]
  },
  {
   "cell_type": "code",
   "execution_count": null,
   "metadata": {},
   "outputs": [],
   "source": [
    "# in this case, we are lucky, and it is in the first few rows.  But to do this systemactically, we\n",
    "# would want to join the tables.  To do this, we use the merge() function in pandas.  \n",
    "\n",
    "pd.merge(tuvalu_routes, planes, left_on='EQUIPMENT', right_on='IATA')"
   ]
  },
  {
   "cell_type": "markdown",
   "metadata": {},
   "source": []
  },
  {
   "cell_type": "markdown",
   "metadata": {},
   "source": [
    "Let's stop and look at what is going on in the above command. \n",
    "\n",
    "It is important to understand the type of merge, as specified by the how option.  Here is what the pandas docs say:\n",
    "\n",
    "\n",
    "![alt text](img/how.png)\n",
    "\n",
    "\n",
    "![alt text](img/how2.png)\n",
    "\n",
    "So it looks like the above merge defaulted to an inner join"
   ]
  },
  {
   "cell_type": "markdown",
   "metadata": {},
   "source": [
    "\n",
    "![alt text](img/inner.png)"
   ]
  },
  {
   "cell_type": "code",
   "execution_count": null,
   "metadata": {},
   "outputs": [],
   "source": [
    "# we can check this by explicitly setting the option and confirming that we get the same result  \n",
    "# next, let's check what happens if we choose the other options\n",
    "\n",
    "pd.merge(tuvalu_routes, planes, left_on='EQUIPMENT', right_on='IATA', how='inner')"
   ]
  },
  {
   "cell_type": "code",
   "execution_count": null,
   "metadata": {},
   "outputs": [],
   "source": [
    "# outer join\n",
    "\n",
    "pd.merge(tuvalu_routes, planes, left_on='EQUIPMENT', right_on='IATA', how='outer')"
   ]
  },
  {
   "cell_type": "code",
   "execution_count": null,
   "metadata": {},
   "outputs": [],
   "source": [
    "# left join\n",
    "\n",
    "pd.merge(tuvalu_routes, planes, left_on='EQUIPMENT', right_on='IATA', how='left')"
   ]
  },
  {
   "cell_type": "code",
   "execution_count": null,
   "metadata": {},
   "outputs": [],
   "source": [
    "# right join\n",
    "\n",
    "pd.merge(tuvalu_routes, planes, left_on='EQUIPMENT', right_on='IATA', how='right')"
   ]
  },
  {
   "cell_type": "markdown",
   "metadata": {},
   "source": [
    "I find that I most often want a left join, as described here: \n",
    "\n",
    "![alt text](img/left.png)"
   ]
  },
  {
   "cell_type": "markdown",
   "metadata": {},
   "source": [
    "It may be worth examining some of the other options used in merge().  We can refer to the pandas documentation to learn more. \n",
    "\n",
    "https://pandas.pydata.org/pandas-docs/stable/user_guide/merging.html#database-style-dataframe-or-named-series-joining-merging"
   ]
  },
  {
   "cell_type": "code",
   "execution_count": null,
   "metadata": {},
   "outputs": [],
   "source": []
  },
  {
   "cell_type": "markdown",
   "metadata": {},
   "source": [
    "#### Your turn\n",
    "\n",
    "Now let's look at which airlines operate in and out of Lexington.  How many routes does each airline have?  \n",
    "\n",
    "First, let's spend some time planning together.  Then individually take some time to implement the code we planned. "
   ]
  },
  {
   "cell_type": "code",
   "execution_count": null,
   "metadata": {},
   "outputs": [],
   "source": []
  },
  {
   "cell_type": "code",
   "execution_count": null,
   "metadata": {},
   "outputs": [],
   "source": []
  },
  {
   "cell_type": "code",
   "execution_count": null,
   "metadata": {},
   "outputs": [],
   "source": []
  },
  {
   "cell_type": "markdown",
   "metadata": {},
   "source": [
    "#### It looks like there are some international airlines with Lexington routes.  \n",
    "\n",
    "To look at how many routes they have, create a new column in your dataframe called 'International', which is set to True for an overseas airline and False for a domestic airline.  Calculate the percent of routes with an overseas airline.  \n",
    "\n",
    "You should have the tools you need to answer this question using what we learned in last week's lesson.  Again, let's start by planning together, then implement the code on your own.  "
   ]
  },
  {
   "cell_type": "code",
   "execution_count": null,
   "metadata": {},
   "outputs": [],
   "source": []
  },
  {
   "cell_type": "code",
   "execution_count": null,
   "metadata": {},
   "outputs": [],
   "source": []
  },
  {
   "cell_type": "markdown",
   "metadata": {},
   "source": [
    "#### Codeshares\n",
    "\n",
    "It looks like a bunch of these routes are codeshares.  That means they are marketed by this airline, but operated by a different airline.  See the note in the data documentation on openflights.org/data.  The implication of this is that there are duplicates.\n",
    "\n",
    "Can you figure out which ones are duplicates?  Can you then create a dataframe with only the unique routes?  How many unique inbound and outbound routes are there? \n",
    "\n",
    "Remember, someone has to operate the flight, so if all the routes to/from a particular airport are listed as codeshares, then something is funny...\n",
    "\n",
    "It is also possible that more than one airline actually operates a route between the same two airports. (Having this sort of competition generally means that you will get better fares as a traveler.)  It may not be obvious what is actually in the data set, so dig or do external research as needed.  \n",
    "\n",
    "It is this sort of messiness that will consume much of your effort in research and data science.  It is very important to \"become one with your data\". \n",
    "\n",
    "Figuring this out will be the first part of your homework.  "
   ]
  },
  {
   "cell_type": "markdown",
   "metadata": {},
   "source": [
    "### Review Questions: \n",
    "\n",
    "1. What is a key in relational data? \n",
    "\n",
    "2. Explain the difference between a left join and an outer join.  \n",
    "\n",
    "3. Explain the difference between pd.concat() and pd.merge()\n",
    "\n",
    "4. Identify two possible places to look for help if you get stuck on the homework. "
   ]
  },
  {
   "cell_type": "code",
   "execution_count": null,
   "metadata": {},
   "outputs": [],
   "source": []
  },
  {
   "cell_type": "code",
   "execution_count": null,
   "metadata": {},
   "outputs": [],
   "source": []
  },
  {
   "cell_type": "markdown",
   "metadata": {},
   "source": [
    "### Homework 1 - Code shares\n",
    "\n",
    "Dig into the data as described above, and do your best to identify which routes are code shares, and how many unique routes operate into/out of Lexington."
   ]
  },
  {
   "cell_type": "code",
   "execution_count": null,
   "metadata": {},
   "outputs": [],
   "source": []
  },
  {
   "cell_type": "code",
   "execution_count": null,
   "metadata": {},
   "outputs": [],
   "source": []
  },
  {
   "cell_type": "markdown",
   "metadata": {},
   "source": [
    "### Homework 2 - The Kevin Bacon Game\n",
    "\n",
    "Of course, it is possible to fly beyond those few cities from Lexington--you just have to transfer to get there.  Your task is to:\n",
    "\n",
    "1. Identify which airports you can get to from Lexington with only one transfer.  \n",
    "2. Identify which airports you can get to from Lexington with two transfers.\n",
    "\n",
    "You have the tools to do this using the merge functionality presented today, but you will need to be smart about what you are merging.  \n",
    "\n",
    "Next class, we will use these data to make interactive maps of these flight routes, similar to what you see in the back of the airline magazines.  \n",
    "\n",
    "\n",
    "#### Bonus: \n",
    "\n",
    "This is the air travel version of the Kevin Bacon game (https://oracleofbacon.org/). What is the number N, such that you can reach every airport in the world with N or fewer transfers?\n",
    "\n",
    "#### Extra Bonus: \n",
    "\n",
    "Use this very important piece of knowledge to impress your friends at parties!"
   ]
  },
  {
   "cell_type": "code",
   "execution_count": null,
   "metadata": {},
   "outputs": [],
   "source": []
  },
  {
   "cell_type": "code",
   "execution_count": null,
   "metadata": {},
   "outputs": [],
   "source": []
  }
 ],
 "metadata": {
  "anaconda-cloud": {},
  "kernelspec": {
   "display_name": "Python 3",
   "language": "python",
   "name": "python3"
  },
  "language_info": {
   "codemirror_mode": {
    "name": "ipython",
    "version": 3
   },
   "file_extension": ".py",
   "mimetype": "text/x-python",
   "name": "python",
   "nbconvert_exporter": "python",
   "pygments_lexer": "ipython3",
   "version": "3.8.5"
  }
 },
 "nbformat": 4,
 "nbformat_minor": 1
}
